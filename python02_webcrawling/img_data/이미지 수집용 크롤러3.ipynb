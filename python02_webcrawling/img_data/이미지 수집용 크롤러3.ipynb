{
 "cells": [
  {
   "cell_type": "markdown",
   "metadata": {},
   "source": [
    "## img url 받아오는 다양한 방법 2\n",
    "\n",
    "이미지 데이터를 받아오려는 페이지의 이미지가 링크로 연결된 배경이미지인 경우\n",
    "(소스코드에서 a 태그안에 style의 background url로 지정되어있는경우)\n",
    "\n",
    "각 tab당, 폴더를 만들어서 폴더에 tab안의 이미지 저장"
   ]
  },
  {
   "cell_type": "code",
   "execution_count": null,
   "metadata": {},
   "outputs": [],
   "source": [
    "#step1. 필요한 모듈과 라ㅣ브러리를 로딩하고 검색어를 입력받는다\n",
    "from bs4 import BeautifulSoup\n",
    "from selenium import webdriver\n",
    "import urllib.request\n",
    "import urllib\n",
    "\n",
    "import math\n",
    "import time\n",
    "import sys\n",
    "import os\n",
    "\n",
    "f_dir = input('사진을 저장 할 폴더를 지정하세요:(C:\\\\Study\\\\Python\\\\notebook\\\\data\\\\)')"
   ]
  },
  {
   "cell_type": "code",
   "execution_count": null,
   "metadata": {},
   "outputs": [],
   "source": [
    "#step3. 크롬 드라이버를 사용해서 웹 브라우저를 실행한다\n",
    "path = 'C:\\\\Study\\\\Python\\\\datadown\\\\chromedriver.exe'\n",
    "driver = webdriver.Chrome(path)\n",
    "\n",
    "s_time = time.time() # 크롤링 시작 시간을 위한 타임 스탬프를 찍기\n",
    "driver.get(\"https://korean.visitkorea.or.kr/detail/cs_detail_cos.do?cotid=1923378b-3e45-4ae9-8610-c8235636ba5e&big_category=A01&mid_category=A0100&big_area=39\")\n",
    "time.sleep(2)\n",
    "\n",
    "#pc version으로 진행위해 window크기 maximize\n",
    "#내용을 불러오기위해 특정 경로 click시, xpath가 pc vr.과 mobile vr.이 다르다.\n",
    "driver.maximize_window() "
   ]
  },
  {
   "cell_type": "code",
   "execution_count": null,
   "metadata": {},
   "outputs": [],
   "source": [
    "#step4. 스크롤다움 함수를 생성한 후 실행하기\n",
    "def scroll_down(driver):\n",
    "    driver.execute_script(\"window.scrollTo(0, document.body.scrollHeight);\") #0부터 페이지끝까지\n",
    "    time.sleep(1) #내려갈 시간주기\n",
    "    \n",
    "scroll_down(driver)"
   ]
  },
  {
   "cell_type": "code",
   "execution_count": null,
   "metadata": {},
   "outputs": [],
   "source": [
    "#Step 5. 이미지 추출하여 저장하기\n",
    "\n",
    "img_src2=[] #img url을 가진 리스트\n",
    "f_dir_list=[]\n",
    "\n",
    "num_thumbs=4\n",
    "for x in range(1,num_thumbs+1):\n",
    "    driver.find_element_by_xpath('//*[@id=\"contents\"]/div[2]/div[6]/div[1]/div[1]/div/ul/li[%s]/a'%x).click()\n",
    "        \n",
    "    time.sleep(2)\n",
    "    \n",
    "    html = driver.page_source\n",
    "    soup = BeautifulSoup(html,'html.parser')\n",
    "    \n",
    "    #query이름으로 폳더생성\n",
    "    tag = soup.find('div',\"cos_cont active\")\n",
    "    q = tag.find('div','tit_wrap').find('strong').get_text()\n",
    "    print(q)\n",
    "    now = time.localtime()\n",
    "    s = '{}-{}-{}-{}-{}' .format(now.tm_year, now.tm_mon, now.tm_mday, now.tm_hour, now.tm_min)\n",
    "    \n",
    "    os.makedirs(f_dir+s+'-'+q)\n",
    "    f_dir_name = f_dir+s+'-'+q\n",
    "    f_dir_list.append(f_dir_name)\n",
    "    \n",
    "    tag2 = tag.find('div','info_area pc').find_all('a')\n",
    "    \n",
    "    #폴더별 img url을 가진 리스트 \n",
    "    img_src1=[]\n",
    "    \n",
    "    for i in tag2:\n",
    "        img_src = i['style'].split(\"(\")[1].split(\")\")[0]\n",
    "        img_src1.append(img_src) #리스트에 저장  \n",
    "    \n",
    "    img_src2.append(img_src1)"
   ]
  },
  {
   "cell_type": "code",
   "execution_count": null,
   "metadata": {},
   "outputs": [],
   "source": [
    "#폴더별로 이미지 저장\n",
    "for i in range(0,len(img_src2)):\n",
    "    file_no=0 #이미지 순번   \n",
    "    #이미지를 저장하려는 위치로 디렉토리를 변경\n",
    "    os.chdir(f_dir_list[i])\n",
    "        \n",
    "    for j in range(0,len(img_src2[i])):\n",
    "        try:\n",
    "            urllib.request.urlretrieve(img_src2[i][j],str(file_no)+'.jpg')\n",
    "        except:\n",
    "            continue\n",
    "        file_no+=1\n",
    "        time.sleep(0.5)\n",
    "        print(\"%s번째 이미지 저장중입니다.\"%file_no)"
   ]
  },
  {
   "cell_type": "code",
   "execution_count": null,
   "metadata": {},
   "outputs": [],
   "source": [
    "#step6. 요약정보 출력하기\n",
    "e_time = time.time()\n",
    "d_time = e_time - s_time\n",
    "\n",
    "print(\"=\" *70)\n",
    "print(\"총 소요시간은 %s 초 입니다 \" %round(d_time,1))\n",
    "print(\"총 저장 건수는 %s 건 입니다 \" %(file_no*len(f_dir_list)))\n",
    "print(\"파일이 저장된 폴더들의 경로는 입니다\")\n",
    "for x in f_dir_list:\n",
    "    print(x)\n",
    "print(\"=\" *70)\n",
    " \n",
    "driver.close( )"
   ]
  }
 ],
 "metadata": {
  "kernelspec": {
   "display_name": "pydata",
   "language": "python",
   "name": "pydata"
  },
  "language_info": {
   "codemirror_mode": {
    "name": "ipython",
    "version": 3
   },
   "file_extension": ".py",
   "mimetype": "text/x-python",
   "name": "python",
   "nbconvert_exporter": "python",
   "pygments_lexer": "ipython3",
   "version": "3.7.10"
  }
 },
 "nbformat": 4,
 "nbformat_minor": 4
}

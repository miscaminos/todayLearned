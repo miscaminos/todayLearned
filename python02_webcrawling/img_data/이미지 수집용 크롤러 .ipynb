{
 "cells": [
  {
   "cell_type": "code",
   "execution_count": null,
   "metadata": {},
   "outputs": [],
   "source": [
    "# 이미지 다운로드용 web crawler 만들기\n",
    "\n",
    "#step1. 필요한 모듈과 라ㅣ브러리를 로딩하고 검색어를 입력받는다\n",
    "from bs4 import BeautifulSoup\n",
    "from selenium import webdriver\n",
    "import urllib.request\n",
    "import urllib\n",
    "\n",
    "import math\n",
    "import time\n",
    "import sys\n",
    "import os\n",
    "\n",
    "f_dir = input('사진을 저장 할 폴더를 지정하세요:(C:\\\\Study\\\\Python\\\\notebook\\\\data\\\\)')\n",
    "query_txt = '사진저장'"
   ]
  },
  {
   "cell_type": "code",
   "execution_count": null,
   "metadata": {},
   "outputs": [],
   "source": [
    "#step2. 파일을 저장 할 폴더를 생성한다\n",
    "now = time.localtime()\n",
    "s = '{}-{}-{}-{}-{}' .format(now.tm_year, now.tm_mon, now.tm_mday, now.tm_hour, now.tm_min)\n",
    "\n",
    "os.makedirs(f_dir+s+'-'+query_txt)\n",
    "f_dir_name = f_dir+s+'-'+query_txt\n",
    "print(f_dir_name)"
   ]
  },
  {
   "cell_type": "code",
   "execution_count": null,
   "metadata": {},
   "outputs": [],
   "source": [
    "#step3. 크롬 드라이버를 사용해서 웹 브라우저를 실행한다\n",
    "path = 'C:\\\\Study\\\\Python\\\\datadown\\\\chromedriver.exe'\n",
    "driver = webdriver.Chrome(path)\n",
    "\n",
    "s_time = time.time() # 크롤링 시작 시간을 위한 타임 스탬프를 찍기\n",
    "driver.get(\"https://korean.visitkorea.or.kr/detail/rem_detail.do?cotid=df3f6275-06a8-4d1c-ae7e-40a2b5276bcd&temp=\")\n",
    "time.sleep(2)"
   ]
  },
  {
   "cell_type": "code",
   "execution_count": null,
   "metadata": {},
   "outputs": [],
   "source": [
    "#step4. 스크롤다움 함수를 생성한 후 실행하기\n",
    "def scroll_down(driver):\n",
    "    driver.execute_script(\"window.scrollTo(0, document.body.scrollHeight);\") #0부터 페이지끝까지\n",
    "    time.sleep(1) #내려갈 시간주기\n",
    "    \n",
    "scroll_down(driver)"
   ]
  },
  {
   "cell_type": "markdown",
   "metadata": {},
   "source": [
    "자동 스크롤다운 함수 만들기\n",
    "- 마우스의 휠을 스크롤하면 OS(원도, MacOS, Linux)등은 특정한 이벤트를\n",
    "  발생시키고 사용자가 마우스 휠을 돌렸다는 것을 알고 그에 해당하는\n",
    "  행동을 함으로써 화면이 위/아래로 움직이게 된다.\n",
    "- 위와 같은 역할을 하는 window.scrollTo(이동할 값) 함수가 윈도에 제공되어진다. \n",
    "  이동할 값은 x좌표,y좌표 형식이 된다.\n",
    "- 사용자 함수를 만들어 driver.execute_script()함수를 호출한다. 이함수는\n",
    "  인자로 OS 있는 특정 함수나, 스크립트를 실행할 수 있다.\n",
    "- window.scrollTo(x좌표,y좌표) x좌표, y좌표로 스크롤 이동(기준값 절대좌표)\n",
    "- window.scrollBy(x좌표,y좌표) x좌표, y좌표로 스크롤 이동(기준값 상대좌표)\n",
    "- document.body.scrollHeight는 화면 끝까지 이동할 수 있다."
   ]
  },
  {
   "cell_type": "code",
   "execution_count": null,
   "metadata": {},
   "outputs": [],
   "source": [
    "#Step 5. 이미지 추출하여 저장하기\n",
    "file_no=0 #이미지 순번\n",
    "img_src2=[] #src값들 넣어둘 리스트\n",
    "\n",
    "html = driver.page_source\n",
    "soup = BeautifulSoup(html,'html.parser')\n",
    "img_src = soup.find('div','box_txtPhoto').find_all('img')\n",
    "exclude_src = soup.find('div','footer').find_all('img') #제외하고싶은 footer의 광고 이미지\n",
    "\n",
    "#for-loop보완필요. exclude가 제외되지않고있음..!!\n",
    "for i in img_src:\n",
    "    img_src1=i['src'] #이미지 태그의 src속성값(파일경로및파일명) 가져옴\n",
    "    for j in exclude_src:\n",
    "        if img_src1==j['src']:\n",
    "            continue\n",
    "    img_src2.append(img_src1) #리스트에 저장\n",
    "\n",
    "\n",
    "img_src2"
   ]
  },
  {
   "cell_type": "code",
   "execution_count": null,
   "metadata": {},
   "outputs": [],
   "source": [
    "#그냥 바로 다운 받으면, 현 위치에 바로 다운되기때문에\n",
    "#이미지를 저장하려는 위치로 디렉토리를 변경해야한다.\n",
    "os.chdir(f_dir+s+'-'+query_txt)\n",
    "\n",
    "#img_src2리스트 길이만큼 urlretreieve를 반복\n",
    "for i in range(0,len(img_src2)):\n",
    "    try:\n",
    "        urllib.request.urlretrieve(img_src2[i],str(file_no)+'.jpg')\n",
    "    except:\n",
    "        continue\n",
    "    file_no+=1\n",
    "    time.sleep(0.5)\n",
    "    print(\"%s번째 이미지 저장중입니다.\"%file_no)"
   ]
  },
  {
   "cell_type": "code",
   "execution_count": null,
   "metadata": {},
   "outputs": [],
   "source": [
    "#step6. 요약정보 출력하기\n",
    "e_time = time.time()\n",
    "d_time = e_time - s_time\n",
    "\n",
    "print(\"=\" *70)\n",
    "print(\"총 소요시간은 %s 초 입니다 \" %round(d_time,1))\n",
    "print(\"총 저장 건수는 %s 건 입니다 \" %file_no)\n",
    "print(\"파일이 저장된 폴더 경로는 %s 입니다\" %f_dir_name)\n",
    "print(\"=\" *70)\n",
    " \n",
    "driver.close( )"
   ]
  }
 ],
 "metadata": {
  "kernelspec": {
   "display_name": "pydata",
   "language": "python",
   "name": "pydata"
  },
  "language_info": {
   "codemirror_mode": {
    "name": "ipython",
    "version": 3
   },
   "file_extension": ".py",
   "mimetype": "text/x-python",
   "name": "python",
   "nbconvert_exporter": "python",
   "pygments_lexer": "ipython3",
   "version": "3.7.10"
  }
 },
 "nbformat": 4,
 "nbformat_minor": 4
}

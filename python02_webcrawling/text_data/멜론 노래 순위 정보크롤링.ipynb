{
 "cells": [
  {
   "cell_type": "markdown",
   "metadata": {},
   "source": [
    "## 멜론 노래 순위 정보크롤링\n",
    "\n",
    "- 멜론사이트(www.melon.com)에서 인기차트의 상위 50곡 정보를 크롤링한다.\n",
    "- 크롬드라이버를 실행해서 브라우저를 열고 실행한다."
   ]
  },
  {
   "cell_type": "code",
   "execution_count": null,
   "metadata": {},
   "outputs": [],
   "source": [
    "from selenium import webdriver\n",
    "from bs4 import BeautifulSoup\n",
    "\n",
    "driver = webdriver.Chrome(\"C:/Study/Python/datadown/chromedriver.exe\")\n",
    "\n",
    "url=\"https://www.melon.com/chart/day/index.htm\"\n",
    "driver.get(url)\n",
    "\n",
    "html = driver.page_source\n",
    "soup = BeautifulSoup(html, 'html.parser')"
   ]
  },
  {
   "cell_type": "code",
   "execution_count": null,
   "metadata": {},
   "outputs": [],
   "source": [
    "songs = soup.select('#lst50')\n",
    "print(len(songs))\n",
    "print(songs[0])"
   ]
  },
  {
   "cell_type": "code",
   "execution_count": null,
   "metadata": {},
   "outputs": [],
   "source": [
    "song = songs[0]\n",
    "title = song.select('div.ellipsis.rank01 > span > a')\n",
    "len(title)\n",
    "title"
   ]
  },
  {
   "cell_type": "code",
   "execution_count": null,
   "metadata": {},
   "outputs": [],
   "source": [
    "title = song.select('div.ellipsis.rank01 > span > a')[0].text\n",
    "title"
   ]
  },
  {
   "cell_type": "code",
   "execution_count": null,
   "metadata": {},
   "outputs": [],
   "source": [
    "singer = song.select('div.ellipsis.rank02 > a')[0].text\n",
    "singer"
   ]
  },
  {
   "cell_type": "code",
   "execution_count": null,
   "metadata": {},
   "outputs": [],
   "source": [
    "for song in songs:\n",
    "    title = song.select('div.ellipsis.rank01 > span > a')[0].text\n",
    "    singer = song.select('div.ellipsis.rank02 > a')[0].text\n",
    "    print(title, singer, sep='|')"
   ]
  },
  {
   "cell_type": "markdown",
   "metadata": {},
   "source": [
    "### 실습\n",
    "melon 사이트에서 melon chart의 노래 데이터 excel file에 저장하기"
   ]
  },
  {
   "cell_type": "code",
   "execution_count": null,
   "metadata": {},
   "outputs": [],
   "source": [
    "import pandas as pd\n",
    "from selenium import webdriver\n",
    "from bs4 import BeautifulSoup\n",
    "\n",
    "driver = webdriver.Chrome(\"C:/Study/Python/datadown/chromedriver.exe\")\n",
    "\n",
    "url=\"https://www.melon.com/chart/day/index.htm\"\n",
    "driver.get(url)\n",
    "\n",
    "html = driver.page_source\n",
    "soup = BeautifulSoup(html, 'html.parser')\n",
    "\n",
    "#멜론차트 내용 저장할 리스트에 선언\n",
    "no_list=[]\n",
    "song_list=[]\n",
    "singer_list=[]\n",
    "no=1\n",
    "\n",
    "#soup객체로 html소스코드에서 태그 id='#lst50' 그리고 '#lst100'인 태그들을 가져오기\n",
    "songs50 = soup.select('#lst50')\n",
    "songs100 = soup.select('#lst100')\n",
    "\n",
    "#가져온 태그들에서 필요한 정보만 출력 & 각 리스트에 저장\n",
    "for song in songs50:\n",
    "    no_list.append(no)\n",
    "    title = song.select('div.ellipsis.rank01 > span > a')[0].text\n",
    "    song_list.append(title)\n",
    "    singer = song.select('div.ellipsis.rank02 > a')[0].text\n",
    "    singer_list.append(singer)\n",
    "    print(title, singer, sep='|')\n",
    "    no+=1\n",
    "    \n",
    "for song in songs100:\n",
    "    no_list.append(no)\n",
    "    title = song.select('div.ellipsis.rank01 > span > a')[0].text\n",
    "    song_list.append(title)\n",
    "    singer = song.select('div.ellipsis.rank02 > a')[0].text\n",
    "    singer_list.append(singer)\n",
    "    print(title, singer, sep='|')\n",
    "    no+=1\n",
    "\n",
    "#dataframe 표 형태 생성 및 각 column지정\n",
    "melon_chart=pd.DataFrame()\n",
    "melon_chart['순위']=no_list\n",
    "melon_chart['노래 제목']=song_list\n",
    "melon_chart['가수']=singer_list\n",
    "\n",
    "#excel파일로 dataframe 저장하기\n",
    "#openpyxl은 한번 install한 후, 매번 import하지 않아도된다.(새로 workbook을 생성하려면 import해야함)\n",
    "fx_name = 'C:\\\\Study\\\\Python\\\\notebook\\\\data2\\\\melon_20210421.xlsx'\n",
    "melon_chart.to_excel(fx_name, encoding='utf-8-sig', index=False)\n",
    "\n",
    "driver.close()"
   ]
  }
 ],
 "metadata": {
  "kernelspec": {
   "display_name": "pydata",
   "language": "python",
   "name": "pydata"
  },
  "language_info": {
   "codemirror_mode": {
    "name": "ipython",
    "version": 3
   },
   "file_extension": ".py",
   "mimetype": "text/x-python",
   "name": "python",
   "nbconvert_exporter": "python",
   "pygments_lexer": "ipython3",
   "version": "3.7.10"
  }
 },
 "nbformat": 4,
 "nbformat_minor": 4
}

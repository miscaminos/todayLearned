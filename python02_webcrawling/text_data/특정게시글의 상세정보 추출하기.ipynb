{
 "cells": [
  {
   "cell_type": "markdown",
   "metadata": {},
   "source": [
    "### 상세페이지의 정보 추출\n",
    "keypoint: series의 활용\n",
    "\n",
    "Series 객체를 사용:\n",
    "Series: DataFrame은 컬럼별 행수가 틀릴 경우에는 오류가 난다. 이럴 때는 Series 유형을 사용하여 표를 만든다.  \n",
    "series는 pandas의 클래스로 python의 리스트,사전하고 비슷하다.\n",
    "\n",
    "상세페이지에서 받아오는 contents(페이지의 상세내용 텍스트)와 tags(내용안에 들어간 hashtag)는 갯수가 다르다.\n",
    "이런 경우 페이지 내용을 csv, excel파일에 함께 저장하는 방법을 구현했다.\n",
    "각각 contents와 tags를 각각의 column에 저장되고 데이터 갯수가 다름으로 다른 row수를 갖는다."
   ]
  },
  {
   "cell_type": "code",
   "execution_count": null,
   "metadata": {},
   "outputs": [],
   "source": [
    "#Step 1. 필요한 모듈과 라이브러리를 import 합니다\n",
    "from bs4 import BeautifulSoup\n",
    "from selenium import webdriver\n",
    "import time\n",
    " \n",
    "import math \n",
    "import pandas as pd  "
   ]
  },
  {
   "cell_type": "code",
   "execution_count": null,
   "metadata": {},
   "outputs": [],
   "source": [
    "#Step 2. 필요한 정보를 입력 받습니다\n",
    "ft_name = input('검색 결과를 저장할 txt 파일경로와 이름을 지정하세요(예:C:\\\\Study\\\\Python\\\\notebook\\\\data\\\\test4.txt): ')\n",
    "fc_name = input('검색 결과를 저장할 csv 파일경로와 이름을 지정하세요(예:C:\\\\Study\\\\Python\\\\notebook\\\\data\\\\test4.csv): ')\n",
    "fx_name = input('검색 결과를 저장할 xls 파일경로와 이름을 지정하세요(C:\\\\Study\\\\Python\\\\notebook\\\\data\\\\test4.xlsx): ')\n",
    "\n",
    "s_time = time.time()\n",
    "\n",
    "path = \"C:\\\\Study\\\\Python\\\\datadown\\\\chromedriver.exe\"\n",
    "driver = webdriver.Chrome(path)\n",
    "\n",
    "driver.get(\"https://korean.visitkorea.or.kr/detail/rem_detail.do?cotid=12889bc2-8c0b-4cb9-b511-c4abce3785b0&con_type=11000\")\n",
    "time.sleep(2)"
   ]
  },
  {
   "cell_type": "code",
   "execution_count": null,
   "metadata": {},
   "outputs": [],
   "source": [
    "html=driver.page_source\n",
    "soup = BeautifulSoup(html,'html.parser')\n",
    "\n",
    "content_list = soup.find_all('div','txt_p')\n",
    "content_list"
   ]
  },
  {
   "cell_type": "code",
   "execution_count": null,
   "metadata": {},
   "outputs": [],
   "source": [
    "for i in content_list:\n",
    "    contents = i.get_text().replace('\\n','')\n",
    "    print(contents)\n",
    "    print('\\n')"
   ]
  },
  {
   "cell_type": "code",
   "execution_count": null,
   "metadata": {},
   "outputs": [],
   "source": [
    "contents2=[]\n",
    "tags2=[]"
   ]
  },
  {
   "cell_type": "code",
   "execution_count": null,
   "metadata": {},
   "outputs": [],
   "source": [
    "print(\"\\n\")\n",
    "print(\"데이터 추출 시작합니다===========================\")\n",
    "print(\"\\n\")\n",
    "\n",
    "f= open(ft_name, 'a', encoding='utf-8')\n",
    "\n",
    "for i in content_list:\n",
    "    contents = i.get_text().replace('\\n','')\n",
    "    contents2.append(contents)\n",
    "    f.write(str(contents)+'\\n')\n",
    "    print(contents)\n",
    "    \n",
    "tag_list = soup.find_all('ul','tag clfix')\n",
    "\n",
    "for i in tag_list:\n",
    "    print(\"\\n\")\n",
    "    tags = i.get_text()\n",
    "    tags2.append(tags)\n",
    "    f.write(str(tags))\n",
    "    print(tags)\n",
    "    \n",
    "f.close()"
   ]
  },
  {
   "cell_type": "code",
   "execution_count": null,
   "metadata": {},
   "outputs": [],
   "source": [
    "#추출된 데이터 다양한 형식의 파일로 저장\n",
    "\n",
    "korea_trip = pd.DataFrame()\n",
    "korea_trip['내용'] = pd.Series(contents2)\n",
    "korea_trip['태그'] = pd.Series(tags2)\n",
    "\n",
    "print(korea_trip)"
   ]
  },
  {
   "cell_type": "code",
   "execution_count": null,
   "metadata": {},
   "outputs": [],
   "source": [
    "#csv 형태로 저장하기\n",
    "korea_trip.to_csv(fc_name, encoding='utf-8-sig', index=False)\n",
    "#excel형태로 저장하기\n",
    "korea_trip.to_excel(fx_name, index=False)"
   ]
  },
  {
   "cell_type": "code",
   "execution_count": null,
   "metadata": {},
   "outputs": [],
   "source": [
    "#요약 정보 보여주기\n",
    "e_time = time.time()\n",
    "d_time = e_time-s_time\n",
    "\n",
    "print(\"\\n\")\n",
    "print(\"-\"*70)\n",
    "print(\"총 소요시간은 {}초 입니다.\" .format(d_time,1))\n",
    "print(\"파일 저장 완료: txt파일명: %s\" %ft_name)\n",
    "print(\"파일 저장 완료: csv파일명: %s\" %fc_name)\n",
    "print(\"파일 저장 완료: xlsx파일명: %s\" %fx_name)\n",
    "print(\"-\"*70)\n",
    "\n",
    "driver.close()"
   ]
  },
  {
   "cell_type": "code",
   "execution_count": null,
   "metadata": {},
   "outputs": [],
   "source": [
    "##########################################################################\n",
    "# practice:\n",
    "# 한번에 진행\n",
    "\n",
    "from bs4 import BeautifulSoup\n",
    "from selenium import webdriver\n",
    "import pandas as pd\n",
    "import time\n",
    "import math\n",
    "\n",
    "s_time=time.time()\n",
    "\n",
    "#저장할 text파일 경로를 변수에 담는다\n",
    "f_name=input('저장할 파일 이름과 경로 입력:(예)C:\\\\Study\\\\Python\\\\notebook\\\\data\\\\jeju.txt):')\n",
    "\n",
    "#저장할 excel파일 경로를 변수에 담는다\n",
    "fx_name=input('저장할 파일 이름과 경로 입력:(예)C:\\\\Study\\\\Python\\\\notebook\\\\data\\\\jeju.xlsx):')\n",
    "\n",
    "path = 'C:\\\\Study\\\\Python\\\\datadown\\\\chromedriver.exe'\n",
    "driver = webdriver.Chrome(path)\n",
    "driver.get(\"https://korean.visitkorea.or.kr/detail/rem_detail.do?cotid=12889bc2-8c0b-4cb9-b511-c4abce3785b0&con_type=11000\")\n",
    "\n",
    "time.sleep(2)\n",
    "\n",
    "html = driver.page_source\n",
    "soup = BeautifulSoup(html,'html.parser')\n",
    "\n",
    "content_list=soup.find_all('div','txt_p')\n",
    "tag_list=soup.find_all('ul','tag clfix')\n",
    "\n",
    "contents2=[]\n",
    "tags2=[]\n",
    "\n",
    "f=open(f_name,'a',encoding='utf-8')\n",
    "\n",
    "for i in content_list:\n",
    "    contents = i.get_text()\n",
    "    contents2.append(contents)\n",
    "    f.write(str(contents) + '\\n')\n",
    "    \n",
    "for i in tag_list:    \n",
    "    tags = i.get_text()\n",
    "    tags2.append(tags)\n",
    "    f.write(str(tags))\n",
    "    \n",
    "f.close()\n",
    "\n",
    "jeju_trip = pd.DataFrame()\n",
    "jeju_trip['내용'] = pd.Series(contents2)\n",
    "jeju_trip['태그'] = pd.Series(tags2)\n",
    "\n",
    "jeju_trip.to_excel(fx_name, index=False)\n",
    "\n",
    "e_time=time.time()\n",
    "d_time=e_time-s_time\n",
    "\n",
    "print(\"\\n\") \n",
    "print(\"=\" *80)\n",
    "print(\"총 소요시간은 %s 초 입니다 \" %round(d_time,1))\n",
    "print(\"파일 저장 완료: txt 파일명 : %s \" %f_name)\n",
    "print(\"파일 저장 완료: xls 파일명 : %s \" %fx_name)\n",
    "print(\"=\" *80)\n",
    " \n",
    "driver.close( )"
   ]
  }
 ],
 "metadata": {
  "kernelspec": {
   "display_name": "pydata",
   "language": "python",
   "name": "pydata"
  },
  "language_info": {
   "codemirror_mode": {
    "name": "ipython",
    "version": 3
   },
   "file_extension": ".py",
   "mimetype": "text/x-python",
   "name": "python",
   "nbconvert_exporter": "python",
   "pygments_lexer": "ipython3",
   "version": "3.7.10"
  }
 },
 "nbformat": 4,
 "nbformat_minor": 4
}

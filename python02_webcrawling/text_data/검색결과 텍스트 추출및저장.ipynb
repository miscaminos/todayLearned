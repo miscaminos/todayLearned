{
 "cells": [
  {
   "cell_type": "markdown",
   "metadata": {},
   "source": [
    "## 검색결과 텍스트로 추출"
   ]
  },
  {
   "cell_type": "code",
   "execution_count": null,
   "metadata": {},
   "outputs": [],
   "source": [
    "#(1) 검색결과에서 텍스트 데이터만 추출하기\n",
    "\n",
    "# Step 0. 필요한 모듈과 라이브러리를 로딩하고 검색어를 입력 받습니다\n",
    "from bs4 import BeautifulSoup\n",
    "from selenium import webdriver\n",
    "import time\n",
    "\n",
    "query_txt = input('crawling할 키워드 입력하세요:')\n",
    "f_name = input('검색 결과를 저장 할 파일 경로와 이름을 지정하세요:')"
   ]
  },
  {
   "cell_type": "code",
   "execution_count": null,
   "metadata": {},
   "outputs": [],
   "source": [
    "#Step 1. 크롬 드라이버를 사용해서 웹 브라우저를 실행합니다.\n",
    "path = \"C:/Study/Python/datadown/chromedriver.exe\"\n",
    "driver = webdriver.Chrome(path)\n",
    "driver.get(\"https://korean.visitkorea.or.kr\")\n",
    "time.sleep(2)\n",
    "\n",
    "#코로나 얼럿창 있을 경우 닫기 클릭하기 //*[@id=\"chkForm01\"]\n",
    "try :\n",
    "    driver.find_element_by_xpath('//*[@id=\"chkForm01\"]').click()\n",
    "except :\n",
    "    print(\"코로나 창이 없습니다\")"
   ]
  },
  {
   "cell_type": "code",
   "execution_count": null,
   "metadata": {},
   "outputs": [],
   "source": [
    "#Step 2. 검색창의 이름을 찾아서 검색어를 입력합니다\n",
    "element = driver.find_element_by_id(\"inp_search\")\n",
    "element.send_keys(query_txt)\n",
    "element.send_keys(\"\\n\") #Enter 효과\n",
    "\n",
    "time.sleep(1)"
   ]
  },
  {
   "cell_type": "code",
   "execution_count": null,
   "metadata": {},
   "outputs": [],
   "source": [
    "full_html = driver.page_source\n",
    "full_html"
   ]
  },
  {
   "cell_type": "code",
   "execution_count": null,
   "metadata": {},
   "outputs": [],
   "source": [
    "#Step 3. 전체 HTML 소스코드를  Beautiful Soup이 분석하도록 지정한다.\n",
    "soup = BeautifulSoup(full_html, 'html.parser')"
   ]
  },
  {
   "cell_type": "code",
   "execution_count": null,
   "metadata": {},
   "outputs": [],
   "source": [
    "#Step 4. html 소스코드를 변수에 담아온다\n",
    "content_list = soup.find('ul','list_thumType type1')\n",
    "content_list"
   ]
  },
  {
   "cell_type": "code",
   "execution_count": null,
   "metadata": {},
   "outputs": [],
   "source": [
    "for i in content_list:\n",
    "    print(i.text.strip())\n",
    "    print('\\n')"
   ]
  },
  {
   "cell_type": "markdown",
   "metadata": {},
   "source": [
    "### 추출한 텍스트 저장하기\n",
    "\n",
    "위에서 추출한 텍스트 데이터를 파일에 저장한다.\n",
    "화면에 출력된 결과를 화면에 보이지 않고 파일로 저장한다.\n",
    "표준 출력 방향은 모니터인데 그 표준 출력 방향을 파일로 바꾸어서 파일에 출력(저장)한다.\n",
    "\n",
    "orig_stdout = sys.stdout 는 표준 출력방향을 다른변수로 지정한다.\n",
    "아래 코드는 표준 출력 방향에 이어쓰기 모드의 파일객체로 지정한다.\n",
    "  f = open(f_name , 'a' , encoding='UTF-8')\n",
    "  sys.stdout = f \n",
    "\n",
    "sys.stdout의 print함수는 이제 모니터에 출력하지 않고 파일에 저장한다."
   ]
  },
  {
   "cell_type": "code",
   "execution_count": null,
   "metadata": {},
   "outputs": [],
   "source": [
    "# Step 5. 현재 페이지에 있는 내용을 txt 형식으로 파일에 저장하기\n",
    "import sys\n",
    "\n",
    "# orig_stdout 변수를 사용해서 출력방향을 모니터-->파일로 바꾸어 \n",
    "# 텍스트파일에 내용을 출력하고\n",
    "# 완료 후, 다시 출력방향을 모니터로 돌려둔다.\n",
    "orig_stdout = sys.stdout\n",
    "f = open(f_name, 'a', encoding='utf-8')\n",
    "sys.stdout = f\n",
    "time.sleep(1)\n",
    "\n",
    "html = driver.page_source\n",
    "soup = BeautifulSoup(html,'html.parser')\n",
    "content_list = soup.find('ul',class_='list_thumType type1')\n",
    "\n",
    "for i in content_list:\n",
    "    print(i.text.strip())\n",
    "    print('\\n')\n",
    "\n",
    "sys.stdout = orig_stdout\n",
    "\n",
    "f.close()\n",
    "driver.close()"
   ]
  },
  {
   "cell_type": "code",
   "execution_count": null,
   "metadata": {},
   "outputs": [],
   "source": [
    "############################################################\n",
    "#한번에 모두 실행\n",
    "\n",
    "from bs4 import BeautifulSoup\n",
    "from selenium import webdriver\n",
    "import time\n",
    "\n",
    "query_txt = input('crawling할 키워드 입력하세요:')\n",
    "f_name = input('검색 결과를 저장 할 파일 경로와 이름을 지정하세요:')\n",
    "\n",
    "path = \"C:/Study/Python/datadown/chromedriver.exe\"\n",
    "driver = webdriver.Chrome(path)\n",
    "driver.get(\"https://korean.visitkorea.or.kr\")\n",
    "\n",
    "#브라우져가 웹페이지 열동안 2초 슬립\n",
    "time.sleep(2)\n",
    "\n",
    "#코로나 얼럿창 있을 경우 닫기 클릭하기 //*[@id=\"chkForm01\"]\n",
    "try :\n",
    "    driver.find_element_by_xpath('//*[@id=\"chkForm01\"]').click()\n",
    "except :\n",
    "    print(\"코로나 창이 없습니다\")\n",
    "\n",
    "#element의 id또는 name을 웹페이지 html 소스코드에서 가져온다 (key-in F12)\n",
    "element = driver.find_element_by_id(\"inp_search\")\n",
    "element.send_keys(query_txt)\n",
    "element.send_keys(\"\\n\") #Enter 효과\n",
    "\n",
    "#keyword로 검색한 결과페이지가 렌더링 될 동안 1초 슬립\n",
    "time.sleep(1)\n",
    "\n",
    "#열려진 브라우저의 내용을 주피터노트북(local)로 가져온다\n",
    "html = driver.page_source\n",
    "#html 소스코드를 사용하여 BeautifulSoup객체(soup)를 만들고\n",
    "soup = BeautifulSoup(html,'html.parser')\n",
    "#soup객체가 list형태로 원하는 ul태그의 list_thumType_type1 클래스 내용을 받아오게함\n",
    "content_list = soup.find('ul',class_='list_thumType type1')\n",
    "\n",
    "import sys\n",
    "\n",
    "#sys.stdout: 출력방향을 갖고있는 것. 이것을 orig_stdout이라는 변수에 담아둔다\n",
    "#(파일로 출력이 완료된 후, original_stdout에 담아두었던 sys.stdout을 다시 받아올예정)\n",
    "orig_stdout = sys.stdout \n",
    "#파일에 계속 추가하기위해, file open mode='a'\n",
    "f = open(f_name, 'a', encoding='utf-8')\n",
    "\n",
    "#출력방향을 파일로 바꾼다\n",
    "sys.stdout = f\n",
    "\n",
    "time.sleep(1)\n",
    "\n",
    "#가져온 내용을 가지고 원하는방식으로 파일에 출력\n",
    "for i in content_list:\n",
    "    print(i.text.strip())\n",
    "    print('\\n')\n",
    "\n",
    "#출력방향을 다시 모니터(콘솔창 또는 jupyter notebook output)으로 바꾼다\n",
    "sys.stdout = orig_stdout\n",
    "\n",
    "f.close()\n",
    "\n",
    "print('요청하신 작업이 완료되었습니다.')\n",
    "driver.close()\n",
    "#driver닫으면 자동으로 웹브라우져도 닫힌다."
   ]
  }
 ],
 "metadata": {
  "kernelspec": {
   "display_name": "pydata",
   "language": "python",
   "name": "pydata"
  },
  "language_info": {
   "codemirror_mode": {
    "name": "ipython",
    "version": 3
   },
   "file_extension": ".py",
   "mimetype": "text/x-python",
   "name": "python",
   "nbconvert_exporter": "python",
   "pygments_lexer": "ipython3",
   "version": "3.7.10"
  }
 },
 "nbformat": 4,
 "nbformat_minor": 4
}

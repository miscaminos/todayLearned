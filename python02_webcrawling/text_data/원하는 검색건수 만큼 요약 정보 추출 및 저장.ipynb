{
 "cells": [
  {
   "cell_type": "markdown",
   "metadata": {},
   "source": [
    "### 원하는 검색건수만큼 검색결과의 각 상세페이지에서 데이터 추출해오기\n",
    "\n",
    "crawling할 keyword를 입력하고\n",
    "웹사이트에서 조회되는 검색 결과에서 \n",
    "원하는 검색건수만큼 상세페이지를 조회하고 각 상세페이지에서 데이터를 추출한다."
   ]
  },
  {
   "cell_type": "code",
   "execution_count": null,
   "metadata": {},
   "outputs": [],
   "source": [
    "from bs4 import BeautifulSoup\n",
    "from selenium import webdriver\n",
    "import pandas as pd\n",
    "import time\n",
    "import math\n",
    "\n",
    "query_txt = input('crawling할 키워드 입력:')\n",
    "cnt = int(input('crawling할 건수를 입력하세요'))\n",
    "page_cnt = math.ceil(cnt/10)\n",
    "\n",
    "ft_name = input('txt파일명과 경로를 지정하세요(예:C:\\\\study\\\\python\\\\notebook\\\\data\\\\test.txt): ')\n",
    "fc_name = input('검색 결과를 저장할 csv 파일경로와 이름을 지정하세요(예:C:\\\\study\\\\python\\\\notebook\\\\data\\\\test.csv): ')\n",
    "fx_name = input('검색 결과를 저장할 xls 파일경로와 이름을 지정하세요(C:\\\\study\\\\python\\\\notebook\\\\data\\\\test.xlsx): ')\n",
    " \n",
    "path = \"C:/Study/Python/datadown/chromedriver.exe\"\n",
    "driver = webdriver.Chrome(path)\n",
    "driver.get(\"https://korean.visitkorea.or.kr/\")\n",
    "\n",
    "time.sleep(2)\n",
    "\n",
    "try:\n",
    "    driver.find_element_by_xpath('//*[@id=\"chkForm01\"]').click()\n",
    "except:\n",
    "    print('코로나 창이 없습니다.')\n",
    "\n",
    "element = driver.find_element_by_id('inp_search')\n",
    "element.send_keys(query_txt)\n",
    "element.send_keys(\"\\n\")\n",
    "\n",
    "time.sleep(2)\n",
    "\n",
    "html = driver.page_source\n",
    "soup = BeautifulSoup(html,'html.parser')\n",
    "\n",
    "print(\"\\n\")\n",
    "print(\"-\"*70)\n",
    "print(\"요청하신 검색 건수는 {}건이였고\" .format(cnt))\n",
    "print(\"총 {}페이지의 게시글 수집을 진행합니다.\" .format(page_cnt))\n",
    "print(\"-\"*70)\n",
    "print(\"\\n\")"
   ]
  },
  {
   "cell_type": "code",
   "execution_count": null,
   "metadata": {},
   "outputs": [],
   "source": [
    "no = 1\n",
    "no2=[]\n",
    "contents2=[]\n",
    "tags2=[]"
   ]
  },
  {
   "cell_type": "code",
   "execution_count": null,
   "metadata": {},
   "outputs": [],
   "source": [
    "s_time = time.time()\n",
    "\n",
    "#끝까지 for loop돌기위해 page_cnt+1\n",
    "for x in range(1,page_cnt+1):\n",
    "    print(\"%s 페이지 내용 수집 시작합니다\",\"-\"*40)\n",
    "    print(\"\\n\")\n",
    "    \n",
    "    time.sleep(2)\n",
    "    \n",
    "    html = driver.page_source\n",
    "    soup = BeautifulSoup(html,'html.parser')\n",
    "    content_list = soup.find('ul','list_thumType type1')\n",
    "    \n",
    "    for i in content_list:\n",
    "        no2.append(no)\n",
    "        print('번호',no)\n",
    "        \n",
    "        try:\n",
    "            contents = i.find('div','tit').get_text()\n",
    "        except AttributeError:\n",
    "            contents = '내용이 없음'\n",
    "            contents2.append(contents)\n",
    "            print('내용:', contents.strip())\n",
    "        else:\n",
    "            contents2.append(contents)\n",
    "            print('내용:', contents.strip())\n",
    "            \n",
    "        try:\n",
    "            tags = i.find('p','tag_type').get_text()\n",
    "        except AttributeError:\n",
    "            tags = '태그정보 없음'\n",
    "            tags2.append(tags)\n",
    "            print('태그',tags.strip())\n",
    "        else:\n",
    "            tags2.append(tags)\n",
    "            print('태그',tags.strip())\n",
    "            \n",
    "        if no == cnt:\n",
    "            break\n",
    "        no+=1\n",
    "        \n",
    "    time.sleep(2)\n",
    "    x+=1\n",
    "    if x == page_cnt+1:\n",
    "        break\n",
    "        \n",
    "    if x == 6:\n",
    "        driver.find_element_by_link_text(\"다음\").click()\n",
    "    else:\n",
    "        driver.find_element_by_link_text(\"%s\" %x).click()"
   ]
  },
  {
   "cell_type": "code",
   "execution_count": null,
   "metadata": {},
   "outputs": [],
   "source": [
    "korea = pd.DataFrame()\n",
    "korea['번호']=no2\n",
    "korea['내용']=contents2\n",
    "korea['태그']=tags2\n",
    "\n",
    "korea"
   ]
  },
  {
   "cell_type": "code",
   "execution_count": null,
   "metadata": {},
   "outputs": [],
   "source": [
    "f = open(ft_name,'a',encoding='utf-8')\n",
    "f.write(str(no2))\n",
    "f.write(str(contents2))\n",
    "f.write(str(tags2))\n",
    "f.close()"
   ]
  },
  {
   "cell_type": "code",
   "execution_count": null,
   "metadata": {},
   "outputs": [],
   "source": [
    "korea.to_csv(fc_name, encoding='utf-8', index=False)\n",
    "korea.to_excel(fx_name, index=False)"
   ]
  },
  {
   "cell_type": "code",
   "execution_count": null,
   "metadata": {},
   "outputs": [],
   "source": [
    "e_time = time.time()\n",
    "d_time = e_time - s_time"
   ]
  },
  {
   "cell_type": "code",
   "execution_count": null,
   "metadata": {},
   "outputs": [],
   "source": [
    "print(\"\\n\") \n",
    "print(\"=\" *80)\n",
    "print(\"크롤링을 요청한 총 %s 건 중에서 %s 건의 데이터를 수집 완료 했습니다\" %(cnt,no))\n",
    "print(\"총 소요시간은 %s 초 입니다 \" %round(d_time,1))\n",
    "print(\"파일 저장 완료: txt 파일명 : %s \" %ft_name)\n",
    "print(\"파일 저장 완료: csv 파일명 : %s \" %fc_name)\n",
    "print(\"파일 저장 완료: xls 파일명 : %s \" %fx_name)\n",
    "print(\"=\" *80)\n",
    " \n",
    "driver.close( )"
   ]
  }
 ],
 "metadata": {
  "kernelspec": {
   "display_name": "pydata",
   "language": "python",
   "name": "pydata"
  },
  "language_info": {
   "codemirror_mode": {
    "name": "ipython",
    "version": 3
   },
   "file_extension": ".py",
   "mimetype": "text/x-python",
   "name": "python",
   "nbconvert_exporter": "python",
   "pygments_lexer": "ipython3",
   "version": "3.7.10"
  }
 },
 "nbformat": 4,
 "nbformat_minor": 4
}

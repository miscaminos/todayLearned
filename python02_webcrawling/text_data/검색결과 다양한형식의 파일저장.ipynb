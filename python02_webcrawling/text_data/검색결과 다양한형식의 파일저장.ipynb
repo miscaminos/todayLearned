{
 "cells": [
  {
   "cell_type": "markdown",
   "metadata": {},
   "source": [
    "### 검색결과 다양한 형식의 파일저장\n",
    "추출된 데이터들을 xls형식과 csv 형식, txt형식의 파일로 저장한다.\n",
    "실무에서 데이터분석 작업시에는 csv, xls 형식으로 저장하는 경우도아주 많다."
   ]
  },
  {
   "cell_type": "code",
   "execution_count": null,
   "metadata": {},
   "outputs": [],
   "source": [
    "# (1) 검색결과에서 항목별로 데이터 추출\n",
    "# 앞에서 실습한 소스코드에서 csv와 xls형식으로 저장할 파일 이름을 추가로 입력받는다.\n",
    "\n",
    "# Step 1. 필요한 모듈과 라이브러리를 로딩하고 검색어를 입력 받습니다\n",
    "from bs4 import BeautifulSoup\n",
    "from selenium import webdriver\n",
    "import time\n",
    "\n",
    "query_txt = input(\"crawling할 keyword 입력: \")\n",
    "ft_name = input('''검색결과를 저장 할 txt파일경로와 이름\n",
    "                (C:\\\\Study\\\\Python\\\\notebook\\\\data\\\\test.txt): ''')\n",
    "fc_name = input('''검색결과를 저장 할 csv파일경로와 이름\n",
    "                (C:\\\\Study\\\\Python\\\\notebook\\\\data\\\\test.csv): ''')\n",
    "fx_name = input('''검색결과를 저장 할 xls파일경로와 이름\n",
    "                (C:\\\\Study\\\\Python\\\\notebook\\\\data\\\\test.xlsx): ''')\n",
    "\n",
    "#Step 2. 크롬 드라이버를 사용해서 웹 브라우저를 실행합니다.\n",
    "path = \"C:/Study/Python/datadown/chromedriver.exe\"\n",
    "driver = webdriver.Chrome(path)\n",
    "\n",
    "driver.get(\"https://korean.visitkorea.or.kr\")\n",
    "time.sleep(2)\n",
    "\n",
    "driver.maximize_window()\n",
    "#코로나 alert창 있을 경우 닫기 클릭하기 \n",
    "try :\n",
    "    driver.find_element_by_xpath('//*[@id=\"chkForm01\"]').click()\n",
    "except :\n",
    "    print(\"코로나 창이 없습니다\")\n",
    "    \n",
    "#Step 3. 검색창의 이름을 찾아서 검색어를 입력 후 검색을 진행합니다\n",
    "element = driver.find_element_by_id(\"inp_search\") #input검색창 find\n",
    "element.send_keys(query_txt)\n",
    "element.send_keys(\"\\n\")\n",
    "\n",
    "time.sleep(1)\n",
    "\n",
    "html = driver.page_source\n",
    "soup = BeautifulSoup(html,'html.parser')\n",
    "\n",
    "content_list = soup.find('ul','list_thumType type1')"
   ]
  },
  {
   "cell_type": "code",
   "execution_count": null,
   "metadata": {},
   "outputs": [],
   "source": [
    "#검색 결과 페이지의 item(as contents)와 각 item의 hashtag(as tag)를 받아온다.\n",
    "\n",
    "contents = content_list.find('div','tit').get_text()\n",
    "print('내용:', contents.strip())\n",
    "\n",
    "tag = content_list.find('p','tag_type').get_text()\n",
    "print('태그:', tag.strip())\n",
    "print('\\n')                   "
   ]
  },
  {
   "cell_type": "code",
   "execution_count": null,
   "metadata": {},
   "outputs": [],
   "source": [
    "#한페이지에 몇개의 게시물이 있는지 확인 --> 10개\n",
    "#한페이지에 게시물이 10개가 있으므로 반복하여 추출하여 출력한다.\n",
    "\n",
    "# Step 5. 각 항목별로 분리하여 추출하고 변수에 할당하기\n",
    "no=1\n",
    "no2=[]\n",
    "contents2=[]\n",
    "tag2=[]\n",
    "\n",
    "for i in content_list:\n",
    "    no2.append(no)\n",
    "    print('번호:',no)\n",
    "    \n",
    "    #div인데, class가 tit인것이 있다면,\n",
    "    if i.find('div','tit'):\n",
    "        contents = i.find('div','tit').get_text()\n",
    "        contents2.append(contents)\n",
    "        print('내용:', contents.strip())\n",
    "    #내용이 없을수도 있다\n",
    "    else:\n",
    "        contents = '내용없음'\n",
    "        contents2.append(contents)\n",
    "        print('내용:', contents.strip())\n",
    "    #p 태그인데, class가 tag_type인것이 있다면,\n",
    "    if i.find('p', 'tag_type'):\n",
    "        tag = i.find('p', 'tag_type').get_text()\n",
    "        tag2.append(tag)\n",
    "        print('태그:', tag.strip())\n",
    "    else:\n",
    "        tag = '태그없음'\n",
    "        tag2.append(tag)\n",
    "        print('태그:', tag.strip())\n",
    "        \n",
    "    print('\\n')\n",
    "    no+=1"
   ]
  },
  {
   "cell_type": "code",
   "execution_count": null,
   "metadata": {},
   "outputs": [],
   "source": [
    "### xlwt 라이브러리를 활용해서 excel파일로 텍스트 데이터를 받는다."
   ]
  },
  {
   "cell_type": "code",
   "execution_count": null,
   "metadata": {},
   "outputs": [],
   "source": [
    "!pip install xlwt"
   ]
  },
  {
   "cell_type": "code",
   "execution_count": null,
   "metadata": {},
   "outputs": [],
   "source": [
    "!pip list"
   ]
  },
  {
   "cell_type": "code",
   "execution_count": null,
   "metadata": {},
   "outputs": [],
   "source": [
    "import pandas as pd"
   ]
  },
  {
   "cell_type": "markdown",
   "metadata": {},
   "source": [
    "### 표 형태로 만들어서 다양한 형식의 파일로 저장\n",
    " \n",
    "표형태로 만들어서 저장하는 작업순서\n",
    " ① DataFrame을 생성한다.\n",
    " ② 생성한 DataFrame에 각각의 컬럼을 지정한다.\n",
    " ③ ②의 DataFrame을 xls 형식이나 csv 형식으로 저장한다.\n",
    "\n",
    "DataFrame을 사용하기 위해서는 pandas 패키지, xls 형식을 저장 하려면 jupyter notebook에 xlwt 패키지를 설치해야 한다. "
   ]
  },
  {
   "cell_type": "code",
   "execution_count": null,
   "metadata": {},
   "outputs": [],
   "source": [
    "korea_trip = pd.DataFrame()\n",
    "#'번호'column에는 no2를 넣어준다\n",
    "korea_trip['번호'] = no2\n",
    "korea_trip['내용'] = contents2\n",
    "korea_trip['태그'] = tags2"
   ]
  },
  {
   "cell_type": "code",
   "execution_count": null,
   "metadata": {},
   "outputs": [],
   "source": [
    "# 출력 결과를 csv 파일로 저장하기\n",
    "korea_trip.to_csv(fc_name, encoding='utf-8-sig')\n",
    "print('csv파일 저장 경로: %s' %(fc_name))"
   ]
  },
  {
   "cell_type": "code",
   "execution_count": null,
   "metadata": {},
   "outputs": [],
   "source": [
    "# 출력 결과를 xls 파일로 저장하기\n",
    "import xlwt\n",
    "import warnings\n",
    "warnings.filterwarnings(action='ignore')"
   ]
  },
  {
   "cell_type": "code",
   "execution_count": null,
   "metadata": {},
   "outputs": [],
   "source": [
    "korea_trip.to_excel(fx_name,encoding='utf-8-sig')\n",
    "print('xls 파일 저장 경로: %s' %(fx_name))"
   ]
  },
  {
   "cell_type": "code",
   "execution_count": null,
   "metadata": {},
   "outputs": [],
   "source": [
    "# 출력 결과를 txt 파일로 저장하기\n",
    "f = open(ft_name, 'a',encoding='UTF-8')\n",
    "f.write(str(contents2))\n",
    "f.write(str(tags2))\n",
    "f.close( )\n",
    "print(\" txt 파일 저장 경로: %s\" %ft_name)  "
   ]
  },
  {
   "cell_type": "code",
   "execution_count": null,
   "metadata": {},
   "outputs": [],
   "source": [
    "driver.close()"
   ]
  },
  {
   "cell_type": "code",
   "execution_count": null,
   "metadata": {},
   "outputs": [],
   "source": [
    "##########################################################\n",
    "#한번에 진행\n",
    "\n",
    "# Step 1. 필요한 모듈과 라이브러리를 로딩하고 검색어를 입력 받습니다\n",
    "from bs4 import BeautifulSoup\n",
    "from selenium import webdriver\n",
    "import time\n",
    "import sys\n",
    "import pandas as pd\n",
    "import xlwt\n",
    "\n",
    "query_txt = input('크롤링할 키워드는 무엇입니까?: ')\n",
    "f_name = input('검색 결과를 저장할 txt 파일경로와 이름을 지정하세요(예:C:\\\\study\\\\python\\\\notebook\\\\data\\\\test.txt): ')\n",
    "fc_name = input('검색 결과를 저장할 csv 파일경로와 이름을 지정하세요(예:C:\\\\study\\\\python\\\\notebook\\\\data\\\\test.csv): ')\n",
    "fx_name = input('검색 결과를 저장할 xls 파일경로와 이름을 지정하세요(C:\\\\study\\\\python\\\\notebook\\\\data\\\\test.xlsx): ')\n",
    " \n",
    "#Step 2. 크롬 드라이버를 사용해서 웹 브라우저를 실행합니다.\n",
    "path = \"C:/study/python/datadown/chromedriver.exe\"\n",
    "driver = webdriver.Chrome(path)\n",
    " \n",
    "driver.get(\"https://korean.visitkorea.or.kr\")\n",
    "time.sleep(2) # 위 페이지가 모두 열릴 때 까지 2초 기다립니다.\n",
    "\n",
    "#driver.maximize_window()\n",
    "#코로나 얼럿창 있을 경우 닫기 클릭하기 \n",
    "try :\n",
    "    driver.find_element_by_xpath('//*[@id=\"chkForm01\"]').click()\n",
    "except :\n",
    "    print(\"코로나 창이 없습니다\")\n",
    "\n",
    "#Step 3. 검색창의 이름을 찾아서 검색어를 입력 후 검색을 진행합니다\n",
    "element = driver.find_element_by_id(\"inp_search\")\n",
    "element.send_keys(query_txt)\n",
    "element.send_keys(\"\\n\")\n",
    "\n",
    "# Step 4. 현재 페이지에 있는 내용을 화면에 출력하기\n",
    " \n",
    "time.sleep(1)\n",
    " \n",
    "html = driver.page_source\n",
    "soup = BeautifulSoup(html, 'html.parser')\n",
    "content_list = soup.find('ul',class_='list_thumType type1') #find by class\n",
    "#print(content_list)\n",
    " \n",
    "# 학습목표 1: 특정 항목들을 분리해서 추출하기\n",
    "contents = content_list.find('div','tit').get_text( )\n",
    "print('내용:',contents.strip())\n",
    "    \n",
    "tag = content_list.find('p','tag_type').get_text()\n",
    "print('태그:',tag.strip())\n",
    "print(\"\\n\")\n",
    "\n",
    "# Step 5. 각 항목별로 분리하여 추출하고 변수에 할당하기\n",
    "no = 1\n",
    "no2 =[ ]\n",
    "contents2=[ ]\n",
    "tags2=[ ]\n",
    " \n",
    "for i in content_list:\n",
    "    no2.append(no)\n",
    "    print('번호:',no)\n",
    "    \n",
    "    if i.find('div','tit') : \n",
    "        contents = i.find('div','tit').get_text( )\n",
    "        contents2.append(contents)\n",
    "        print('내용:',contents.strip())\n",
    "    else:\n",
    "        contents = '내용없음'\n",
    "        contents2.append(contents)\n",
    "        print('내용:',contents.strip())\n",
    " \n",
    "    if i.find('p','tag_type') :\n",
    "        tag = i.find('p','tag_type').get_text()\n",
    "        tags2.append(tag)\n",
    "        print('태그:',tag.strip())      \n",
    "    else :\n",
    "        tag = \"태그없음\"\n",
    "        tags2.append(tag)\n",
    "        print('태그:',tag.strip())\n",
    "        \n",
    "    print(\"\\n\")\n",
    "    no += 1\n",
    "    \n",
    "korea_trip = pd.DataFrame()\n",
    "korea_trip['번호']=no2\n",
    "korea_trip['내용']=contents2\n",
    "korea_trip['태그']=tags2\n",
    " \n",
    "# csv 형태로 저장하기,encoding 주의 -엑셀로 열때 깨지지 않고 잘 열림\n",
    "korea_trip.to_csv(fc_name, encoding=\"utf-8-sig\")\n",
    "print(\" csv 파일 저장 경로: %s\" %fc_name)\n",
    " \n",
    "# 엑셀 형태로 저장하기\n",
    "import xlwt   # pip install xlwt 실행 후 수행\n",
    "korea_trip.to_excel(fx_name)\n",
    "print(\" xls 파일 저장 경로: %s\" %fx_name)\n",
    " \n",
    "# 출력 결과를 txt 파일로 저장하기\n",
    "f = open(f_name, 'a',encoding='UTF-8')\n",
    "f.write(str(contents2))\n",
    "f.write(str(tags2))\n",
    "f.close( )\n",
    "print(\" txt 파일 저장 경로: %s\" %f_name)  \n",
    "\n",
    "driver.close()"
   ]
  },
  {
   "cell_type": "markdown",
   "metadata": {},
   "source": [
    "### openpyxl 패키지를 활용한 엑셀 파일 관리하기 \n",
    "excel로 데이터를 받을때 warning 메시지가 뜰때가있음. \n",
    "이를 방지하기위해 아래와 같이 openpyxl을 활용한다.\n",
    "openpyxl은 xlsx/xlsm/xltx/xltm 형식의 파일을 read/write 모두 할 수 있는 모듈이다.\n",
    "\n",
    "(아래 모듈의 각각 역할:\n",
    "xlrd: read data\n",
    "xlwt: write data\n",
    "openpyxl: can read or write data)\n",
    "\n",
    "openpyxl의 여러 function은 여기에서 확인:\n",
    "https://programmer.ink/think/python-handles-excel-openpyxl-xlrd-xlwt-openpyxl-panda.html\n",
    "\n",
    "pandas처럼 엑셀 형식의 파일을 관리할 수 있다.\n",
    "https://openpyxl.readthedocs.io/en/stable/index.html"
   ]
  },
  {
   "cell_type": "code",
   "execution_count": null,
   "metadata": {},
   "outputs": [],
   "source": [
    "!pip install openpyxl"
   ]
  },
  {
   "cell_type": "code",
   "execution_count": null,
   "metadata": {},
   "outputs": [],
   "source": [
    "!pip install xlrd"
   ]
  },
  {
   "cell_type": "code",
   "execution_count": null,
   "metadata": {},
   "outputs": [],
   "source": [
    "!pip list"
   ]
  },
  {
   "cell_type": "code",
   "execution_count": null,
   "metadata": {},
   "outputs": [],
   "source": [
    "import openpyxl"
   ]
  },
  {
   "cell_type": "code",
   "execution_count": null,
   "metadata": {},
   "outputs": [],
   "source": [
    "# Step 1. 새로운 엑셀 파일을 1개 생성한다\n",
    "wb = openpyxl.Workbook()\n",
    "wb.save(\"C:\\\\Study\\\\Python\\\\notebook\\data\\\\openpyxl_test1.xlsx\")"
   ]
  },
  {
   "cell_type": "code",
   "execution_count": null,
   "metadata": {},
   "outputs": [],
   "source": [
    "# Step 2. 새로운 시트 생성하고 시트이름 변경하기\n",
    "#새로운 엑셀 파일 생성\n",
    "wb = openpyxl.Workbook() # 현재 활성화 된 sheeet 가져오기\n",
    "\n",
    "sheet_1 = wb.active\n",
    "# 시트 이름 변경하기\n",
    "sheet_1.title='여행경비'\n",
    "\n",
    "# 새로운 시트를 만들면서 시트 이름을 지정하기\n",
    "sheet_2 = wb.create_sheet('여행일정')\n",
    "\n",
    "wb.save(\"C:\\\\Study\\\\Python\\\\notebook\\data\\\\openpyxl_test2.xlsx\")"
   ]
  },
  {
   "cell_type": "code",
   "execution_count": null,
   "metadata": {},
   "outputs": [],
   "source": [
    "# Step 3. 기존 파일 불러와서 cell 에 내용 입력하기\n",
    "wb = openpyxl.load_workbook(\"C:\\\\Study\\\\Python\\\\notebook\\data\\\\openpyxl_test2.xlsx\")\n",
    "sheet_1 = wb['여행일정']\n",
    "sheet_1['A1'] = '첫번째 cell'\n",
    "sheet_1['A2'] = '두번째 cell'\n",
    "\n",
    "wb.save(\"C:\\\\Study\\\\Python\\\\notebook\\data\\\\openpyxl_test2.xlsx\")"
   ]
  }
 ],
 "metadata": {
  "kernelspec": {
   "display_name": "pydata",
   "language": "python",
   "name": "pydata"
  },
  "language_info": {
   "codemirror_mode": {
    "name": "ipython",
    "version": 3
   },
   "file_extension": ".py",
   "mimetype": "text/x-python",
   "name": "python",
   "nbconvert_exporter": "python",
   "pygments_lexer": "ipython3",
   "version": "3.7.10"
  }
 },
 "nbformat": 4,
 "nbformat_minor": 4
}

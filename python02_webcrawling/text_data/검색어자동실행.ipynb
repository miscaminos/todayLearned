{
 "cells": [
  {
   "cell_type": "markdown",
   "metadata": {},
   "source": [
    "1. 웹크로링을 위한 환경설정\n",
    "\n",
    "- 웹에 있는 다양한 데이터를 수집하는 웹크로링을 하려면 필요한 \n",
    " 환경 설정이 필요하다.\n",
    "\n",
    "- selenium과 Beautiful Soup를 사용하고, 웹 드라이버로 Google의 \n",
    " Chrome Driver를 사용하는 방법을 실습한다."
   ]
  },
  {
   "cell_type": "markdown",
   "metadata": {},
   "source": [
    "**웹크롤러하는 원리**\n",
    "① 사람이 파이썬 프로그램으로 selenium에게 특정 웹 페이지를 크롤링 시킨다.\n",
    "② selenium은 사람이 지정해 준 web driver를 실행하여 웹 페이지를 실행한다.\n",
    "③ web driver는 실행된 웹페이지를 HTML 소스코드 형태로 PC로 가져온다.\n",
    "④ PC로 가져온 HTML코드에서 Beautiful Soup를 사용하여 원하는 부분을 \n",
    "   골라낸다.\n",
    "\n",
    "웹크롤링을 위한 준비사항 2단계:\n",
    "\n",
    "1. HTML 소스코드에서 원하는 태그를 찾기 위해서 Beautiful Soup를 설치한다.\n",
    "    acadonda prompt를 관리자 권한으로 실행 후 pip install bs4 로 설치한다.\n",
    "    또는  jupyter notebook에서 !pip install bs4로 설치한다. (★)\n",
    "    (데이터분석 - [02]Beautiful Soup 4 활용하기에서 이미 설치했음)\n",
    "\n",
    "2. 사람대신 웹 페이지를 열고 데이터를 수집할 selenium 패키지 설치한다. \n",
    "    cmd를 관리자 권한으로 실행 후 pip install selenium으로 설치한다.\n",
    "    또는 jupyter notebook에서 !pip install selenium으로 설치한다."
   ]
  },
  {
   "cell_type": "code",
   "execution_count": null,
   "metadata": {},
   "outputs": [],
   "source": [
    "!pip install selenium"
   ]
  },
  {
   "cell_type": "code",
   "execution_count": null,
   "metadata": {},
   "outputs": [],
   "source": [
    "!pip list"
   ]
  },
  {
   "cell_type": "markdown",
   "metadata": {},
   "source": [
    "검색창에 검색어를 입력후 자동 검색하기 기능 구현\n",
    "\n",
    "검색창에 검색어를 자동으로 입력한 후 자동으로 검색 결과를 출력하게 만드는것이다.\n",
    "selenium으로 웹페이지 열기 -> 검색창 찾기 ->검색어 입력 -> 조회하기 순으로 작업 한다.\n",
    "\n",
    "(실습으로 사용할 웹 사이트는 한국관광공사에서 운영하는 '대한민구 구석구석' 이다.\n",
    "  URL : https://korean.visitkorea.or.kr/)\n",
    "\n",
    "과정: selenium이 chromedriver.exe 프로그램으로 웹 페이지를 열어서 'oo여행'을\n",
    "검색 키워드로 입력하고 검색 결과를 조회한다."
   ]
  },
  {
   "cell_type": "code",
   "execution_count": null,
   "metadata": {},
   "outputs": [],
   "source": [
    "#Step 0. 필요한 모듈과 라이브러리를 로딩하고 검색어를 입력 받습니다\n",
    "from bs4 import BeautifulSoup\n",
    "from selenium import webdriver\n",
    "import time #웹사이트 열고 닫을때에 잠깐 틈을 주려고 time 모듈의 sleep 활용"
   ]
  },
  {
   "cell_type": "code",
   "execution_count": null,
   "metadata": {},
   "outputs": [],
   "source": [
    "query_txt = input('크롤링할 키워드는 무엇입니까?:')"
   ]
  },
  {
   "cell_type": "code",
   "execution_count": null,
   "metadata": {},
   "outputs": [],
   "source": [
    "#Step 1. 크롬 드라이버를 사용해서 웹 브라우저를 실행합니다.\n",
    "path = \"C:/Study/Python/datadown/chromedriver.exe\""
   ]
  },
  {
   "cell_type": "code",
   "execution_count": null,
   "metadata": {},
   "outputs": [],
   "source": [
    "driver = webdriver.Chrome(path)"
   ]
  },
  {
   "cell_type": "code",
   "execution_count": null,
   "metadata": {},
   "outputs": [],
   "source": [
    "driver.get(\"https://korean.visitkorea.or.kr\")\n",
    "time.sleep(2)  # 위 페이지가 모두 열릴 때 까지 2초 기다립니다."
   ]
  },
  {
   "cell_type": "code",
   "execution_count": null,
   "metadata": {},
   "outputs": [],
   "source": [
    "# driver.maximize_window()\n",
    "# 코로나 얼럿창 있을 경우 닫기 클릭하기 //*[@id=\"chkForm01\"] 는 xpath의 값이다\n",
    "try: \n",
    "    driver.find_element_by_xpath('//*[@id=\"chkForm01\"]').click()\n",
    "except:\n",
    "    print(\"코로나 창이 없습니다.\")"
   ]
  },
  {
   "cell_type": "markdown",
   "metadata": {},
   "source": [
    "※ XPath(XML Path Language)\n",
    "- XPath는 XML 문서의 특정 부분의 위치를 찾을 때 사용하는 언어이다.\n",
    "- XPath는 XML 문서안에 요소와 속성을 탐색하다.\n",
    "- '/'는 문서의 계층 구조에서 최상위 노드 역할을 하는 가상 노드이다.\n",
    "- XPath에서 속성을 지정하려면 @를 사용한다\n",
    "- //* 는 문서 내의 모슨 요소를 선택한다. \n",
    "- [@id=\"gnb\"] 는 id='gnb' 인것을 선택한다.\n",
    "- /div/div[1] 는 /div 자식인 첫번째 div요소\n",
    "\n",
    "※ 개발자 도구에서 XPath 가져오기\n",
    "- 개발자 도구 F12 -> 'select element in the page' 버튼클릭 -> 웹페이지에서 찾고싶은 위치 클릭 (e.g., checkbox) -> html source code에서 해당 element 태그가 highlight되어 있는것 확인 -> highlight된 element에서 오른쪽 클릭\n",
    "- 펼쳐진 메뉴에서 Copy 선택 -> Copy XPath 선택하면 XPath값이 클립모드에 복사된다.\n",
    "- driver.find_element_by_xpath() 함수 인자값에 붙여넣기 한다."
   ]
  },
  {
   "cell_type": "code",
   "execution_count": null,
   "metadata": {},
   "outputs": [],
   "source": [
    "#Step 2. 검색창의 이름을 찾아서 검색어를 입력합니다\n",
    "\n",
    "# tip: 검색하려는 websited에서 F12눌러서 html src를 확인하고 \"select an element\"로 \n",
    "# 검색어 입력공간을 선택하면 html src에서 해당 element가 정의된곳으로 대려가줌.\n",
    "# HTML src에서 복사하려는 element 오른쪽 클릭> edit attribute하면 ctl+c로 복사가능\n",
    "\n",
    "element = driver.find_element_by_id(\"inp_search\")\n",
    "element.send_keys(query_txt)\n",
    "element.send_keys(\"\\n\")"
   ]
  },
  {
   "cell_type": "markdown",
   "metadata": {},
   "source": [
    "※ 참고 : 페이지의 특정 element에 접근하는 방식\n",
    "\n",
    "  find_element_by_name(\"name\")       -->  요소의 name속성 값으로 검색\n",
    "  find_element_by_id(\"id\")           -->   요소의 id속성 값으로 검색\n",
    "  find_element_by_xpath(\"xpath\")     --> 웹페이지의 xpath 경로 검색 \n",
    "  find_element_by_css_selector(\"#css>div.selector\")   --> css selector로 검색\n",
    "  find_element_by_class_name(\"class\") --> 요소의 class 속성 값으로 검색\n",
    "  find_element_by_tag_name(\"h1\")      --> 요소(태그)이름으로 검색"
   ]
  },
  {
   "cell_type": "code",
   "execution_count": null,
   "metadata": {},
   "outputs": [],
   "source": [
    "####################################################\n",
    "#위 실습을 한번에 실행\n",
    "# google 검색창에서 'christmas' 검색하여 결과 조회하기:\n",
    "\n",
    "from bs4 import BeautifulSoup\n",
    "from selenium import webdriver\n",
    "import time\n",
    "\n",
    "search_keyword = 'christmas'\n",
    "path = \"C:/Study/Python/datadown/chromedriver.exe\"\n",
    "driver = webdriver.Chrome(path)\n",
    "driver.get(\"https://www.google.com/\")\n",
    "element = driver.find_element_by_name(\"q\")\n",
    "element.send_keys(search_keyword)\n",
    "element.send_keys(\"\\n\")"
   ]
  },
  {
   "cell_type": "code",
   "execution_count": null,
   "metadata": {},
   "outputs": [],
   "source": []
  }
 ],
 "metadata": {
  "kernelspec": {
   "display_name": "pydata",
   "language": "python",
   "name": "pydata"
  },
  "language_info": {
   "codemirror_mode": {
    "name": "ipython",
    "version": 3
   },
   "file_extension": ".py",
   "mimetype": "text/x-python",
   "name": "python",
   "nbconvert_exporter": "python",
   "pygments_lexer": "ipython3",
   "version": "3.7.10"
  }
 },
 "nbformat": 4,
 "nbformat_minor": 4
}

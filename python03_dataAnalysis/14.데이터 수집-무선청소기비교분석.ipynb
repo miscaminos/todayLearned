{
 "cells": [
  {
   "cell_type": "markdown",
   "metadata": {},
   "source": [
    "## 무선청소기 모델별  비교분석 \n",
    " - 여러 제조사별 무선 청소기의 가격과 성능에 대한 데이터를 수집하고, \n",
    "   이를 분석하는 과정을 통해 각자의 상황에 맞는 제품군이 무엇인지 분석한다.\n",
    "\n",
    "### 데이터 수집\n",
    "\n",
    "#### 1. 한 페이지 크롤링\n",
    "  - 한 페이지에 접속해서 정보를 가져오는 과정을 실습한다.\n",
    "  - 상품에 대한 가격비교 사이트인 다나와에서는 제품별로 용량, 크기 같은 조건을\n",
    "    설정해서 검색할 수 있다.\n",
    "\n",
    "  - 다나와를 활용해 무선청소기 제품의 가격과 스펙 목록을 수집한다."
   ]
  },
  {
   "cell_type": "code",
   "execution_count": 1,
   "metadata": {},
   "outputs": [],
   "source": [
    "from bs4 import BeautifulSoup\n",
    "from selenium import webdriver"
   ]
  },
  {
   "cell_type": "code",
   "execution_count": 2,
   "metadata": {},
   "outputs": [],
   "source": [
    "#selenium으로 다나와 검색 결과 URL에 접속\n",
    "driver = webdriver.Chrome('c:/Study/Python/datadown/chromedriver.exe')\n",
    "driver.get(\"http://search.danawa.com/dsearch.php?query=무선청소기&tab=main\")\n",
    "\n",
    "#웹 페이지의 HTML 정보 가져오기\n",
    "html=driver.page_source\n",
    "soup = BeautifulSoup(html,'html.parser')"
   ]
  },
  {
   "cell_type": "code",
   "execution_count": 14,
   "metadata": {},
   "outputs": [
    {
     "name": "stdout",
     "output_type": "stream",
     "text": [
      "44\n"
     ]
    }
   ],
   "source": [
    "#페이지에 대한 무선청소기 정보 가져오기\n",
    "search_result=soup.select('div.main_prodlist.main_prodlist_list > ul.product_list > li.prod_item')\n",
    "print(len(search_result))\n",
    "#search_result[0]"
   ]
  },
  {
   "cell_type": "code",
   "execution_count": 15,
   "metadata": {},
   "outputs": [
    {
     "data": {
      "text/plain": [
       "'LG전자 오브제컬렉션 코드제로 ThinQ A9S AO9571'"
      ]
     },
     "execution_count": 15,
     "metadata": {},
     "output_type": "execute_result"
    }
   ],
   "source": [
    "#상품명 가져오기 -1\n",
    "#p태그의 class이름이 prod_name인 첫번째 p태그요소와 직계 후손 a태그요소를 가져온다.\n",
    "\n",
    "title = search_result[0].select('p.prod_name > a')[0].get_text().strip()\n",
    "title"
   ]
  },
  {
   "cell_type": "code",
   "execution_count": 16,
   "metadata": {},
   "outputs": [
    {
     "data": {
      "text/plain": [
       "'LG전자 오브제컬렉션 코드제로 ThinQ A9S AO9571'"
      ]
     },
     "execution_count": 16,
     "metadata": {},
     "output_type": "execute_result"
    }
   ],
   "source": [
    "#상품명 가져오기 -2\n",
    "#직계 후손을 가져오려면: 조상태그 > 직계후손 > 다음 직계후손 > 그다음 직계후손\n",
    "#위와 같이 띄어쓰기와 꺽쇠'>'를 표기해야한다\n",
    "\n",
    "title = search_result[0].select('div.prod_main_info > div.prod_info > p.prod_name > a')[0].get_text().strip()\n",
    "title"
   ]
  },
  {
   "cell_type": "code",
   "execution_count": 17,
   "metadata": {},
   "outputs": [
    {
     "data": {
      "text/plain": [
       "'LG전자 오브제컬렉션 코드제로 ThinQ A9S AO9571'"
      ]
     },
     "execution_count": 17,
     "metadata": {},
     "output_type": "execute_result"
    }
   ],
   "source": [
    "#상품명 가져오기 -3\n",
    "#직계가 아닌 먼 후손을 가져오려면 꺽쇠'>'없이 띄어쓰기만 한다.\n",
    "#아래를 보면 div.prod_main_info와 p.prod_name사이에 한칸 띄어쓰기가 있다.\n",
    "\n",
    "title = search_result[0].select('div.prod_main_info p.prod_name > a')[0].get_text().strip()\n",
    "title"
   ]
  },
  {
   "cell_type": "code",
   "execution_count": 9,
   "metadata": {},
   "outputs": [],
   "source": [
    "#스펙 목록 정보 가져오기 -1\n",
    "\n",
    "specs = search_result[0].select('div.prod_main_info > div.prod_info > dl.prod_spec_set > dd > div.spec_list')\n",
    "#specs"
   ]
  },
  {
   "cell_type": "code",
   "execution_count": 7,
   "metadata": {},
   "outputs": [],
   "source": [
    "#스펙 목록 정보 가져오기-2\n",
    "\n",
    "specs = search_result[0].select('div.spec_list')\n",
    "#specs"
   ]
  },
  {
   "cell_type": "code",
   "execution_count": 29,
   "metadata": {},
   "outputs": [
    {
     "data": {
      "text/plain": [
       "'1203650'"
      ]
     },
     "execution_count": 29,
     "metadata": {},
     "output_type": "execute_result"
    }
   ],
   "source": [
    "#상품 가격 가져오기\n",
    "price = search_result[0].select('li.rank_one > p.price_sect > a > strong')[0].text.strip().replace(\",\",\"\")\n",
    "price"
   ]
  },
  {
   "cell_type": "markdown",
   "metadata": {},
   "source": [
    "첫 페이지의 상품 정보를 수집하는 반복문을 실행해보자.\n",
    "(검색결과 페이지에서 상품 리스트 중간중간에 상품이 아닌 광고가 있는 경우에는 지정한 태그 요소를 불러올 수 없을 수 있다. 그래서 try/except문을 사용한다.)\n",
    "\n",
    "검색결과를 조회하는 사이트에서 반복문으로 아이템 정보를 추출해올때 try/except문을 사용하는것이 유용하다."
   ]
  },
  {
   "cell_type": "code",
   "execution_count": 18,
   "metadata": {},
   "outputs": [
    {
     "name": "stdout",
     "output_type": "stream",
     "text": [
      "44\n"
     ]
    }
   ],
   "source": [
    "#반복문으로 검색 결과의 1페이지에 대한 상품 정보 추출\n",
    "prod_data = []\n",
    "\n",
    "for item in search_result:\n",
    "    try:\n",
    "        title = item.select('p.prod_name > a')[0].text.strip()\n",
    "    except:\n",
    "        title = \"\"\n",
    "    try:\n",
    "        specs = item.select('div_spec_list')[0].text.strip()\n",
    "    except:\n",
    "        spec_list = \"\"\n",
    "    try:\n",
    "        price = item.select('li.rank_one > p.price_sect > a > strong')[0].text.strip().replace(\",\",\"\")\n",
    "    except:\n",
    "        price=0\n",
    "    prod_data.append([title, specs, price])\n",
    "\n",
    "print(len(prod_data)) #44개의 상품정보를 가져왔다.\n",
    "\n",
    "# for x in prod_data:\n",
    "#     print(x)"
   ]
  },
  {
   "cell_type": "markdown",
   "metadata": {},
   "source": [
    "#### 2. 여러 페이지 크롤링\n",
    "\n",
    "\n",
    "**url을 제어해서 여러 페이지 자동으로 이동해서 원하는 정보를 추출하는 함수 생성해보자**\n",
    "\n",
    "\n",
    "상품 검색 결과가 여러 페이지에 걸쳐서 나오기 때문에 지금까지 진행한 한 페이지에 대한 검색결과를 수집하는 코드를 함수로 만든다."
   ]
  },
  {
   "cell_type": "code",
   "execution_count": 19,
   "metadata": {},
   "outputs": [],
   "source": [
    "#상품 정보 태그에서 원하는 정보를 추출하는 함수\n",
    "def get_prod_items(prod_items):\n",
    "    prod_data = []\n",
    "    for item in search_result:\n",
    "        try:\n",
    "            title = item.select('p.prod_name > a')[0].text.strip()\n",
    "        except:\n",
    "            title = \"\"\n",
    "        try:\n",
    "            specs = item.select('div.spec_list')[0].text.strip()\n",
    "        except:\n",
    "            specs = \"\"\n",
    "        try:\n",
    "            price = item.select('li.rank_one > p.price_sect > a > strong')[0].text.strip().replace(\",\",\"\")\n",
    "        except:\n",
    "            price=0\n",
    "        prod_data.append([title, specs, price])\n",
    "    return prod_data"
   ]
  },
  {
   "cell_type": "markdown",
   "metadata": {},
   "source": [
    "- 위에서 만든 함수와 반복문을 이용해 전체 페이지의 상품 정보 데이터를 수집한다.\n",
    "\n",
    "1. 먼저 검색결과의 첫페이지에서 다른 페이지로 이동하면 변경되는 URL을 찾는다.\n",
    "\n",
    "2. 반복문에서 사용하기 위해 검색어와 페이지가 URL에서 들어가는 위치를 파악한다.\n",
    "\n",
    "3. 검색어와 페이지 정보만 변경해서 다음과 같이 URL 만들어서 웹 브라우저로 페이지를 열어서 호출하여 여러페이지를 가져온다\n",
    "  \n",
    "주의:: 배포된 url은 아래와같다. 그러나 실제 웹사이트에서 가져온 url과 다를수도 있기때문에 직접 여러 페이지를 조회해서 살펴봐야한다.\n",
    "\n",
    "http://search.danawa.com/dsearch.php?query={검색어}&originalQuery={검색어}&volumeType=allvs&page={페이지}&limit=30&sort=saveDESC&list=list&boost=true&addDelivery=N&tab=goods\n",
    "\n",
    "함수 매개변수로 keyword와 page를 입력받아 format 함수를 이용해 문자열을 조합해서 검색 URL을 만드는 식으로 함수를 만든다"
   ]
  },
  {
   "cell_type": "code",
   "execution_count": 32,
   "metadata": {},
   "outputs": [],
   "source": [
    "#다나와 검색 URL을 만들어주는 함수 '\\'는 한문장을 여러줄로 보여준다.\n",
    "def get_search_page_url(keyword, page):\n",
    "    return 'http://search.danawa.com/dsearch.php?query={}&originalQuery={}&previousKeyword={}&volumeType=allvs&page={}&limit=40&sort=saveDESC&list=list&boost=true&addDelivery=N&recommendedSort=Y&defaultUICategoryCode=103740&defaultPhysicsCategoryCode=72%7C80%7C81%7C0&defaultVmTab=2490&defaultVaTab=153544&tab=goods'.format(keyword, keyword, keyword, page)"
   ]
  },
  {
   "cell_type": "code",
   "execution_count": 33,
   "metadata": {},
   "outputs": [
    {
     "name": "stdout",
     "output_type": "stream",
     "text": [
      "http://search.danawa.com/dsearch.php?query=무선청소기&originalQuery=무선청소기&previousKeyword=무선청소기&volumeType=allvs&page=5&limit=40&sort=saveDESC&list=list&boost=true&addDelivery=N&recommendedSort=Y&defaultUICategoryCode=103740&defaultPhysicsCategoryCode=72%7C80%7C81%7C0&defaultVmTab=2490&defaultVaTab=153544&tab=goods\n"
     ]
    }
   ],
   "source": [
    "keyword = '무선청소기'\n",
    "page = 5\n",
    "url = get_search_page_url(keyword, page)\n",
    "print(url)"
   ]
  },
  {
   "cell_type": "markdown",
   "metadata": {},
   "source": [
    "#### tqdm 라이브러리 활용 (진행현황 보여주기)\n",
    "\n",
    "- tqdm라이브러리를 이용하면 현재 진행 상황을 표시할 수 있다.0%(시작)부터 100%(완료)까지 bar graph로 progress 현황을 보여준다.\n",
    "(검색시 시간이 많이 걸릴경우 현재 작업 진행현황을 볼 수 있도록 하는 tqdm사용한다.)\n",
    "\n",
    "\n",
    "- 참고: jpuyternotebook에서는 해당 ipynb파일을 완전히 닫고 열면서 kernel이 restart되면, widget state를 찾을 수 없어서 tqdm을 통해 progress를 보여주는 bar graph가 display되지 않을 수 있다. kernel 생성 및 다시 실행을 하면 보여진다.\n",
    "\n",
    "**참고: tqdm 설치방법**\n",
    "\n",
    "1. 원도 시작메뉴 -> Anaconda Prompt 관리자 권한으로 실행\n",
    "\n",
    "2. Prompt윈도우에서 아래와 같이 입력:\n",
    "\n",
    "(base) C:\\WINDOWS\\system32>activate pydata\n",
    "(pydata) C:\\WINDOWS\\system32>\n",
    "\n",
    " conda install -n base -c conda-forge widgetsnbextension\n",
    " \n",
    " conda install -n pydata -c conda-forge ipywidgets\n",
    " \n",
    "3. jupyter notebook 에서  !pip install tqdm  설치\n",
    "4. Kernel Restart 한다."
   ]
  },
  {
   "cell_type": "code",
   "execution_count": 34,
   "metadata": {},
   "outputs": [
    {
     "name": "stdout",
     "output_type": "stream",
     "text": [
      "Collecting tqdm\n",
      "  Downloading tqdm-4.60.0-py2.py3-none-any.whl (75 kB)\n",
      "Installing collected packages: tqdm\n",
      "Successfully installed tqdm-4.60.0\n"
     ]
    }
   ],
   "source": [
    "!pip install tqdm"
   ]
  },
  {
   "cell_type": "code",
   "execution_count": 34,
   "metadata": {},
   "outputs": [
    {
     "data": {
      "application/vnd.jupyter.widget-view+json": {
       "model_id": "de1a85366acd4a329e7a64b40e63736c",
       "version_major": 2,
       "version_minor": 0
      },
      "text/plain": [
       "  0%|          | 0/10 [00:00<?, ?it/s]"
      ]
     },
     "metadata": {},
     "output_type": "display_data"
    }
   ],
   "source": [
    "import time\n",
    "from tqdm.notebook import tqdm\n",
    "\n",
    "total_page = 10\n",
    "\n",
    "#페이지 이동할때 아래와같이 page가 1부터 최대페이지까지 이동하는거을 simulate해본다\n",
    "for page in tqdm(range(1, total_page+1)):\n",
    "    time.sleep(5) #페이지 이동시 5초대기"
   ]
  },
  {
   "cell_type": "markdown",
   "metadata": {},
   "source": [
    "상품 검색 결과에서 여러페이지에 걸친 상품 정보 수집을 진행해본다.\n",
    "\n",
    "한 페이지의 상품정보를 수집하는 함수 만들기, URL분석을 통해서 원하는 페이지로 이동하는 함수 만들기 등을 이용해서 여러페이지에 걸친 '무선청소기' 검색 결과를 수집한다."
   ]
  },
  {
   "cell_type": "code",
   "execution_count": 16,
   "metadata": {},
   "outputs": [],
   "source": [
    "#다시 driver생성 및 웹페이지 불러오기 실행한다\n",
    "driver = webdriver.Chrome('c:/Study/Python/datadown/chromedriver.exe')\n",
    "driver.implicitly_wait(3)\n",
    "\n",
    "#검색 키워드, 검색할 페이지 최대수, 검색결과를 답을 리스트 생성\n",
    "keyword = '무선청소기'\n",
    "total_page = 10\n",
    "prod_data_total = []"
   ]
  },
  {
   "cell_type": "code",
   "execution_count": 17,
   "metadata": {},
   "outputs": [
    {
     "data": {
      "application/vnd.jupyter.widget-view+json": {
       "model_id": "0ee3df33e3b94cafb1b19b433d3ba889",
       "version_major": 2,
       "version_minor": 0
      },
      "text/plain": [
       "  0%|          | 0/10 [00:00<?, ?it/s]"
      ]
     },
     "metadata": {},
     "output_type": "display_data"
    }
   ],
   "source": [
    "for page in tqdm(range(1, total_page+1)):\n",
    "    url = get_search_page_url(keyword, page)\n",
    "    driver.get(url)\n",
    "    \n",
    "    time.sleep(5)\n",
    "    \n",
    "    html = driver.page_source\n",
    "    soup = BeautifulSoup(html,'html.parser')\n",
    "    search_result=soup.select('div.main_prodlist.main_prodlist_list > ul.product_list > li.prod_item')\n",
    "    \n",
    "    prod_item_list = get_prod_items(search_result)\n",
    "    prod_data_total = prod_data_total + prod_item_list"
   ]
  },
  {
   "cell_type": "code",
   "execution_count": 18,
   "metadata": {},
   "outputs": [
    {
     "data": {
      "text/html": [
       "<div>\n",
       "<style scoped>\n",
       "    .dataframe tbody tr th:only-of-type {\n",
       "        vertical-align: middle;\n",
       "    }\n",
       "\n",
       "    .dataframe tbody tr th {\n",
       "        vertical-align: top;\n",
       "    }\n",
       "\n",
       "    .dataframe thead th {\n",
       "        text-align: right;\n",
       "    }\n",
       "</style>\n",
       "<table border=\"1\" class=\"dataframe\">\n",
       "  <thead>\n",
       "    <tr style=\"text-align: right;\">\n",
       "      <th></th>\n",
       "      <th>상품명</th>\n",
       "      <th>스펙 목록</th>\n",
       "      <th>가격</th>\n",
       "    </tr>\n",
       "  </thead>\n",
       "  <tbody>\n",
       "    <tr>\n",
       "      <th>0</th>\n",
       "      <td>LG전자 오브제컬렉션 코드제로 ThinQ A9S AO9571</td>\n",
       "      <td>핸디/스틱청소기 / 핸디+스틱형 / 무선형 / 흡입+걸레겸용 / [성능] 2중터보싸...</td>\n",
       "      <td>1203710</td>\n",
       "    </tr>\n",
       "    <tr>\n",
       "      <th>1</th>\n",
       "      <td>샤오미 CLEANFLY 차량용 무선 청소기 3세대 (해외구매)</td>\n",
       "      <td>차량용청소기 / 무선 / 흡입력: 16,800Pa / 최대출력: 120W / 헤파필...</td>\n",
       "      <td>50080</td>\n",
       "    </tr>\n",
       "    <tr>\n",
       "      <th>2</th>\n",
       "      <td>7WCkV4yUtk</td>\n",
       "      <td>7WCkV4yUtk371220</td>\n",
       "      <td>371220</td>\n",
       "    </tr>\n",
       "    <tr>\n",
       "      <th>3</th>\n",
       "      <td>샤오미 미지아 차량용 핸디 무선 청소기 (해외구매)</td>\n",
       "      <td>차량용청소기 / 무선 / 흡입력: 13,000Pa / 최대출력: 120W / 헤파필...</td>\n",
       "      <td>36230</td>\n",
       "    </tr>\n",
       "    <tr>\n",
       "      <th>4</th>\n",
       "      <td>LG전자 코드제로 A9 A9100S</td>\n",
       "      <td>핸디/스틱청소기 / 핸디+스틱형 / 무선형 / 흡입+걸레겸용 / [성능] 2중터보싸...</td>\n",
       "      <td>462570</td>\n",
       "    </tr>\n",
       "  </tbody>\n",
       "</table>\n",
       "</div>"
      ],
      "text/plain": [
       "                                  상품명  \\\n",
       "0   LG전자 오브제컬렉션 코드제로 ThinQ A9S AO9571   \n",
       "1  샤오미 CLEANFLY 차량용 무선 청소기 3세대 (해외구매)   \n",
       "2                          7WCkV4yUtk   \n",
       "3        샤오미 미지아 차량용 핸디 무선 청소기 (해외구매)   \n",
       "4                 LG전자 코드제로 A9 A9100S   \n",
       "\n",
       "                                               스펙 목록       가격  \n",
       "0  핸디/스틱청소기 / 핸디+스틱형 / 무선형 / 흡입+걸레겸용 / [성능] 2중터보싸...  1203710  \n",
       "1  차량용청소기 / 무선 / 흡입력: 16,800Pa / 최대출력: 120W / 헤파필...    50080  \n",
       "2                                   7WCkV4yUtk371220   371220  \n",
       "3  차량용청소기 / 무선 / 흡입력: 13,000Pa / 최대출력: 120W / 헤파필...    36230  \n",
       "4  핸디/스틱청소기 / 핸디+스틱형 / 무선형 / 흡입+걸레겸용 / [성능] 2중터보싸...   462570  "
      ]
     },
     "execution_count": 18,
     "metadata": {},
     "output_type": "execute_result"
    }
   ],
   "source": [
    "#1부터 최대페이지까지 조회애서 추출해온 prod_data_total 리스트를 dataframe에 저장\n",
    "import pandas as pd\n",
    "data = pd.DataFrame(prod_data_total)\n",
    "data.columns=['상품명', '스펙 목록', '가격']\n",
    "data.head()"
   ]
  },
  {
   "cell_type": "code",
   "execution_count": 21,
   "metadata": {},
   "outputs": [],
   "source": [
    "#dataframe을 excel파일에 저장\n",
    "filename='../data3/{}_p1-p{}_Danawa_searchResult.xlsx'.format(keyword, total_page)\n",
    "data.to_excel(filename, index=False)\n",
    "\n",
    "driver.close()"
   ]
  }
 ],
 "metadata": {
  "kernelspec": {
   "display_name": "pydata",
   "language": "python",
   "name": "pydata"
  },
  "language_info": {
   "codemirror_mode": {
    "name": "ipython",
    "version": 3
   },
   "file_extension": ".py",
   "mimetype": "text/x-python",
   "name": "python",
   "nbconvert_exporter": "python",
   "pygments_lexer": "ipython3",
   "version": "3.7.10"
  }
 },
 "nbformat": 4,
 "nbformat_minor": 4
}

{
 "cells": [
  {
   "cell_type": "code",
   "execution_count": 3,
   "metadata": {},
   "outputs": [
    {
     "name": "stdout",
     "output_type": "stream",
     "text": [
      "sw\n",
      "True\n"
     ]
    }
   ],
   "source": [
    "# 논리형 Boolean\n",
    "sw = True\n",
    "print(\"sw\")\n",
    "print(sw)"
   ]
  },
  {
   "cell_type": "code",
   "execution_count": 4,
   "metadata": {},
   "outputs": [
    {
     "name": "stdout",
     "output_type": "stream",
     "text": [
      "False\n"
     ]
    }
   ],
   "source": [
    "sw = False\n",
    "print(sw)"
   ]
  },
  {
   "cell_type": "code",
   "execution_count": 5,
   "metadata": {},
   "outputs": [
    {
     "name": "stdout",
     "output_type": "stream",
     "text": [
      "10\n",
      "2\n",
      "8\n",
      "16\n",
      "12345678901234567891234567890123456789\n"
     ]
    }
   ],
   "source": [
    "# 숫자형 (int 정수, float 실수, complex 복소수)\n",
    "# 1. 정수형 자료\n",
    "int_data = 10\n",
    "bin_data = 0b10\n",
    "oct_data = 0o10\n",
    "hex_data = 0x10\n",
    "long_data = 12345678901234567891234567890123456789\n",
    "print(int_data)\n",
    "print(bin_data)\n",
    "print(oct_data)\n",
    "print(hex_data)\n",
    "print(long_data)"
   ]
  },
  {
   "cell_type": "code",
   "execution_count": 35,
   "metadata": {},
   "outputs": [
    {
     "name": "stdout",
     "output_type": "stream",
     "text": [
      "0b1010\n",
      "0o12\n",
      "0xa\n"
     ]
    }
   ],
   "source": [
    "bin_data=bin(int_data)\n",
    "print(bin_data)\n",
    "print(oct(int_data))\n",
    "print(hex(int_data))"
   ]
  },
  {
   "cell_type": "code",
   "execution_count": 14,
   "metadata": {},
   "outputs": [
    {
     "name": "stdout",
     "output_type": "stream",
     "text": [
      "1000000000000000\n"
     ]
    }
   ],
   "source": [
    "# 2. 실수형 자료\n",
    "float_data=1000000000000000\n",
    "print(float_data)"
   ]
  },
  {
   "cell_type": "code",
   "execution_count": 15,
   "metadata": {},
   "outputs": [
    {
     "name": "stdout",
     "output_type": "stream",
     "text": [
      "1e-13\n"
     ]
    }
   ],
   "source": [
    "float_data=0.0000000000001\n",
    "print(float_data)"
   ]
  },
  {
   "cell_type": "code",
   "execution_count": 16,
   "metadata": {},
   "outputs": [
    {
     "name": "stdout",
     "output_type": "stream",
     "text": [
      "5.376856454323413\n"
     ]
    }
   ],
   "source": [
    "float_data=5.37685645432341312123232\n",
    "print(float_data)"
   ]
  },
  {
   "cell_type": "code",
   "execution_count": 19,
   "metadata": {},
   "outputs": [
    {
     "name": "stdout",
     "output_type": "stream",
     "text": [
      "1.0\n",
      "7.0\n",
      "(2+3j)\n"
     ]
    }
   ],
   "source": [
    "# 3. 복소수형 자료\n",
    "c1 = 1+7j\n",
    "print(c1.real) #실수부 real number\n",
    "print(c1.imag) #허수부 imaginary number\n",
    "c2 = complex(2,3)\n",
    "print(c2)"
   ]
  },
  {
   "cell_type": "code",
   "execution_count": 38,
   "metadata": {},
   "outputs": [
    {
     "name": "stdout",
     "output_type": "stream",
     "text": [
      "9\n",
      "64\n",
      "1\n",
      "5.7\n",
      "5.68\n",
      "5.678\n",
      "6\n",
      "(5, 0)\n",
      "(3, 1)\n"
     ]
    }
   ],
   "source": [
    "# 연산자 & 수학내장함수\n",
    "# 1. 절대값 abs(var)\n",
    "print(abs(-9))\n",
    "\n",
    "# 2. pow(x,y) (** 연산자 대신 사용)\n",
    "print(pow(8,2))\n",
    "\n",
    "# 3. pow(x,y,modulo)\n",
    "print(pow(8,2,3)) # 8의 제곱을 3으로 나눈 나머지  ((8 **2) % 3)\n",
    "\n",
    "# 4. round(var[ ,n])\n",
    "# 10-n또는 (10**-n)의 반올림한 근사치를 반환. n의 기본값은 0\n",
    "print(round(5.678,1))\n",
    "print(round(5.678,2))\n",
    "print(round(5.678,3))\n",
    "print(round(5.678))\n",
    "\n",
    "# 5. divmod(x,y)\n",
    "# 나눗셈의 몫과 나머지로 이루어진 tuple을 반환\n",
    "print(divmod(10,2))\n",
    "print(divmod(10,3))"
   ]
  },
  {
   "cell_type": "code",
   "execution_count": 39,
   "metadata": {},
   "outputs": [
    {
     "name": "stdout",
     "output_type": "stream",
     "text": [
      "True\n",
      "False\n"
     ]
    }
   ],
   "source": [
    "# 비교 연산자\n",
    "a = True\n",
    "b = False\n",
    "print(a==1)\n",
    "print(b!=0)"
   ]
  },
  {
   "cell_type": "code",
   "execution_count": 41,
   "metadata": {},
   "outputs": [
    {
     "name": "stdout",
     "output_type": "stream",
     "text": [
      "False\n",
      "True\n",
      "False\n"
     ]
    }
   ],
   "source": [
    "print(8>10)\n",
    "print(10 <= 10)\n",
    "print(5 >= 6)"
   ]
  },
  {
   "cell_type": "code",
   "execution_count": 42,
   "metadata": {},
   "outputs": [
    {
     "name": "stdout",
     "output_type": "stream",
     "text": [
      "Doing some work...\n",
      "Doing some work...\n",
      "Doing some work...\n",
      "Doing some work...\n",
      "Doing some work...\n",
      "Doing some work...\n",
      "Doing some work...\n",
      "False\n",
      "True\n"
     ]
    }
   ],
   "source": [
    "# 식 내에서 비교\n",
    "x = 2*8\n",
    "y = 2\n",
    "while x != y:\n",
    "      print ('Doing some work...')\n",
    "      y = y + 2\n",
    "\n",
    "# 삼항 비교도 할 수 있음\n",
    "print(3<2<3) # 3<2와 2<3이 AND로 연결되어있는것임.\n",
    "print(3<4<8) # print(3<4 and 4<8)"
   ]
  },
  {
   "cell_type": "code",
   "execution_count": 47,
   "metadata": {},
   "outputs": [
    {
     "name": "stdout",
     "output_type": "stream",
     "text": [
      "0b1110\n",
      "-15\n",
      "-28\n"
     ]
    }
   ],
   "source": [
    "# 비트연산자\n",
    "print(bin(14))\n",
    "print(~14) \n",
    "print(~27)"
   ]
  },
  {
   "cell_type": "code",
   "execution_count": 48,
   "metadata": {},
   "outputs": [
    {
     "name": "stdout",
     "output_type": "stream",
     "text": [
      "-0b1111\n"
     ]
    }
   ],
   "source": [
    "print(bin(~14))"
   ]
  },
  {
   "cell_type": "code",
   "execution_count": 49,
   "metadata": {},
   "outputs": [
    {
     "name": "stdout",
     "output_type": "stream",
     "text": [
      "6\n",
      "12\n",
      "96\n",
      "1\n",
      "4\n",
      "5\n",
      "2\n"
     ]
    }
   ],
   "source": [
    "# 비트 이동연산자\n",
    "\n",
    "# 왼쪽으로 이동\n",
    "# 3*2와 동등함\n",
    "print(3<<1)\n",
    " \n",
    "# 3*2*2와 동등함\n",
    "print(3<<2)\n",
    " \n",
    "# 3*2*2*2*2*2와 동등함\n",
    "print(3<<5)\n",
    " \n",
    "# 오른쪽으로 이동\n",
    "# 3/2와 동등함\n",
    "print(3>>1)\n",
    " \n",
    "# 9/2와 동등함\n",
    "print(9>>1)\n",
    " \n",
    "# 10/2와 동등함\n",
    "print(10>>1)\n",
    " \n",
    "# 10/2/2와 동등함\n",
    "print(10>>2)"
   ]
  },
  {
   "cell_type": "code",
   "execution_count": 50,
   "metadata": {},
   "outputs": [
    {
     "name": "stdout",
     "output_type": "stream",
     "text": [
      "5\n",
      "6\n",
      "30\n"
     ]
    }
   ],
   "source": [
    "# 복합대입연산자\n",
    "x = 5  \n",
    "print(x)\n",
    " \n",
    "# x의 값에 1을 더하여 그 값을 x에 할당\n",
    "x+=1\n",
    "print(x)\n",
    " \n",
    "# x의 값에 5를 곱하여 그 값을 x에 할당\n",
    "x*=5\n",
    "print(x)"
   ]
  },
  {
   "cell_type": "code",
   "execution_count": null,
   "metadata": {},
   "outputs": [],
   "source": []
  }
 ],
 "metadata": {
  "celltoolbar": "Raw Cell Format",
  "kernelspec": {
   "display_name": "pydata",
   "language": "python",
   "name": "pydata"
  },
  "language_info": {
   "codemirror_mode": {
    "name": "ipython",
    "version": 3
   },
   "file_extension": ".py",
   "mimetype": "text/x-python",
   "name": "python",
   "nbconvert_exporter": "python",
   "pygments_lexer": "ipython3",
   "version": "3.7.10"
  }
 },
 "nbformat": 4,
 "nbformat_minor": 4
}

{
 "cells": [
  {
   "cell_type": "code",
   "execution_count": 1,
   "metadata": {},
   "outputs": [
    {
     "name": "stdout",
     "output_type": "stream",
     "text": [
      "10\n",
      "positive\n"
     ]
    }
   ],
   "source": [
    "# 내장함수\n",
    "# abs(), bool()\n",
    "# abs() : 절대값을 구해주는 내장함수\n",
    "neg=-10\n",
    "print(abs(neg))\n",
    "if abs(neg)>0:\n",
    "    print(\"positive\")"
   ]
  },
  {
   "cell_type": "code",
   "execution_count": 46,
   "metadata": {},
   "outputs": [
    {
     "name": "stdout",
     "output_type": "stream",
     "text": [
      "False\n",
      "False\n",
      "False\n",
      "True\n",
      "True\n",
      "True\n",
      "좋아하는 색을 입력하세요: bus\n",
      "bus색을 좋아하는 군요.\n"
     ]
    }
   ],
   "source": [
    "# bool() : 주어진 값이 참인지 거짓인지 알려주는 함수\n",
    "num0 = 0\n",
    "num1 = 1\n",
    "empty_list = []\n",
    "full_list = [1, 2, 3]\n",
    "empty_str = \"\"\n",
    "full_str = \"파이썬\"\n",
    "# 숫자가 0이거나 list 또는 string이 비어있으면 False: \n",
    "print(bool(num0))\n",
    "print(bool(empty_list))\n",
    "print(bool(empty_str))\n",
    "\n",
    "print(bool(num1))\n",
    "print(bool(full_list))\n",
    "print(bool(full_str))\n",
    " \n",
    "color = input('좋아하는 색을 입력하세요: ')\n",
    "if not bool(color):\n",
    "    print('색을 반드시 입력해야 합니다.')\n",
    "else:\n",
    "    print(color + '색을 좋아하는 군요.')"
   ]
  },
  {
   "cell_type": "code",
   "execution_count": 10,
   "metadata": {},
   "outputs": [
    {
     "name": "stdout",
     "output_type": "stream",
     "text": [
      "['In', 'Out', '_', '_3', '_6', '_7', '_9', '__', '___', '__builtin__', '__builtins__', '__doc__', '__loader__', '__name__', '__package__', '__spec__', '_dh', '_i', '_i1', '_i10', '_i2', '_i3', '_i4', '_i5', '_i6', '_i7', '_i8', '_i9', '_ih', '_ii', '_iii', '_oh', 'color', 'empty_list', 'empty_str', 'exit', 'full_list', 'full_str', 'get_ipython', 'myList', 'neg', 'num0', 'num1', 'quit']\n",
      "doc\n",
      "['__add__', '__class__', '__contains__', '__delattr__', '__delitem__', '__dir__', '__doc__', '__eq__', '__format__', '__ge__', '__getattribute__', '__getitem__', '__gt__', '__hash__', '__iadd__', '__imul__', '__init__', '__init_subclass__', '__iter__', '__le__', '__len__', '__lt__', '__mul__', '__ne__', '__new__', '__reduce__', '__reduce_ex__', '__repr__', '__reversed__', '__rmul__', '__setattr__', '__setitem__', '__sizeof__', '__str__', '__subclasshook__', 'append', 'clear', 'copy', 'count', 'extend', 'index', 'insert', 'pop', 'remove', 'reverse', 'sort']\n",
      "hash\n",
      "Help on built-in function append:\n",
      "\n",
      "append(object, /) method of builtins.list instance\n",
      "    Append object to the end of the list.\n",
      "\n",
      "None\n"
     ]
    }
   ],
   "source": [
    "# dir(), help(), input()\n",
    "# dir() : 현재 사용할 수 있는 변수들을 보여준다.\n",
    "# dir(객체) : 객체가 사용할 수 기능들을 보여준다.\n",
    "myList = [1, 2, 3]\n",
    "print(dir())  #현재 상태에서 사용할 수 있는 변수들을 보여줌\n",
    "input()\n",
    "\n",
    "print(dir(myList)) #리스트형인 myList변수로 사용할 수 있는 함수들을 보여줌\n",
    "input()\n",
    "\n",
    "# help() : 주어진 값에 대한 도움말 기능이다.\n",
    "print(help(myList.append)) # append()의 사용법을 보여준다.\n",
    "\n",
    "# input()는 사용자의 키보드 입력을 기다리기 때문에 화면을 잠시\n",
    "# 정지시킬 수 있다. 엔터를 치면 다음 코드를 실행한다."
   ]
  },
  {
   "cell_type": "code",
   "execution_count": 13,
   "metadata": {},
   "outputs": [
    {
     "name": "stdout",
     "output_type": "stream",
     "text": [
      "2000\n"
     ]
    }
   ],
   "source": [
    "# eval(), exec(), compile()\n",
    "\n",
    "# 수식: 변수, 연산자, 함수 호출 등 최종값을 만들 수 있는 것\n",
    "# 문장: 수식을 포함해 한줄을 구성할 수 있는 모든 것\n",
    "\n",
    "# eval(): python 수식 형탱의 문자열을 인수로 받아서 실제로 실행시킬 수 있는\n",
    "# 파이썬의 수식을 변환하여 실행까지 해준다 (문장은 넣을수없고 수식만 넣어야함)\n",
    "print(eval('1000*2'))"
   ]
  },
  {
   "cell_type": "code",
   "execution_count": 28,
   "metadata": {},
   "outputs": [
    {
     "name": "stdout",
     "output_type": "stream",
     "text": [
      "2\n"
     ]
    }
   ],
   "source": [
    "number = 1\n",
    "exp = 'print(number + 1)'\n",
    "num = eval(exp)"
   ]
  },
  {
   "cell_type": "code",
   "execution_count": 27,
   "metadata": {},
   "outputs": [
    {
     "name": "stdout",
     "output_type": "stream",
     "text": [
      "I love my love\n"
     ]
    }
   ],
   "source": [
    "# exec(): 문장을 받아 파이썬 코드로 변환하고 실행해주는 함수\n",
    "state1 = 'print(\"I love my love\")'\n",
    "message = exec(state1)"
   ]
  },
  {
   "cell_type": "code",
   "execution_count": 17,
   "metadata": {},
   "outputs": [
    {
     "name": "stdout",
     "output_type": "stream",
     "text": [
      "2\n"
     ]
    }
   ],
   "source": [
    "state2 = '''\n",
    "number =1\n",
    "for item in [1,2,3]:\n",
    "    number = number+1\n",
    "    if item%2:\n",
    "        break\n",
    "print(number)'''\n",
    "exec(state2)"
   ]
  },
  {
   "cell_type": "code",
   "execution_count": 18,
   "metadata": {},
   "outputs": [],
   "source": [
    "# compile(): 문자열을 미리 파이썬 코드로 변환해주는 함수\n",
    "# 미리 변환해 두기 때문에 실제 속도에서 빠르다.\n",
    "# 변환만 해주기 때문에 실행하기 위해서 eval()과 exec()와 함께 사용한다."
   ]
  },
  {
   "cell_type": "code",
   "execution_count": 33,
   "metadata": {},
   "outputs": [
    {
     "name": "stdout",
     "output_type": "stream",
     "text": [
      "1 100\n"
     ]
    }
   ],
   "source": [
    "number = 0\n",
    "exp = 'number+1'\n",
    "# <string> 대신, 수식/문장이 저장된 파일명이 올수 있다.\n",
    "code1 = compile(exp, '<string>', 'eval')\n",
    "for h in range(100):\n",
    "    number = eval(code1)\n",
    "print('1',number)"
   ]
  },
  {
   "cell_type": "code",
   "execution_count": null,
   "metadata": {},
   "outputs": [],
   "source": [
    "# single : 단 한줄의 문장을 변환할 때 선택하는 모드로 반환값이 없다.\n",
    "state1 = 'number = number + 1'\n",
    "code2 = compile(state1, '<string>', 'single')\n",
    "for h in range(100):\n",
    "    exec(code2)\n",
    "print('2', number)"
   ]
  },
  {
   "cell_type": "code",
   "execution_count": 47,
   "metadata": {},
   "outputs": [
    {
     "name": "stdout",
     "output_type": "stream",
     "text": [
      "0.0\n",
      "-10.0\n",
      "10.0\n",
      "3.14\n"
     ]
    }
   ],
   "source": [
    "# float()\n",
    "print(float())\n",
    " \n",
    "print(float(-10))\n",
    "print(float('10'))\n",
    " \n",
    "print(float('3.14'))"
   ]
  },
  {
   "cell_type": "code",
   "execution_count": 48,
   "metadata": {},
   "outputs": [
    {
     "name": "stdout",
     "output_type": "stream",
     "text": [
      "0\n",
      "10\n",
      "3\n",
      "1234\n"
     ]
    }
   ],
   "source": [
    "# int()\n",
    "print(int())\n",
    "print(int(10))\n",
    " \n",
    "print(int(3.74))\n",
    "print(int('1234'))"
   ]
  },
  {
   "cell_type": "code",
   "execution_count": 50,
   "metadata": {},
   "outputs": [
    {
     "name": "stdout",
     "output_type": "stream",
     "text": [
      "문자열: 6\n",
      "리스트: 7\n",
      "사전 0 : 손흥민\n",
      "사전 1 : 손흥민\n",
      "사전 2 : 손흥민\n"
     ]
    }
   ],
   "source": [
    "# len()\n",
    "print('문자열:', len('python'))\n",
    " \n",
    "myList = [1, 2, 3, 4, 5, 6, 7]\n",
    "print('리스트:', len(myList))\n",
    " \n",
    "myDict = {0:'호날두', 1:'메시', 2:'손흥민'} \n",
    "for i in range(len(myDict)):\n",
    "    print('사전',i,':', myDict[item])"
   ]
  },
  {
   "cell_type": "code",
   "execution_count": 56,
   "metadata": {},
   "outputs": [
    {
     "name": "stdout",
     "output_type": "stream",
     "text": [
      "0\n",
      "1\n"
     ]
    }
   ],
   "source": [
    "# pow()\n",
    "# pow() : 지수승을 구해주는 함수이다. ** 연산과 같다. 더 나은 점이 있다면\n",
    "# pow()의 세번째 인자가 있는데 pow(10, 2, 2) 는 10을 2제곱승 해주고 2로 나눈 나머지를 구해준다.\n",
    "print(pow(10, 2, 2))\n",
    "print(pow(10, 2, 3))"
   ]
  },
  {
   "cell_type": "code",
   "execution_count": 57,
   "metadata": {},
   "outputs": [
    {
     "name": "stdout",
     "output_type": "stream",
     "text": [
      "367.53\n",
      "367.5\n",
      "370.0\n",
      "400.0\n"
     ]
    }
   ],
   "source": [
    "# round()\n",
    "print(round(367.5254, 2)) # 소수점 세째자리에서 반올림 해서, 소수점 둘째 자리까지 보여줌 \n",
    " \n",
    "print(round(367.5454, 1))  # 소수점 둘째자리에서 반올림 해서, 소수점 첫째 자리까지 보여줌 \n",
    " \n",
    "print(round(367.5254, -1)) #정수 일의자리에서 반올림 해서 십의자리까지 보여줌\n",
    " \n",
    "print(round(367.5254, -2)) #정수 십의자리에서 반올림 해서 백의자리까지 보여줌"
   ]
  },
  {
   "cell_type": "code",
   "execution_count": 58,
   "metadata": {},
   "outputs": [
    {
     "name": "stdout",
     "output_type": "stream",
     "text": [
      "21\n"
     ]
    }
   ],
   "source": [
    "# sum()\n",
    "myList = [1, 2, 3, 4, 5, 6]\n",
    "print(sum(myList))"
   ]
  },
  {
   "cell_type": "code",
   "execution_count": null,
   "metadata": {},
   "outputs": [],
   "source": [
    "# max(), min()\n",
    "# 아스키 코드에서 숫자 < 영어 대문자 < 영어 소문자 순으로 크기가 정해져 있다.\n",
    "# 아스키 코드에서 공백은 32번, 숫자는 48~57번, 영어 대문자 65~90번, 영어 소문자 97~ 122번 이다."
   ]
  },
  {
   "cell_type": "code",
   "execution_count": 59,
   "metadata": {},
   "outputs": [
    {
     "name": "stdout",
     "output_type": "stream",
     "text": [
      "99 1\n",
      "영문자 중 가장 큰 문자: e\n",
      "서로 다른 문자들 중 큰 문자: a\n",
      "문장 속 최댓값 문자: z\n",
      "문장 속 최솟값 문자:  \n"
     ]
    }
   ],
   "source": [
    "myTup = (56, 79, 82, 1, 22, 99)\n",
    "print(max(myTup), min(myTup))\n",
    " \n",
    "print('영문자 중 가장 큰 문자:', max('abcde'))\n",
    "print('서로 다른 문자들 중 큰 문자:', max('0Aa'))\n",
    " \n",
    "print('문장 속 최댓값 문자:', max('I went to the zoo yesterday, 27 March.'))\n",
    "# 문장 속 최소값으로 공백이 출력된다.\n",
    "print('문장 속 최솟값 문자:', min('I went to the zoo yesterday, 27 March.'))"
   ]
  },
  {
   "cell_type": "code",
   "execution_count": null,
   "metadata": {},
   "outputs": [],
   "source": [
    "# any(), all()\n",
    "# 어떤 객체의 내부 값을 확인하여 참과 거짓을 표시한다.\n",
    "# any() : 내부 원소의 값이 하나라도 참이면 참값으로 처리한다.\n",
    "# all() : 내부 원소의 값이 모두 참일 경우면 참값으로 처리한다."
   ]
  },
  {
   "cell_type": "code",
   "execution_count": 62,
   "metadata": {},
   "outputs": [
    {
     "data": {
      "text/plain": [
       "True"
      ]
     },
     "execution_count": 62,
     "metadata": {},
     "output_type": "execute_result"
    }
   ],
   "source": [
    "i = [1,2,3,4,5]\n",
    "j = [1,2,None,4,5]\n",
    "any(j)"
   ]
  },
  {
   "cell_type": "code",
   "execution_count": 63,
   "metadata": {},
   "outputs": [
    {
     "data": {
      "text/plain": [
       "False"
      ]
     },
     "execution_count": 63,
     "metadata": {},
     "output_type": "execute_result"
    }
   ],
   "source": [
    "all(j)"
   ]
  },
  {
   "cell_type": "code",
   "execution_count": 64,
   "metadata": {},
   "outputs": [
    {
     "data": {
      "text/plain": [
       "False"
      ]
     },
     "execution_count": 64,
     "metadata": {},
     "output_type": "execute_result"
    }
   ],
   "source": [
    "bool(None)"
   ]
  },
  {
   "cell_type": "code",
   "execution_count": 65,
   "metadata": {},
   "outputs": [
    {
     "data": {
      "text/plain": [
       "False"
      ]
     },
     "execution_count": 65,
     "metadata": {},
     "output_type": "execute_result"
    }
   ],
   "source": [
    "bool([])"
   ]
  },
  {
   "cell_type": "code",
   "execution_count": 68,
   "metadata": {},
   "outputs": [
    {
     "data": {
      "text/plain": [
       "False"
      ]
     },
     "execution_count": 68,
     "metadata": {},
     "output_type": "execute_result"
    }
   ],
   "source": [
    "#any()에 빈객체를 넣어서 실행하면 False가 되고 all()에 빈 객체를 전달하면 참이 나온다.\n",
    "any([])"
   ]
  },
  {
   "cell_type": "code",
   "execution_count": 67,
   "metadata": {},
   "outputs": [
    {
     "data": {
      "text/plain": [
       "True"
      ]
     },
     "execution_count": 67,
     "metadata": {},
     "output_type": "execute_result"
    }
   ],
   "source": [
    "all([])"
   ]
  },
  {
   "cell_type": "code",
   "execution_count": 44,
   "metadata": {},
   "outputs": [
    {
     "name": "stdout",
     "output_type": "stream",
     "text": [
      "True\n"
     ]
    }
   ],
   "source": [
    "x=[1,2,3,4]\n",
    "y=[1,2,3,4]\n",
    "print(bool(x==y))"
   ]
  },
  {
   "cell_type": "code",
   "execution_count": 78,
   "metadata": {},
   "outputs": [
    {
     "data": {
      "text/plain": [
       "<function __main__.<lambda>(x)>"
      ]
     },
     "execution_count": 78,
     "metadata": {},
     "output_type": "execute_result"
    }
   ],
   "source": [
    "##############################################################\n",
    "# lambda(람다) 함수 \n",
    "# : colon을 중심으로 왼쪽은 매개변수를 정의, \n",
    "# 오른쪽은 매개변수로 무엇을 계산해서 반환하는지를 정의\n",
    "\n",
    "# 표현식 함수\n",
    "lambda x:x"
   ]
  },
  {
   "cell_type": "code",
   "execution_count": 20,
   "metadata": {},
   "outputs": [
    {
     "data": {
      "text/plain": [
       "5"
      ]
     },
     "execution_count": 20,
     "metadata": {},
     "output_type": "execute_result"
    }
   ],
   "source": [
    "# 람다 표현식 함수를 인자값 5를 넣어서 호출한다.\n",
    "(lambda x:x)(5)"
   ]
  },
  {
   "cell_type": "code",
   "execution_count": 22,
   "metadata": {},
   "outputs": [
    {
     "data": {
      "text/plain": [
       "15"
      ]
     },
     "execution_count": 22,
     "metadata": {},
     "output_type": "execute_result"
    }
   ],
   "source": [
    "# 일반적으로 람다 함수 정의 한 후 그대로 사용한다.\n",
    "(lambda x,y:x+y)(5,10)"
   ]
  },
  {
   "cell_type": "code",
   "execution_count": 21,
   "metadata": {},
   "outputs": [
    {
     "data": {
      "text/plain": [
       "15"
      ]
     },
     "execution_count": 21,
     "metadata": {},
     "output_type": "execute_result"
    }
   ],
   "source": [
    "# 변수에 람다함수를 넣어서 더 간결하게 호출할 수 있다\n",
    "x = lambda x,y:x+y\n",
    "x(5,10)"
   ]
  },
  {
   "cell_type": "code",
   "execution_count": 37,
   "metadata": {},
   "outputs": [
    {
     "data": {
      "text/plain": [
       "function"
      ]
     },
     "execution_count": 37,
     "metadata": {},
     "output_type": "execute_result"
    }
   ],
   "source": [
    "import types\n",
    "x =  lambda x, y : x+y\n",
    "types.LambdaType == type(x)\n",
    "type(x)"
   ]
  },
  {
   "cell_type": "code",
   "execution_count": 39,
   "metadata": {},
   "outputs": [
    {
     "data": {
      "text/plain": [
       "True"
      ]
     },
     "execution_count": 39,
     "metadata": {},
     "output_type": "execute_result"
    }
   ],
   "source": [
    "types.FunctionType == type(add)\n",
    "types.LambdaType == types.FunctionType"
   ]
  },
  {
   "cell_type": "code",
   "execution_count": 30,
   "metadata": {},
   "outputs": [
    {
     "data": {
      "text/plain": [
       "300"
      ]
     },
     "execution_count": 30,
     "metadata": {},
     "output_type": "execute_result"
    }
   ],
   "source": [
    "###########################################################\n",
    "# 람다함수를 함수의 인자로 전달\n",
    "\n",
    "# lambda 함수 예시1\n",
    "def add(x,y):\n",
    "    return x+y\n",
    "\n",
    "# lambda함수로 x(=10)이 들어가서 lambda함수안에서 z로 받은 후, z*z(=10*10)실행후, \n",
    "# 100의 값을 add의 인자값중 하나로 넣어준다.\n",
    "# add의 인자값으로 100, 200이 들어가서 결과 300이 출력된다.\n",
    "x = 10\n",
    "add((lambda z:z*z)(x),200)"
   ]
  },
  {
   "cell_type": "code",
   "execution_count": 83,
   "metadata": {},
   "outputs": [
    {
     "data": {
      "text/plain": [
       "[1, 4, 9, 16]"
      ]
     },
     "execution_count": 83,
     "metadata": {},
     "output_type": "execute_result"
    }
   ],
   "source": [
    "#lambda 함수 예시2 \n",
    "def apply(func, obj):\n",
    "    return func(obj)\n",
    "y = [1,2,3,4]\n",
    "\n",
    "apply(lambda x: [i*i for i in x],y)\n",
    "\n",
    "# func, obj를 다루는 function apply에\n",
    "# lambda function에서 list로 반환될 것이 매개변수 func으로 넣어질것이고 ,\n",
    "# y가 매개변수 obj로 넣어질것이다.\n",
    "\n",
    "# lambda x:[] 형식이기때문에 list가 반환된다.\n",
    "# x의 i마다 i*i를 계산해서 list에 넣어 반환한다.\n",
    "\n",
    "# 결국, y=[1,2,3,4]가 func()의 obj로 들어가서 각 원소의 재곱을 담은 list로 반환된다."
   ]
  },
  {
   "cell_type": "code",
   "execution_count": 32,
   "metadata": {},
   "outputs": [
    {
     "data": {
      "text/plain": [
       "20"
      ]
     },
     "execution_count": 32,
     "metadata": {},
     "output_type": "execute_result"
    }
   ],
   "source": [
    "#lambda 함수 예시3\n",
    "x=2\n",
    "def multiply(a,b):\n",
    "    return a*b\n",
    "multiply((lambda z: z*z)(x),5)"
   ]
  },
  {
   "cell_type": "code",
   "execution_count": 41,
   "metadata": {},
   "outputs": [
    {
     "name": "stdout",
     "output_type": "stream",
     "text": [
      "1\n",
      "4\n",
      "9\n",
      "16\n"
     ]
    }
   ],
   "source": [
    "###################################################################\n",
    "# 클래스 map과 filter에 함수표현식(람다표현) 인자로 전달\n",
    "\n",
    "# map - 함수를 받아 들어온 객체의 원소를 변형하는 일을 한다.\n",
    "m = [1,2,3,4]\n",
    "for i in map(lambda x: x*x, m):\n",
    "    print(i)"
   ]
  },
  {
   "cell_type": "code",
   "execution_count": 42,
   "metadata": {},
   "outputs": [
    {
     "data": {
      "text/plain": [
       "[1, 4, 9, 16]"
      ]
     },
     "execution_count": 42,
     "metadata": {},
     "output_type": "execute_result"
    }
   ],
   "source": [
    "# list내부에 map 클래스를 정의하고 이름앞에 *를 붙이면 처리된 원소가 리스트 객체안에 원소로 들어간다\n",
    "[*map(lambda x : x*x, m)]"
   ]
  },
  {
   "cell_type": "code",
   "execution_count": 44,
   "metadata": {},
   "outputs": [
    {
     "name": "stdout",
     "output_type": "stream",
     "text": [
      "2\n",
      "4\n"
     ]
    }
   ],
   "source": [
    "# filter - 원소가 많은 객체를 인자로 받아서 함수의 결과가 True인 경우만 반환처리\n",
    "for i in filter(lambda x:(x%2==0),m):\n",
    "    print(i)"
   ]
  },
  {
   "cell_type": "code",
   "execution_count": 45,
   "metadata": {},
   "outputs": [
    {
     "data": {
      "text/plain": [
       "[2, 4]"
      ]
     },
     "execution_count": 45,
     "metadata": {},
     "output_type": "execute_result"
    }
   ],
   "source": [
    "[*filter(lambda x: (x%2==0),m)]"
   ]
  },
  {
   "cell_type": "code",
   "execution_count": null,
   "metadata": {},
   "outputs": [],
   "source": [
    "# lambda 함수로 함수체인 만들기\n",
    "# 함수체인: 함수를 연속해서 호출하는 것\n",
    "# lambda함수 표현식에 다른 함수를 호출한다."
   ]
  },
  {
   "cell_type": "code",
   "execution_count": null,
   "metadata": {},
   "outputs": [],
   "source": [
    "# 함수 선언 방식\n",
    "# 1. def func():\n",
    "#       처리내용\n",
    "# 2. lambda x:처리내용\n",
    "\n",
    "# 함수 호출 방식\n",
    "# 1. 함수(인자값)\n",
    "# 2. (lambda)(인자값)"
   ]
  },
  {
   "cell_type": "code",
   "execution_count": 15,
   "metadata": {},
   "outputs": [],
   "source": [
    "_list = []\n",
    "def compose(x, func) :\n",
    "    _list.append(x) #x를 list맨뒤에 추가\n",
    "    return func #return func()였다면 실행 후 값이겠지만, return func 이기때문에 실행전 func자체가 return되는것임.\n",
    "\n",
    "\n",
    "def add(x) :\n",
    "    result = 0\n",
    "    for i in _list :\n",
    "        result += i\n",
    "    return result + x"
   ]
  },
  {
   "cell_type": "code",
   "execution_count": 16,
   "metadata": {},
   "outputs": [
    {
     "data": {
      "text/plain": [
       "15"
      ]
     },
     "execution_count": 16,
     "metadata": {},
     "output_type": "execute_result"
    }
   ],
   "source": [
    "a = lambda x : compose(x, b) #x는 매개변수\n",
    "b = lambda y : compose(y, c) \n",
    "c = lambda z : add(z)\n",
    "\n",
    "a(5)(5)(5)\n",
    "\n",
    "#위 문장이 실행되는 과정:\n",
    "# since a = lambda x:compose(x,b)\n",
    "# 1. execute compose(x=5, b)(5)(5) --> compose(x=5, b) returns function b and we have list=[5]\n",
    "# since b = lambda y:compose(y,c) \n",
    "# 2. execute compose(y=5,c)(5) --> compose(y=5,c) returns function c and we have list=[5,5]\n",
    "# since c = lambda z:add(z)\n",
    "# 3. execute add(z=5) --> add(z=5) returns result=15 and we still have list=[5,5]"
   ]
  },
  {
   "cell_type": "code",
   "execution_count": 22,
   "metadata": {},
   "outputs": [
    {
     "data": {
      "text/plain": [
       "'<lambda>'"
      ]
     },
     "execution_count": 22,
     "metadata": {},
     "output_type": "execute_result"
    }
   ],
   "source": [
    "a.__name__\n",
    "b.__name__\n",
    "c.__name__"
   ]
  },
  {
   "cell_type": "code",
   "execution_count": 18,
   "metadata": {},
   "outputs": [
    {
     "data": {
      "text/plain": [
       "[5, 5]"
      ]
     },
     "execution_count": 18,
     "metadata": {},
     "output_type": "execute_result"
    }
   ],
   "source": [
    "_list"
   ]
  },
  {
   "cell_type": "code",
   "execution_count": 23,
   "metadata": {},
   "outputs": [
    {
     "data": {
      "text/plain": [
       "function"
      ]
     },
     "execution_count": 23,
     "metadata": {},
     "output_type": "execute_result"
    }
   ],
   "source": [
    "type(add)"
   ]
  },
  {
   "cell_type": "code",
   "execution_count": 24,
   "metadata": {},
   "outputs": [
    {
     "data": {
      "text/plain": [
       "function"
      ]
     },
     "execution_count": 24,
     "metadata": {},
     "output_type": "execute_result"
    }
   ],
   "source": [
    "type(a)"
   ]
  }
 ],
 "metadata": {
  "kernelspec": {
   "display_name": "pydata",
   "language": "python",
   "name": "pydata"
  },
  "language_info": {
   "codemirror_mode": {
    "name": "ipython",
    "version": 3
   },
   "file_extension": ".py",
   "mimetype": "text/x-python",
   "name": "python",
   "nbconvert_exporter": "python",
   "pygments_lexer": "ipython3",
   "version": "3.7.10"
  }
 },
 "nbformat": 4,
 "nbformat_minor": 4
}

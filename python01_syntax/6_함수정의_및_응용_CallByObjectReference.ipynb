{
 "cells": [
  {
   "cell_type": "code",
   "execution_count": 3,
   "metadata": {
    "scrolled": true
   },
   "outputs": [
    {
     "name": "stdout",
     "output_type": "stream",
     "text": [
      "25\n",
      "whateverwhenever\n"
     ]
    }
   ],
   "source": [
    "# 함수의 인자\n",
    "# 매개변수 parameter : 함수에 입력으로 전달되는 값을 받는 변수\n",
    "# 인자 argument : 함수를 호출할 때 전달하는 입력값\n",
    "\n",
    "def add_number(n1,n2):\n",
    "    ret= n1+n2\n",
    "    return ret\n",
    "def add_text(t1,t2):\n",
    "    print(t1+t2)\n",
    "# add_number 함수의 parameter는 n1, n2이고 argument는 10,15이다.\n",
    "\n",
    "# parameter vs. argument: 결국 같은것을 뜻함. 그러나 \n",
    "# 호출할때 실제 값을 보낼때 argument (인자값)을 사용, \n",
    "# 함수에서 실행할때 값을 받아 locally 저장하는 parameter(매개변수)를 사용\n",
    "\n",
    "ans = add_number(10,15)\n",
    "print(ans)\n",
    "\n",
    "text1 = \"whatever\"\n",
    "text2 = \"whenever\"\n",
    "add_text(text1,text2)"
   ]
  },
  {
   "cell_type": "code",
   "execution_count": 4,
   "metadata": {},
   "outputs": [
    {
     "name": "stdout",
     "output_type": "stream",
     "text": [
      "<class 'function'>\n"
     ]
    }
   ],
   "source": [
    "# 함수도 객체이다. \n",
    "# 객체라는 것은 만든 클래스가 있다는 뜻.\n",
    "\n",
    "# type 클래스에 함수이름을 전달하여 확인한다.\n",
    "print(type(add_number))"
   ]
  },
  {
   "cell_type": "code",
   "execution_count": 7,
   "metadata": {},
   "outputs": [
    {
     "data": {
      "text/plain": [
       "True"
      ]
     },
     "execution_count": 7,
     "metadata": {},
     "output_type": "execute_result"
    }
   ],
   "source": [
    "import types\n",
    "type(add_number) == types.FunctionType"
   ]
  },
  {
   "cell_type": "code",
   "execution_count": 9,
   "metadata": {},
   "outputs": [
    {
     "data": {
      "text/plain": [
       "'function'"
      ]
     },
     "execution_count": 9,
     "metadata": {},
     "output_type": "execute_result"
    }
   ],
   "source": [
    "# 함수 add_number는 FunctionType 클래스의 객체이다.\n",
    "# FunctionType 클래스의 __name__ 스페셜 속성에 있는 문자열 정보이다.\n",
    "types.FunctionType.__name__"
   ]
  },
  {
   "cell_type": "code",
   "execution_count": 10,
   "metadata": {},
   "outputs": [
    {
     "data": {
      "text/plain": [
       "True"
      ]
     },
     "execution_count": 10,
     "metadata": {},
     "output_type": "execute_result"
    }
   ],
   "source": [
    "isinstance(add_number,types.FunctionType)"
   ]
  },
  {
   "cell_type": "code",
   "execution_count": 34,
   "metadata": {},
   "outputs": [
    {
     "name": "stdout",
     "output_type": "stream",
     "text": [
      "Inside Function: GeeksforGeeks\n",
      "Outside Function: Geeks\n"
     ]
    }
   ],
   "source": [
    "# python은 Call by Object Assignment/ Object Reference방식을 사용한다. \n",
    "\n",
    "# 함수의 매개변수가 참조에 의해 전달되는데, 더 자세하게는:\n",
    "# Immutable obj를 call/pass 할때에는 call by value 방식을,\n",
    "# Mutable obj를 call/pass할때에는 call by reference 방식을 사용한다.\n",
    "\n",
    "# Call by value 예시1\n",
    "string = \"Geeks\"\n",
    "\n",
    "def test(string):\n",
    "      \n",
    "    string = \"GeeksforGeeks\"\n",
    "    print(\"Inside Function:\", string)\n",
    "      \n",
    "test(string)\n",
    "# 문자열은 원본값이 변하지 않는다.\n",
    "print(\"Outside Function:\", string)"
   ]
  },
  {
   "cell_type": "code",
   "execution_count": 35,
   "metadata": {},
   "outputs": [
    {
     "name": "stdout",
     "output_type": "stream",
     "text": [
      "2070362916528\n",
      "The string inside the function: hello_changed\n",
      "2070385728304\n",
      "2070362916528\n",
      "hello\n"
     ]
    }
   ],
   "source": [
    "# Python에서 불변하는 것(string, tuple, number등)을 다룰때에는 \"Call by value\"방식과 동일이다\n",
    "# 불변하는 문자열 객체를 함수로 넘겨주고 변경하는 경우에는 분자열의 복사본이 만들어진다.\n",
    "# id는 객체의 참조값 (주소처럼 사용되는 유일한 값(java에서는 hashcode))을 알려준다.\n",
    "\n",
    "# Call by value 예시 2\n",
    "def changestr(mystr):\n",
    "    print(id(mystr))\n",
    "    mystr = mystr + '_changed'\n",
    "    print('The string inside the function: {}'.format(mystr))\n",
    "    print(id(mystr))\n",
    "    return\n",
    "\n",
    "mystr = 'hello'\n",
    "changestr(mystr)\n",
    "\n",
    "# 문자열은 원본값이 변하지 않는다.\n",
    "print(id(mystr))\n",
    "print(mystr)"
   ]
  },
  {
   "cell_type": "code",
   "execution_count": 21,
   "metadata": {},
   "outputs": [
    {
     "name": "stdout",
     "output_type": "stream",
     "text": [
      "hello_changed\n"
     ]
    }
   ],
   "source": [
    "mystr=\"hello\"\n",
    "mystr = mystr+'_changed'\n",
    "print(mystr)"
   ]
  },
  {
   "cell_type": "code",
   "execution_count": 37,
   "metadata": {},
   "outputs": [
    {
     "name": "stdout",
     "output_type": "stream",
     "text": [
      "Inside Function [10, 20, 30, 40, 50]\n",
      "Outside Function: [10, 20, 30, 40, 50]\n"
     ]
    }
   ],
   "source": [
    "# Python에서 변하는 것(list, set, dictionary,등)을 다룰때에는 \"Call by reference\"방식과 동일이다\n",
    "# Call by reference 예시1\n",
    "\n",
    "def add_more(list):\n",
    "    list.append(50)\n",
    "    print(\"Inside Function\", list)\n",
    "\n",
    "mylist = [10,20,30,40]\n",
    "  \n",
    "add_more(mylist)\n",
    "print(\"Outside Function:\", mylist)"
   ]
  },
  {
   "cell_type": "code",
   "execution_count": 24,
   "metadata": {},
   "outputs": [
    {
     "name": "stdout",
     "output_type": "stream",
     "text": [
      "8\n"
     ]
    }
   ],
   "source": [
    "# 함수를 인수로 전달\n",
    "def perform_calc(value1, value2, func):\n",
    "    return func(value1, value2)\n",
    "\n",
    "def mult_values(value1, value2):\n",
    "    return value1*value2\n",
    "\n",
    "print(perform_calc(2,4,mult_values))"
   ]
  },
  {
   "cell_type": "code",
   "execution_count": 27,
   "metadata": {},
   "outputs": [
    {
     "name": "stdout",
     "output_type": "stream",
     "text": [
      "6\n"
     ]
    }
   ],
   "source": [
    "def perform_calc(value1, value2, func):\n",
    "    return func(value1, value2)\n",
    "\n",
    "def add_values(value1, value2):\n",
    "    return value1+value2\n",
    "\n",
    "print(perform_calc(2,4,add_values))"
   ]
  },
  {
   "cell_type": "code",
   "execution_count": 31,
   "metadata": {},
   "outputs": [
    {
     "name": "stdout",
     "output_type": "stream",
     "text": [
      "good morning everyone\n",
      "good morning Mr. Park\n"
     ]
    }
   ],
   "source": [
    "# 매개변수에 기본 값 설정 \n",
    "# 함수 호출 시, 인자값이 각각의 매개변수에 주어져야 하지만, 기본값이 설정되어있으면 안주어져도 된다.\n",
    "# 주의!!!! 기본값을 설정하는 매개변수는 반드시 기본값이 없는 매개변수 보다 뒤에 배치되어야한다.\n",
    "def report(message, who='everyone'):\n",
    "    print(message, who)\n",
    "report('good morning')\n",
    "report('good morning', 'Mr. Park')"
   ]
  },
  {
   "cell_type": "code",
   "execution_count": 38,
   "metadata": {},
   "outputs": [
    {
     "name": "stdout",
     "output_type": "stream",
     "text": [
      "py-thon\n",
      "py-thon\n"
     ]
    }
   ],
   "source": [
    "# 위치 mapping \n",
    "# 기본적으로 함수에서 정의한 parameter의 순서대로 argument를 넣어 호출해야한다.\n",
    "# 단, 함수 호출 시, 매개변수 이름을 일일이 지정해 데이터를 입력하면 인수의 순서응 지키지 않아도 된다.\n",
    "# (keyword mapping)\n",
    "# 위치로 mapping되는 인자는 항상 keyword 인자보다 먼저 작성해야 한다.\n",
    "def func(a,b):\n",
    "    print(a,b,sep=\"-\")\n",
    "func('py','thon')  #위치로 매핑\n",
    "func(b='thon',a='py') #키워드로 매핑"
   ]
  },
  {
   "cell_type": "code",
   "execution_count": 39,
   "metadata": {},
   "outputs": [
    {
     "name": "stdout",
     "output_type": "stream",
     "text": [
      "py-thon\n"
     ]
    }
   ],
   "source": [
    "func('py', b='thon')"
   ]
  },
  {
   "cell_type": "code",
   "execution_count": 40,
   "metadata": {},
   "outputs": [
    {
     "ename": "SyntaxError",
     "evalue": "positional argument follows keyword argument (<ipython-input-40-248c24b14a8d>, line 1)",
     "output_type": "error",
     "traceback": [
      "\u001b[1;36m  File \u001b[1;32m\"<ipython-input-40-248c24b14a8d>\"\u001b[1;36m, line \u001b[1;32m1\u001b[0m\n\u001b[1;33m    func(a='py', 'thon')  # 오류\u001b[0m\n\u001b[1;37m                ^\u001b[0m\n\u001b[1;31mSyntaxError\u001b[0m\u001b[1;31m:\u001b[0m positional argument follows keyword argument\n"
     ]
    }
   ],
   "source": [
    "func(a='py', 'thon')  # 오류"
   ]
  },
  {
   "cell_type": "code",
   "execution_count": 41,
   "metadata": {},
   "outputs": [
    {
     "name": "stdout",
     "output_type": "stream",
     "text": [
      "[2, 4]\n",
      "[-12, 2, 48, 20]\n"
     ]
    }
   ],
   "source": [
    "# 가변인자\n",
    "# 함수를 정의할때 매개변수앞에 *를 표기해서 가변인자를 뜻하게 한다.\n",
    "# 함수를 호출할때 인자의 개수를 원하는대로 변경할 수 있는것이다.\n",
    "# 가변인자는 한 함수에 하나만 사용할 수 있다. (가변인자 뒤에 매개변수가 올수 없다)\n",
    "def select_even(*arg):\n",
    "    result = []\n",
    "    for num in arg:\n",
    "        if num%2 == 1:\n",
    "            continue\n",
    "        result.append(num)\n",
    "    return result\n",
    " \n",
    "print(select_even(1,2,3,4))\n",
    "print(select_even(-12, 2, 81, 99, 48, 20))\n",
    "# 매개변수에 *를 붙히면 가변인수가 되는데 전달된 값들은 튜풀의 형태로 저장된다."
   ]
  },
  {
   "cell_type": "code",
   "execution_count": 42,
   "metadata": {},
   "outputs": [
    {
     "name": "stdout",
     "output_type": "stream",
     "text": [
      "(10, 9, 8)\n"
     ]
    }
   ],
   "source": [
    "# 함수의 return값\n",
    "# - 함수의 리턴값은 없을 수도 있고, 하나 또는 여러값일 수 있다.\n",
    "# - return문이 없는 함수는 None값을 리턴한다.\n",
    "# - return문은 하나의 객체만 돌려준다.\n",
    "# - 리스트, 튜풀,사전등의 자료형을 사용하면 한 번에 여러개의 값을 돌려줄 수 있다.\n",
    "def returnTuple(value):\n",
    "    return value, value-1, value-2\n",
    "print(returnTuple(10))"
   ]
  },
  {
   "cell_type": "code",
   "execution_count": 43,
   "metadata": {},
   "outputs": [],
   "source": [
    "# 함수 정보 표시\n",
    "def print_odd(start, end):\n",
    "    '''주어진 범위에서 홀수를 리스트로 만들어 주는 함수입니다.\n",
    "    start: 시작 값을 지정합니다.\n",
    "    end: 끝 값을 지정합니다.'''\n",
    "    result=[]\n",
    "    for num in range(start, end+1):\n",
    "        if num%2 == 0:\n",
    "            continue\n",
    "        result.append(num)\n",
    "    return result"
   ]
  },
  {
   "cell_type": "code",
   "execution_count": 45,
   "metadata": {},
   "outputs": [
    {
     "name": "stdout",
     "output_type": "stream",
     "text": [
      "Help on function print_odd in module __main__:\n",
      "\n",
      "print_odd(start, end)\n",
      "    주어진 범위에서 홀수를 리스트로 만들어 주는 함수입니다.\n",
      "    start: 시작 값을 지정합니다.\n",
      "    end: 끝 값을 지정합니다.\n",
      "\n",
      "--------------------------------------------------\n",
      "Help on function print_odd in module __main__:\n",
      "\n",
      "print_odd(start, end)\n",
      "    이건 연습삼아서\n",
      "\n",
      "--------------------------------------------------\n",
      "[3, 5, 7, 9, 11, 13, 15, 17, 19]\n"
     ]
    }
   ],
   "source": [
    "help(print_odd)\n",
    "print('-' * 50)\n",
    "\n",
    "# 내용을 변경\n",
    "print_odd.__doc__ = '''이건 연습삼아서'''\n",
    "#변경한 내용 확인\n",
    "help(print_odd)\n",
    "\n",
    "print('-' * 50)\n",
    "print(print_odd(3, 19))"
   ]
  },
  {
   "cell_type": "code",
   "execution_count": null,
   "metadata": {},
   "outputs": [],
   "source": []
  }
 ],
 "metadata": {
  "kernelspec": {
   "display_name": "pydata",
   "language": "python",
   "name": "pydata"
  },
  "language_info": {
   "codemirror_mode": {
    "name": "ipython",
    "version": 3
   },
   "file_extension": ".py",
   "mimetype": "text/x-python",
   "name": "python",
   "nbconvert_exporter": "python",
   "pygments_lexer": "ipython3",
   "version": "3.7.10"
  }
 },
 "nbformat": 4,
 "nbformat_minor": 4
}

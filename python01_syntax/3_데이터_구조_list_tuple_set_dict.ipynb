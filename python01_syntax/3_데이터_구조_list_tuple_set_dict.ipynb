{
 "cells": [
  {
   "cell_type": "code",
   "execution_count": 1,
   "metadata": {},
   "outputs": [
    {
     "name": "stdout",
     "output_type": "stream",
     "text": [
      "4\n"
     ]
    }
   ],
   "source": [
    "# list 형태 \n",
    "my_new_list = ['new item1', 'new item2', [1,2,3,4],'new_item3',456]\n",
    "print(my_new_list[2][3])"
   ]
  },
  {
   "cell_type": "code",
   "execution_count": 2,
   "metadata": {},
   "outputs": [
    {
     "name": "stdout",
     "output_type": "stream",
     "text": [
      "['new item1', 'new item2', [1, 2, 3, 4], 'new_item3', 456]\n"
     ]
    }
   ],
   "source": [
    "my_new_list_copy= my_new_list[:]\n",
    "print(my_new_list_copy)"
   ]
  },
  {
   "cell_type": "code",
   "execution_count": 5,
   "metadata": {},
   "outputs": [
    {
     "name": "stdout",
     "output_type": "stream",
     "text": [
      "[2, 6, 10]\n",
      "[2, 6, 10, 14, 18]\n"
     ]
    }
   ],
   "source": [
    "new_list = [2,4,6,8,10,12,14,16,18,20]\n",
    "# list 인덱스 = [시작인덱스:끝인덱스:간격]\n",
    "print(new_list[0:5:2])\n",
    "print(new_list[0:10:2])"
   ]
  },
  {
   "cell_type": "code",
   "execution_count": 6,
   "metadata": {},
   "outputs": [
    {
     "name": "stdout",
     "output_type": "stream",
     "text": [
      "[2, 6, 10, 14, 18]\n"
     ]
    }
   ],
   "source": [
    "# 시작 인덱스를 비워두면 기본값이 0을 지정한 것과 같이 동작하며, \n",
    "# 끝 인덱스에 대해서는 목록의 길이가 기본값임\n",
    "print(new_list[::2])"
   ]
  },
  {
   "cell_type": "code",
   "execution_count": 8,
   "metadata": {},
   "outputs": [
    {
     "name": "stdout",
     "output_type": "stream",
     "text": [
      "['a', 'b', 'c', 'd', 'e', 'f', 'g', 'h', 'i', 'j', 'k', 'l', 'm', 'n', 'o', 'p']\n"
     ]
    }
   ],
   "source": [
    "new_list=['a','b','c','d','e','f','g']\n",
    "new_list2=['h','i','j','k','l','m','n','o','p']\n",
    "new_list.extend(new_list2)\n",
    "print (new_list)"
   ]
  },
  {
   "cell_type": "code",
   "execution_count": 9,
   "metadata": {},
   "outputs": [
    {
     "name": "stdout",
     "output_type": "stream",
     "text": [
      "['a', 'b', 'c', 'c', 'd', 'e', 'f', 'g', 'h', 'i', 'j', 'k', 'l', 'm', 'n', 'o', 'p']\n"
     ]
    }
   ],
   "source": [
    "new_list.insert(2,'c')\n",
    "print (new_list)"
   ]
  },
  {
   "cell_type": "code",
   "execution_count": 11,
   "metadata": {},
   "outputs": [
    {
     "name": "stdout",
     "output_type": "stream",
     "text": [
      "['a', 'b', [1, 1, 1], 'c']\n"
     ]
    }
   ],
   "source": [
    "# 인덱스를 통해 특정한 위치로 목록을 삽입\n",
    "new_list=[1,1,1]\n",
    "another_list = ['a', 'b', 'c']\n",
    "another_list.insert(2, new_list)\n",
    "print(another_list)"
   ]
  },
  {
   "cell_type": "code",
   "execution_count": 12,
   "metadata": {},
   "outputs": [
    {
     "name": "stdout",
     "output_type": "stream",
     "text": [
      "[500, 600, 700, 800, 300, 400]\n"
     ]
    }
   ],
   "source": [
    "# 썰기 표기법을 사용하여 목록 또는 순서의 일부를 덮어씀\n",
    "new_listA=[100,200,300,400]\n",
    "new_listB=[500,600,700,800]\n",
    "new_listA[0:2]=new_listB\n",
    "print (new_listA)"
   ]
  },
  {
   "cell_type": "code",
   "execution_count": 16,
   "metadata": {},
   "outputs": [
    {
     "name": "stdout",
     "output_type": "stream",
     "text": [
      "[]\n",
      "['a', 'b', 'e', 'f', 'c', 'd']\n"
     ]
    }
   ],
   "source": [
    "one = ['a', 'b', 'c', 'd']\n",
    "two = ['e', 'f']\n",
    "# 시작과 종료 위치를 동일하게 하여 목록으로부터 빈 조각을 만들어낸다.\n",
    "# 시작과 끝 위치를 동일하게 쓰는 한, 어느 위치든 상관 없음.\n",
    "# 이것에 대해 유용한 점은 이것을 빈 조각에 할당할 수 있다는 것이다.\n",
    "# 이제, 'two' 목록을 'one'목록의 빈 조각에 할당함으로써 실제로는 'two' 목록을 'one' 목록에 삽입한다.\n",
    "print(one[2:2])\n",
    "one[2:2] = two\n",
    "print(one)"
   ]
  },
  {
   "cell_type": "code",
   "execution_count": 17,
   "metadata": {},
   "outputs": [
    {
     "name": "stdout",
     "output_type": "stream",
     "text": [
      "['a', 'b', 'd', 'e', 'f']\n",
      "['a', 'e', 'f']\n"
     ]
    }
   ],
   "source": [
    "# del 구문을 사용하여 값 또는 값의 범위를 목록으로부터 제거\n",
    "# 모든 다른 원소가 이동하여 빈 공간을 채움에 유의\n",
    "new_list3 = ['a','b','c','d','e','f']\n",
    "del new_list3[2]\n",
    "print(new_list3)\n",
    " \n",
    "del new_list3[1:3]\n",
    "print(new_list3)"
   ]
  },
  {
   "cell_type": "code",
   "execution_count": 19,
   "metadata": {},
   "outputs": [
    {
     "name": "stdout",
     "output_type": "stream",
     "text": [
      "[1, 2, 3, 4, 5]\n"
     ]
    },
    {
     "ename": "NameError",
     "evalue": "name 'new_list3' is not defined",
     "output_type": "error",
     "traceback": [
      "\u001b[1;31m---------------------------------------------------------------------------\u001b[0m",
      "\u001b[1;31mNameError\u001b[0m                                 Traceback (most recent call last)",
      "\u001b[1;32m<ipython-input-19-5f6b4cfd15a0>\u001b[0m in \u001b[0;36m<module>\u001b[1;34m\u001b[0m\n\u001b[0;32m      3\u001b[0m \u001b[1;31m# list자체를 delete한다\u001b[0m\u001b[1;33m\u001b[0m\u001b[1;33m\u001b[0m\u001b[1;33m\u001b[0m\u001b[0m\n\u001b[0;32m      4\u001b[0m \u001b[1;32mdel\u001b[0m \u001b[0mnew_list3\u001b[0m\u001b[1;33m\u001b[0m\u001b[1;33m\u001b[0m\u001b[0m\n\u001b[1;32m----> 5\u001b[1;33m \u001b[0mprint\u001b[0m\u001b[1;33m(\u001b[0m\u001b[0mnew_list3\u001b[0m\u001b[1;33m)\u001b[0m\u001b[1;33m\u001b[0m\u001b[1;33m\u001b[0m\u001b[0m\n\u001b[0m",
      "\u001b[1;31mNameError\u001b[0m: name 'new_list3' is not defined"
     ]
    }
   ],
   "source": [
    "new_list3=[1,2,3,4,5]\n",
    "print (new_list3)\n",
    "# list자체를 delete한다\n",
    "del new_list3\n",
    "print(new_list3)"
   ]
  },
  {
   "cell_type": "code",
   "execution_count": 20,
   "metadata": {},
   "outputs": [
    {
     "name": "stdout",
     "output_type": "stream",
     "text": [
      "['a', 'b', 'c', 'd', 'e', 'f', 'g']\n",
      "c\n",
      "['a', 'b', 'd', 'e', 'f', 'g']\n",
      "['a', 'b', 'd', 'e', 'f']\n"
     ]
    }
   ],
   "source": [
    "# pop과 remove 함수를 사용하여 목록으로부터 값을 제거\n",
    "new_list=['a','b','c','d','e','f','g']\n",
    "print (new_list)\n",
    " \n",
    "# 인덱스가 2인 원소를 pop한 값 리턴\n",
    "print(new_list.pop(2))\n",
    "#'c'\n",
    "print (new_list)\n",
    " \n",
    "# 목록에서 처음으로 나타나는 'g' 문자를 제거, 리턴안함\n",
    "new_list.remove('g')\n",
    "print (new_list)"
   ]
  },
  {
   "cell_type": "code",
   "execution_count": 21,
   "metadata": {},
   "outputs": [
    {
     "name": "stdout",
     "output_type": "stream",
     "text": [
      "5\n",
      "10\n",
      "15\n",
      "20\n",
      "25\n",
      "[]\n"
     ]
    }
   ],
   "source": [
    "# pop()사용하기\n",
    "x=5\n",
    "times_list = [1,2,3,4,5]\n",
    "while times_list:\n",
    "    print(x*times_list.pop(0))\n",
    "print(times_list)"
   ]
  },
  {
   "cell_type": "code",
   "execution_count": 22,
   "metadata": {},
   "outputs": [
    {
     "name": "stdout",
     "output_type": "stream",
     "text": [
      "3\n"
     ]
    }
   ],
   "source": [
    "# list함수 사용하기\n",
    "# 어떤 주어진 값에 대한 인덱스를 반환\n",
    "new_list=[1,2,3,4,5,6,7,8,9,10]\n",
    "print(new_list.index(4))"
   ]
  },
  {
   "cell_type": "code",
   "execution_count": 23,
   "metadata": {},
   "outputs": [
    {
     "name": "stdout",
     "output_type": "stream",
     "text": [
      "[1, 2, 3, 4, 30, 6, 7, 8, 9, 10]\n"
     ]
    }
   ],
   "source": [
    "#  인덱스가 4인 원소의 값을 변경\n",
    "new_list[4] = 30\n",
    "print(new_list)"
   ]
  },
  {
   "cell_type": "code",
   "execution_count": 24,
   "metadata": {},
   "outputs": [
    {
     "name": "stdout",
     "output_type": "stream",
     "text": [
      "[1, 2, 3, 4, 30, 6, 7, 8, 9, 10, 6]\n",
      "5\n"
     ]
    }
   ],
   "source": [
    "# 값 추가\n",
    "new_list.append(6)\n",
    "print(new_list)\n",
    "#처음 나타나는 값의 인덱스번호를 반환 \n",
    "print(new_list.index(6))"
   ]
  },
  {
   "cell_type": "code",
   "execution_count": 25,
   "metadata": {},
   "outputs": [
    {
     "name": "stdout",
     "output_type": "stream",
     "text": [
      "1\n",
      "2\n",
      "[1, 2, 3, 4, 6, 6, 7, 8, 9, 10, 30]\n",
      "[30, 10, 9, 8, 7, 6, 6, 4, 3, 2, 1]\n"
     ]
    }
   ],
   "source": [
    "# 주어진 값과 동등한 원소의 갯수를 반환하도록 count() 함수를 사용\n",
    "print(new_list.count(2))\n",
    "print(new_list.count(6))\n",
    "  \n",
    "# 목록의 값들을 정렬\n",
    "new_list.sort()\n",
    "print(new_list)\n",
    " \n",
    "# 목록의 값들의 순서를 반대로\n",
    "new_list.reverse()\n",
    "print(new_list)"
   ]
  },
  {
   "cell_type": "code",
   "execution_count": 26,
   "metadata": {},
   "outputs": [
    {
     "name": "stdout",
     "output_type": "stream",
     "text": [
      "안녕하세요\n"
     ]
    }
   ],
   "source": [
    "def myfunc():\n",
    "\n",
    "      print('안녕하세요')\n",
    "\n",
    "list4 = [1, 2, myfunc]\n",
    "\n",
    "list4[2]()"
   ]
  },
  {
   "cell_type": "code",
   "execution_count": 27,
   "metadata": {},
   "outputs": [
    {
     "name": "stdout",
     "output_type": "stream",
     "text": [
      "([1, 2, 3], [4, 5, 6])\n"
     ]
    }
   ],
   "source": [
    "# tuple형태\n",
    "# 변경할 수 없는 list형\n",
    "# tuple형은 서로다른 종류의 데이터형으로 이루어진 항목들을 바로 풀어쓰는 언패킹 또는 색인을 매기는 용도로 사용한다.\n",
    "t2 = [1,2,3],[4,5,6]\n",
    "print(t2)"
   ]
  },
  {
   "cell_type": "code",
   "execution_count": 30,
   "metadata": {},
   "outputs": [
    {
     "name": "stdout",
     "output_type": "stream",
     "text": [
      "([7, 2, 3], [4, 5, 6])\n"
     ]
    }
   ],
   "source": [
    "# tuple안에 list는 변경은 가능\n",
    "t2[0][0] =7\n",
    "print(t2)"
   ]
  },
  {
   "cell_type": "code",
   "execution_count": 32,
   "metadata": {},
   "outputs": [
    {
     "ename": "TypeError",
     "evalue": "'tuple' object does not support item assignment",
     "output_type": "error",
     "traceback": [
      "\u001b[1;31m---------------------------------------------------------------------------\u001b[0m",
      "\u001b[1;31mTypeError\u001b[0m                                 Traceback (most recent call last)",
      "\u001b[1;32m<ipython-input-32-fa1a46225d84>\u001b[0m in \u001b[0;36m<module>\u001b[1;34m\u001b[0m\n\u001b[1;32m----> 1\u001b[1;33m \u001b[0mt2\u001b[0m\u001b[1;33m[\u001b[0m\u001b[1;36m0\u001b[0m\u001b[1;33m]\u001b[0m\u001b[1;33m=\u001b[0m\u001b[1;36m7\u001b[0m\u001b[1;33m\u001b[0m\u001b[1;33m\u001b[0m\u001b[0m\n\u001b[0m\u001b[0;32m      2\u001b[0m \u001b[0mprint\u001b[0m\u001b[1;33m(\u001b[0m\u001b[0mt2\u001b[0m\u001b[1;33m)\u001b[0m\u001b[1;33m\u001b[0m\u001b[1;33m\u001b[0m\u001b[0m\n",
      "\u001b[1;31mTypeError\u001b[0m: 'tuple' object does not support item assignment"
     ]
    }
   ],
   "source": [
    "# tuple의 구성원소 자체를 변경은 불가능\n",
    "t2[0]=7\n",
    "print(t2)"
   ]
  },
  {
   "cell_type": "code",
   "execution_count": 38,
   "metadata": {},
   "outputs": [
    {
     "name": "stdout",
     "output_type": "stream",
     "text": [
      "안녕하세요\n",
      "from a to z\n"
     ]
    }
   ],
   "source": [
    "# 숫자 튜풀생성\n",
    "tuple1 = (1, 2, 3, 4, 5)\n",
    "\n",
    "# 문자 튜풀생성\n",
    "tuple2 = ('a', 'b', 'c')\n",
    "\n",
    "# 다양한 타입의 튜풀생성\n",
    "tuple3 = (1, 'a', 'abc', [1, 2, 3, 4, 5], ['a', 'b', 'c'])\n",
    "\n",
    "#오류\n",
    "#tuple1[0] = 6\n",
    " \n",
    "\n",
    "def myfunc():\n",
    "     print('안녕하세요')\n",
    "\n",
    "#함수도 포함해서 튜풀생성\n",
    "tuple4 = (1, 2, myfunc)\n",
    "tuple4[2]()\n",
    "\n",
    "t = 2\n",
    "y = 6\n",
    "def printall():\n",
    "    print('from a to z')\n",
    "    \n",
    "tuple5 = 54542433245, [t,y], 'come on', printall\n",
    "tuple5[3]()"
   ]
  },
  {
   "cell_type": "code",
   "execution_count": 39,
   "metadata": {},
   "outputs": [
    {
     "name": "stdout",
     "output_type": "stream",
     "text": [
      "{1, 2, 3, 4, 5}\n"
     ]
    }
   ],
   "source": [
    "# set\n",
    "# 색인에 대한 순서가 없고 중복이 허용되지 않는 데이터들의 집합\n",
    "# set은 set() 함수로만 생성이 가능하다\n",
    "\n",
    "myset=set([1,2,3,4,5])\n",
    "print(myset)"
   ]
  },
  {
   "cell_type": "code",
   "execution_count": 41,
   "metadata": {},
   "outputs": [
    {
     "name": "stdout",
     "output_type": "stream",
     "text": [
      "{1, 2, 3, 4, 5, 6}\n"
     ]
    }
   ],
   "source": [
    "myset.add(6)\n",
    "print(myset)"
   ]
  },
  {
   "cell_type": "code",
   "execution_count": 43,
   "metadata": {},
   "outputs": [
    {
     "name": "stdout",
     "output_type": "stream",
     "text": [
      "{1, 2, 3, 4, 5, 6}\n"
     ]
    }
   ],
   "source": [
    "# 중복된 원소를 추가하려고하면, 추가되지 않는다. 이미포함된 4는 1번만 출력된\n",
    "myset.add(4)\n",
    "print(myset)"
   ]
  },
  {
   "cell_type": "code",
   "execution_count": 47,
   "metadata": {},
   "outputs": [
    {
     "name": "stdout",
     "output_type": "stream",
     "text": [
      "{'ironpython', 'python'}\n",
      "{'cpython'}\n",
      "{'pypy'}\n",
      "{'cpython', 'pypy'}\n",
      "{'cpython', 'pypy'}\n",
      "{'ironpython', 'python', 'pypy', 'cpython'}\n"
     ]
    }
   ],
   "source": [
    "# 2개의 집합 사용\n",
    "s1 = set(['python','cpython','ironpython'])\n",
    "s2 = set(['python','ironpython','pypy'])\n",
    "print(s1.intersection(s2))\n",
    "\n",
    "print(s1.difference(s2))\n",
    "print(s2.difference(s1))\n",
    "print(s1.symmetric_difference(s2))\n",
    "print(s2.symmetric_difference(s1))\n",
    "\n",
    "print(s1.union(s2))"
   ]
  },
  {
   "cell_type": "code",
   "execution_count": 51,
   "metadata": {},
   "outputs": [
    {
     "name": "stdout",
     "output_type": "stream",
     "text": [
      "{20, 5, 15}\n"
     ]
    }
   ],
   "source": [
    "# 3개의 집합 사용\n",
    "s1 = set([1, 2, 3, 4, 5, 6, 7, 8, 9, 10])\n",
    "s2 = set([5, 10, 15, 20])\n",
    "s3 = set([2, 4, 6, 8, 10])\n",
    "# s2로부터 임의의 원소를 제거\n",
    "s2.pop()\n",
    "print(s2)"
   ]
  },
  {
   "cell_type": "code",
   "execution_count": 52,
   "metadata": {},
   "outputs": [
    {
     "name": "stdout",
     "output_type": "stream",
     "text": [
      "{1, 2, 4, 5, 6, 7, 8, 9, 10}\n"
     ]
    }
   ],
   "source": [
    "# s1에 3과 동일한 원소가 존재하는 경우 폐기\n",
    "s1.discard(3)\n",
    "print(s1)"
   ]
  },
  {
   "cell_type": "code",
   "execution_count": 53,
   "metadata": {},
   "outputs": [
    {
     "name": "stdout",
     "output_type": "stream",
     "text": [
      "{5}\n",
      "{20, 5, 15}\n"
     ]
    }
   ],
   "source": [
    "# s1과 s2 양쪽 모두에 속하는 원소들만을 가지도록 s1을 갱신\n",
    "s1.intersection_update(s2) # s1과 s2의 교집합으로 s1을 갱신\n",
    "print(s1)\n",
    "print(s2)"
   ]
  },
  {
   "cell_type": "code",
   "execution_count": 54,
   "metadata": {},
   "outputs": [
    {
     "name": "stdout",
     "output_type": "stream",
     "text": [
      "set()\n"
     ]
    }
   ],
   "source": [
    "# s2의 모든 원소를 제거\n",
    "s2.clear()\n",
    "print(s2)"
   ]
  },
  {
   "cell_type": "code",
   "execution_count": 55,
   "metadata": {},
   "outputs": [
    {
     "name": "stdout",
     "output_type": "stream",
     "text": [
      "{2, 4, 5, 6, 8, 10}\n"
     ]
    }
   ],
   "source": [
    "# 집합 s3의 모든 원소를 포함하도록 s1을 갱신\n",
    "s1.update(s3) #s1에 s3값을 포함시켜서 갱신\n",
    "print(s1)"
   ]
  },
  {
   "cell_type": "code",
   "execution_count": 56,
   "metadata": {},
   "outputs": [
    {
     "name": "stdout",
     "output_type": "stream",
     "text": [
      "2\n",
      "4\n",
      "5\n",
      "6\n",
      "8\n",
      "10\n"
     ]
    }
   ],
   "source": [
    "for i in s1:\n",
    "    print(i)"
   ]
  },
  {
   "cell_type": "code",
   "execution_count": 57,
   "metadata": {},
   "outputs": [
    {
     "name": "stdout",
     "output_type": "stream",
     "text": [
      "0\n",
      "1\n",
      "2\n",
      "3\n",
      "4\n",
      "5\n"
     ]
    }
   ],
   "source": [
    "for i in range(len(s1)):\n",
    "    print(i)"
   ]
  },
  {
   "cell_type": "code",
   "execution_count": 59,
   "metadata": {},
   "outputs": [
    {
     "name": "stdout",
     "output_type": "stream",
     "text": [
      "dict_values([])\n"
     ]
    }
   ],
   "source": [
    "# Dictionary\n",
    "# 전체 항목이 정렬되지 않는 key-value 쌍으로 구성된 집합\n",
    "# 순서가없고, key-value pair가 하나의 원소로, {}를 사용해서 생성한다.\n",
    "# 빈 사전 및 채워진 사전을 생성\n",
    "myDict={}\n",
    "print(myDict.values())"
   ]
  },
  {
   "cell_type": "code",
   "execution_count": 60,
   "metadata": {},
   "outputs": [
    {
     "name": "stdout",
     "output_type": "stream",
     "text": [
      "{'one': 'first', 'two': 'second'}\n"
     ]
    }
   ],
   "source": [
    "# 사전에 키-값 쌍을 할당\n",
    "myDict['one'] = 'first'\n",
    "myDict['two'] = 'second'\n",
    "print(myDict)"
   ]
  },
  {
   "cell_type": "code",
   "execution_count": 61,
   "metadata": {},
   "outputs": [
    {
     "name": "stdout",
     "output_type": "stream",
     "text": [
      "False\n",
      "dict_values(['first', 'second', 'firstval'])\n",
      "dict_keys(['one', 'two', 'firstkey'])\n",
      "3\n",
      "{'one': 'first', 'two': 'second', 'firstkey': 'firstval'}\n"
     ]
    }
   ],
   "source": [
    "# 사전에서 키를 찾아봄\n",
    "print('firstkey' in myDict)\n",
    " \n",
    "# 사전에 키/값 쌍을 추가\n",
    "myDict['firstkey'] = 'firstval'\n",
    " \n",
    "# 사전의 값들을 나열\n",
    "print(myDict.values())\n",
    " \n",
    "# 사전의 키들을 나열\n",
    "print(myDict.keys())\n",
    " \n",
    "# 사전의 길이(키/값 쌍이 얼마나 들어있는지)를 표시\n",
    "print(len(myDict))\n",
    " \n",
    "# 사전의 내용을 출력\n",
    "print(myDict)"
   ]
  },
  {
   "cell_type": "code",
   "execution_count": 63,
   "metadata": {},
   "outputs": [
    {
     "name": "stdout",
     "output_type": "stream",
     "text": [
      "Josh\n",
      "Josh\n"
     ]
    }
   ],
   "source": [
    "myDict2 = {'r_wing':'Josh','l_wing':'Frank','center':'Jim','l_defense':'Leo','r_defense':'Vic'}\n",
    "\n",
    "# 해당 key의 value를 찾는 방법1\n",
    "print(myDict2.get('r_wing'))\n",
    "\n",
    "# 해당 key의 value를 찾는 방법2\n",
    "print(myDict2['r_wing'])"
   ]
  },
  {
   "cell_type": "code",
   "execution_count": 64,
   "metadata": {},
   "outputs": [
    {
     "name": "stdout",
     "output_type": "stream",
     "text": [
      "Invalid Position\n"
     ]
    }
   ],
   "source": [
    "# 키가 존재하지 않는 경우 기본 메시지를 표시\n",
    "print(myDict2.get('goalie','Invalid Position'))"
   ]
  },
  {
   "cell_type": "code",
   "execution_count": 73,
   "metadata": {},
   "outputs": [
    {
     "name": "stdout",
     "output_type": "stream",
     "text": [
      "('r_wing', 'Josh')\n",
      "('l_wing', 'Frank')\n",
      "('center', 'Jim')\n",
      "('l_defense', 'Leo')\n",
      "('r_defense', 'Vic')\n",
      "r_wing\n",
      "l_wing\n",
      "center\n",
      "l_defense\n",
      "r_defense\n"
     ]
    }
   ],
   "source": [
    "# 사전의 항목들에 대하여 반복\n",
    "for player in myDict2.items():\n",
    "     print (player)\n",
    "# for문으로 myDict2 자체를 traverse하면, 기본적으로 key값을 훌터본다.\n",
    "for player in myDict2:\n",
    "     print (player)"
   ]
  },
  {
   "cell_type": "code",
   "execution_count": 66,
   "metadata": {},
   "outputs": [
    {
     "name": "stdout",
     "output_type": "stream",
     "text": [
      "r_wing Josh\n",
      "l_wing Frank\n",
      "center Jim\n",
      "l_defense Leo\n",
      "r_defense Vic\n"
     ]
    }
   ],
   "source": [
    "# 키와 값을 독립적인 개체에 할당한 다음 출력\n",
    "for key,value in myDict2.items():\n",
    "     print (key, value)"
   ]
  },
  {
   "cell_type": "code",
   "execution_count": 67,
   "metadata": {},
   "outputs": [
    {
     "name": "stdout",
     "output_type": "stream",
     "text": [
      "1\n",
      "{'a': 1, 'b': 2, 'c': 3, 'd': 4}\n"
     ]
    }
   ],
   "source": [
    "dict1 = {'a':1, 'b':2, 'c':3}\n",
    "print(dict1['a'])\n",
    "dict1['d'] = 4\n",
    "print(dict1)"
   ]
  },
  {
   "cell_type": "code",
   "execution_count": 68,
   "metadata": {},
   "outputs": [
    {
     "name": "stdout",
     "output_type": "stream",
     "text": [
      "{'a': 1, 'b': 7, 'c': 3, 'd': 4}\n"
     ]
    }
   ],
   "source": [
    "dict1['b'] = 7\n",
    "print(dict1) "
   ]
  },
  {
   "cell_type": "code",
   "execution_count": 69,
   "metadata": {},
   "outputs": [
    {
     "name": "stdout",
     "output_type": "stream",
     "text": [
      "4\n"
     ]
    }
   ],
   "source": [
    "print(len(dict1)) "
   ]
  },
  {
   "cell_type": "code",
   "execution_count": null,
   "metadata": {},
   "outputs": [],
   "source": []
  }
 ],
 "metadata": {
  "kernelspec": {
   "display_name": "pydata",
   "language": "python",
   "name": "pydata"
  },
  "language_info": {
   "codemirror_mode": {
    "name": "ipython",
    "version": 3
   },
   "file_extension": ".py",
   "mimetype": "text/x-python",
   "name": "python",
   "nbconvert_exporter": "python",
   "pygments_lexer": "ipython3",
   "version": "3.7.10"
  }
 },
 "nbformat": 4,
 "nbformat_minor": 4
}

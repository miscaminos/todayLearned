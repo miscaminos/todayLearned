{
 "cells": [
  {
   "cell_type": "code",
   "execution_count": 1,
   "metadata": {},
   "outputs": [],
   "source": [
    "# Object-Oriented Programming\n",
    "# 객체를 만들기 위해서는 클래스가 필요하다.\n",
    "# 객체를 어떻게 만들어야 하는지 그 기준을 지정해야 하는데 이를 클래스라 한다.\n",
    "\n",
    "# e.g., class : 자동차 설계도\n",
    "# class instance 생성으로 자동차를 생성하는것\n",
    "\n",
    "# 현실에 있는 객체를 컴퓨터 프로그램상의 객체로 구현하기 위해 객체를\n",
    "# 특성과 기능으로 분석한다.\n",
    "# <현실객체>                  <컴퓨터 프로그램상 객체>\n",
    "# 객체의 특성  -------------->  메모리상의 변수(속성)\n",
    "# 객체의 기능  -------------->  변수를 수정하는 함수(메소드)"
   ]
  },
  {
   "cell_type": "code",
   "execution_count": 1,
   "metadata": {},
   "outputs": [
    {
     "data": {
      "text/plain": [
       "__main__.Class1"
      ]
     },
     "execution_count": 1,
     "metadata": {},
     "output_type": "execute_result"
    }
   ],
   "source": [
    "# 클래스 정의\n",
    "# 클래스를 정의하는 것은 다양한 객체를 만드는 틀을 만드는 것이다.\n",
    "\n",
    "class Class1:\n",
    "    pass\n",
    "\n",
    "Class1"
   ]
  },
  {
   "cell_type": "code",
   "execution_count": 3,
   "metadata": {},
   "outputs": [
    {
     "data": {
      "text/plain": [
       "<__main__.Class1 at 0x18c76881448>"
      ]
     },
     "execution_count": 3,
     "metadata": {},
     "output_type": "execute_result"
    }
   ],
   "source": [
    "c1 = Class1()\n",
    "c1"
   ]
  },
  {
   "cell_type": "code",
   "execution_count": 4,
   "metadata": {},
   "outputs": [
    {
     "data": {
      "text/plain": [
       "<__main__.Class1 at 0x18c76881b48>"
      ]
     },
     "execution_count": 4,
     "metadata": {},
     "output_type": "execute_result"
    }
   ],
   "source": [
    "c2 = Class1()\n",
    "c2"
   ]
  },
  {
   "cell_type": "code",
   "execution_count": 5,
   "metadata": {},
   "outputs": [
    {
     "data": {
      "text/plain": [
       "(1702795678792, 1702795680584)"
      ]
     },
     "execution_count": 5,
     "metadata": {},
     "output_type": "execute_result"
    }
   ],
   "source": [
    "id(c1), id(c2)"
   ]
  },
  {
   "cell_type": "code",
   "execution_count": 7,
   "metadata": {},
   "outputs": [
    {
     "name": "stdout",
     "output_type": "stream",
     "text": [
      "<class '__main__.Robot'>\n",
      "안녕하세요. 홍길순입니다.\n",
      "홍길동이 이동한다.\n"
     ]
    }
   ],
   "source": [
    "class Robot:\n",
    "    name = '홍길순'\n",
    "    weight = 45\n",
    "    \n",
    "    def speak(self):\n",
    "        print('안녕하세요. 홍길순입니다.')\n",
    "        \n",
    "    def move(self):\n",
    "        print('홍길동이 이동한다.')\n",
    "        \n",
    "robot1 = Robot()\n",
    "robot2 = Robot()\n",
    "robot3 = Robot()\n",
    "\n",
    "print(type(robot1))\n",
    "robot3.speak()\n",
    "robot2.move()"
   ]
  },
  {
   "cell_type": "code",
   "execution_count": 8,
   "metadata": {},
   "outputs": [
    {
     "name": "stdout",
     "output_type": "stream",
     "text": [
      "<class 'int'>\n"
     ]
    }
   ],
   "source": [
    "# Python은 객체로 구성된다 (모든 요소가 객체이다)\n",
    "a=10\n",
    "print(type(a))"
   ]
  },
  {
   "cell_type": "code",
   "execution_count": 9,
   "metadata": {},
   "outputs": [
    {
     "name": "stdout",
     "output_type": "stream",
     "text": [
      "<class 'int'>\n"
     ]
    }
   ],
   "source": [
    "b=int(10)\n",
    "print(type(b))"
   ]
  },
  {
   "cell_type": "code",
   "execution_count": 10,
   "metadata": {},
   "outputs": [
    {
     "name": "stdout",
     "output_type": "stream",
     "text": [
      "<class 'list'>\n"
     ]
    }
   ],
   "source": [
    "c=[1,2,3,4,5]\n",
    "print(type(c))"
   ]
  },
  {
   "cell_type": "code",
   "execution_count": 11,
   "metadata": {},
   "outputs": [
    {
     "name": "stdout",
     "output_type": "stream",
     "text": [
      "<class 'function'>\n"
     ]
    }
   ],
   "source": [
    "def func(x):\n",
    "    return x+1\n",
    "print(type(func))"
   ]
  },
  {
   "cell_type": "code",
   "execution_count": 12,
   "metadata": {},
   "outputs": [
    {
     "name": "stdout",
     "output_type": "stream",
     "text": [
      "<class 'module'>\n"
     ]
    }
   ],
   "source": [
    "import math\n",
    "print(type(math))"
   ]
  },
  {
   "cell_type": "code",
   "execution_count": 21,
   "metadata": {},
   "outputs": [],
   "source": [
    "# 클래스의 속성, 객체의 속성\n",
    "# 클래스 소속 변수, 객체 소속 변수 따로 있음\n",
    "# 객체를 생성후 객체의 속성을 추가할 수 있다. 추가한 객체의 속성은 다른 객체에 영향을 주지 않는다.\n",
    "# 클래스 생성해서 instance(객체)생성한 후, 객체가 독립적으로 객체의 변수를 생성할 수 있다.\n",
    "\n",
    "class Robot1: \n",
    "    '''가장 심플한 클래스'''\n",
    "    pass\n",
    "\n",
    "robot1 = Robot1()\n",
    "robot1.name=\"Ed\"\n",
    "\n",
    "robot2 = Robot1()\n",
    "robot2.age=10\n",
    "\n",
    "robot3 = Robot1()\n",
    "robot3.buildyear=2020"
   ]
  },
  {
   "cell_type": "code",
   "execution_count": 22,
   "metadata": {},
   "outputs": [
    {
     "name": "stdout",
     "output_type": "stream",
     "text": [
      "robot1's name: Ed\n"
     ]
    }
   ],
   "source": [
    "print(\"robot1's name:\",robot1.name)"
   ]
  },
  {
   "cell_type": "code",
   "execution_count": 27,
   "metadata": {},
   "outputs": [
    {
     "name": "stdout",
     "output_type": "stream",
     "text": [
      "pybot 45kg\n",
      "pybot 45kg\n",
      "\n",
      "minibot 45kg\n",
      "pybot 60kg\n"
     ]
    },
    {
     "data": {
      "text/plain": [
       "'다양한 로봇을 만드는 클래스'"
      ]
     },
     "execution_count": 27,
     "metadata": {},
     "output_type": "execute_result"
    }
   ],
   "source": [
    "#초기화 함수 __init__()\n",
    "# 객체를 생성할때 자동으로 호출되는 초기화 함수를 이용하면\n",
    "# 객체를 생성될때 부터 값을 가지도록 할 수 있다.\n",
    "# __init__()는 기본 매개변수 self를 사용한다.\n",
    "# __init__()의 기본 매개변수 self를 이용하여 객체의 속성을 만든다.\n",
    "# self를 이용하여 객체속성을 생성하고 접근한다.\n",
    "# self는 관용적으로 사용하는 것이므로 다른 이름을 사용할 수 있다.\n",
    "# __init__()로 생성된 객체는 동일한 객체속성이 만들어진다.\n",
    "\n",
    "#__init__()이 callback 메소드이다. (자동호출)\n",
    "\n",
    "class Robot:\n",
    "    '''다양한 로봇을 만드는 클래스'''\n",
    "    def __init__(self):\n",
    "        self.name = 'pybot'\n",
    "        self.weight = '45kg'\n",
    "        \n",
    "hubo1 = Robot()\n",
    "hubo2 = Robot()\n",
    "print(hubo1.name, hubo1.weight)\n",
    "print(hubo2.name, hubo2.weight)\n",
    "\n",
    "print()\n",
    "hubo1.name = 'minibot'\n",
    "hubo2.weight = '60kg'\n",
    "print(hubo1.name, hubo1.weight)\n",
    "print(hubo2.name, hubo2.weight)\n",
    "Robot.__doc__\n",
    "    "
   ]
  },
  {
   "cell_type": "code",
   "execution_count": 29,
   "metadata": {},
   "outputs": [
    {
     "name": "stdout",
     "output_type": "stream",
     "text": [
      "KAIST True shane 2020\n"
     ]
    }
   ],
   "source": [
    "class Robot:\n",
    "    '''다양한 로봇을 만드는 클래스'''\n",
    "    def __init__(self, name, build_year):\n",
    "        self.maker = 'KAIST'\n",
    "        self.isWalking = True\n",
    "        self.name = name\n",
    "        self.build_year = build_year\n",
    "        \n",
    "hubo1 = Robot('shane',2020)\n",
    "print(hubo1.maker, hubo1.isWalking, hubo1.name, hubo1.build_year)"
   ]
  },
  {
   "cell_type": "code",
   "execution_count": 31,
   "metadata": {},
   "outputs": [
    {
     "name": "stdout",
     "output_type": "stream",
     "text": [
      "KAIST False albert 2021\n",
      "True\n"
     ]
    }
   ],
   "source": [
    "hubo2 = Robot('albert',2021)\n",
    "hubo2.isWalking = False\n",
    "print(hubo2.maker, hubo2.isWalking, hubo2.name, hubo2.build_year)\n",
    "hubo2.isFlying = True\n",
    "print(hubo2.isFlying)"
   ]
  },
  {
   "cell_type": "code",
   "execution_count": 90,
   "metadata": {},
   "outputs": [],
   "source": [
    "################################################################################\n",
    "# Method 사용하기\n",
    "\n",
    "# 1) 일반 method\n",
    "# - 메소드는 객체의 기능을 구현하는 부분이다.\n",
    "# - 객체의 속성값을 변경하거나 데이터 처리를 한다.\n",
    "# - 메소드 첫번째 매개변수는 자동으로 참조값이 할당된다.\n",
    "# - 객체영역의 속성을 참조하기 위해서 메소드 첫번째 매개변수는 반드시 사용한다.\n",
    "# - 메소드 호출시 첫번째 인자는 보내지 않아도 된다.\n",
    "\n",
    "\n",
    "class Test:\n",
    "    name = '클래스 속성' #클래스 속성(클래스 영역에 만들어짐)\n",
    "    \n",
    "    def __init__(self): # 이 클래스의 객체 생성시 자동 호출되는 callback method\n",
    "        # self = self 매개변수를 통해 객체의 id가 전송된다.\n",
    "        self.name = \"객체속성\" # 객체 속성\n",
    "    \n",
    "    #note: name과 __init__()은 각각 다른 영역에 만들어짐\n",
    "    \n",
    "    def getName(self):\n",
    "        return self.name"
   ]
  },
  {
   "cell_type": "code",
   "execution_count": 91,
   "metadata": {},
   "outputs": [
    {
     "data": {
      "text/plain": [
       "'클래스 속성'"
      ]
     },
     "execution_count": 91,
     "metadata": {},
     "output_type": "execute_result"
    }
   ],
   "source": [
    "Test.name #객체가 생성되기 전 호출가능. (static과 비슷)"
   ]
  },
  {
   "cell_type": "code",
   "execution_count": 92,
   "metadata": {},
   "outputs": [],
   "source": [
    "t = Test()  #객체생성-> __init__()자동으로 호출"
   ]
  },
  {
   "cell_type": "code",
   "execution_count": 93,
   "metadata": {},
   "outputs": [
    {
     "data": {
      "text/plain": [
       "'객체속성'"
      ]
     },
     "execution_count": 93,
     "metadata": {},
     "output_type": "execute_result"
    }
   ],
   "source": [
    "t.getName()"
   ]
  },
  {
   "cell_type": "code",
   "execution_count": 94,
   "metadata": {},
   "outputs": [
    {
     "data": {
      "text/plain": [
       "'객체속성'"
      ]
     },
     "execution_count": 94,
     "metadata": {},
     "output_type": "execute_result"
    }
   ],
   "source": [
    "t.name"
   ]
  },
  {
   "cell_type": "code",
   "execution_count": 95,
   "metadata": {},
   "outputs": [],
   "source": [
    "class Robot:\n",
    "    '''다양한 로봇을 만드는 클래스'''\n",
    "    name = 'Robot 클래스 blueprint'\n",
    "    \n",
    "    def __init__(self, name, build_year): #self로 객체속성 생성\n",
    "        self.maker = 'KAIST'\n",
    "        self.isWalking = True\n",
    "        self.name = name\n",
    "        self.build_year = build_year\n",
    "        self.xpos = 0\n",
    "        self.ypos = 0\n",
    "    \n",
    "    # 데코레이터 없음 -> 일반 method\n",
    "    # 객체를 생성해야지만, 접근할 수 있다\n",
    "    def move_x(self): #self로 객체속성 접근 (self=객체의 참조값)\n",
    "        if self.isWalking:\n",
    "            self.xpos += 1\n",
    "            \n",
    "    def move_y(self): #self로 객체속성 접근\n",
    "        if self.isWalking:\n",
    "            self.ypos +=1\n",
    "    \n",
    "    def curPosition(self):\n",
    "        print('현재좌표:({},{})'.format(self.xpos, self.ypos))"
   ]
  },
  {
   "cell_type": "code",
   "execution_count": 96,
   "metadata": {},
   "outputs": [
    {
     "data": {
      "text/plain": [
       "'Robot 클래스 blueprint'"
      ]
     },
     "execution_count": 96,
     "metadata": {},
     "output_type": "execute_result"
    }
   ],
   "source": [
    "Robot.name"
   ]
  },
  {
   "cell_type": "code",
   "execution_count": 97,
   "metadata": {},
   "outputs": [
    {
     "name": "stdout",
     "output_type": "stream",
     "text": [
      "현재좌표:(2,2)\n"
     ]
    }
   ],
   "source": [
    "hubo = Robot('Tim', 2022) #자동으로 __init__()호출됨. 여기서 'Tim', 2022가 각각 name, build_year에 들어감\n",
    "hubo.move_x()\n",
    "hubo.move_y()\n",
    "hubo.move_x()\n",
    "hubo.move_y()\n",
    "hubo.curPosition()"
   ]
  },
  {
   "cell_type": "code",
   "execution_count": null,
   "metadata": {},
   "outputs": [],
   "source": [
    "def transport(x,y):\n",
    "    for i in range(x):\n",
    "        hubo.move_x()\n",
    "    for j in range(y):\n",
    "        hubo.move_y()"
   ]
  },
  {
   "cell_type": "code",
   "execution_count": null,
   "metadata": {},
   "outputs": [],
   "source": [
    "# 2) 클래스 method  - @classmethod 데코레이터\n",
    "\n",
    "# - 클래스 메소드는 첫번째 매개변수(cls)로 클래스영역의 속성에 접근할 수 있다.\n",
    "# - 클래스 메소드의 첫번째 매개변수는 생략할 수 없다. \n",
    "# - 클래스영역을 접근하기 위해 객체를 생성할 필요는 없다."
   ]
  },
  {
   "cell_type": "code",
   "execution_count": 115,
   "metadata": {},
   "outputs": [],
   "source": [
    "# - CMethod 클래스를 정의한다. 객체 속성과, 클래스 속성 이름을 동일하게 만든다.\n",
    "# - def로 함수를 정의하고 @classmethod를 함수위에 선언한다.\n",
    "class CMethod: \n",
    "    _name = \"클래스 속성\" #클래스변수\n",
    "    def __init__(self,name):\n",
    "        self._name = name\n",
    "    \n",
    "    @classmethod\n",
    "    def name(cls):\n",
    "        return cls._name"
   ]
  },
  {
   "cell_type": "code",
   "execution_count": 116,
   "metadata": {},
   "outputs": [
    {
     "data": {
      "text/plain": [
       "'클래스 속성'"
      ]
     },
     "execution_count": 116,
     "metadata": {},
     "output_type": "execute_result"
    }
   ],
   "source": [
    "CMethod._name"
   ]
  },
  {
   "cell_type": "code",
   "execution_count": 117,
   "metadata": {},
   "outputs": [
    {
     "data": {
      "text/plain": [
       "'클래스 속성'"
      ]
     },
     "execution_count": 117,
     "metadata": {},
     "output_type": "execute_result"
    }
   ],
   "source": [
    "CMethod.name()"
   ]
  },
  {
   "cell_type": "code",
   "execution_count": 118,
   "metadata": {},
   "outputs": [
    {
     "data": {
      "text/plain": [
       "'객체속성'"
      ]
     },
     "execution_count": 118,
     "metadata": {},
     "output_type": "execute_result"
    }
   ],
   "source": [
    "c = CMethod(\"객체속성\") #객체생성 ->__init__(\"객체속성\") -->객체변수 _name = \"객체속성\"\n",
    "c._name"
   ]
  },
  {
   "cell_type": "code",
   "execution_count": 119,
   "metadata": {},
   "outputs": [
    {
     "data": {
      "text/plain": [
       "'클래스 속성'"
      ]
     },
     "execution_count": 119,
     "metadata": {},
     "output_type": "execute_result"
    }
   ],
   "source": [
    "c.name() # @classmethod라는 데코레이터를 붙였기때문에 클래스영역에서만 찾는다"
   ]
  },
  {
   "cell_type": "code",
   "execution_count": 57,
   "metadata": {},
   "outputs": [],
   "source": [
    "# 3) 정적 method - @staticmethod 데코레이터\n",
    "# - 정적 메서드는 일반함수나 클래스 메소드 처럼 첫번째 매개변수에 특별한값이\n",
    "#   할당되지 않는다.\n",
    "# - 파이썬에서 정적 메소드는 클래스 메소드나 일반 메소드와 차이가 없으므로 \n",
    "#   많이 사용하지 않는다."
   ]
  },
  {
   "cell_type": "code",
   "execution_count": 47,
   "metadata": {},
   "outputs": [],
   "source": [
    "class SMethod1:\n",
    "    _name = \"클래스 속성\"\n",
    "    def __init__(self,nameS):\n",
    "        self._name = nameS\n",
    "    @staticmethod\n",
    "    def name(cls):\n",
    "        return cls._name #객체영역을 나타낸다. 객체에는 _name없다--> 클래스 영역에서 찾는다\n",
    "    @staticmethod\n",
    "    def getName(self):\n",
    "        return self.nameS\n",
    "    @staticmethod\n",
    "    def func(x,y):\n",
    "        return x+y\n",
    "    @staticmethod\n",
    "    def getCalled(self):\n",
    "        return self.name"
   ]
  },
  {
   "cell_type": "code",
   "execution_count": 126,
   "metadata": {},
   "outputs": [
    {
     "data": {
      "text/plain": [
       "'클래스 속성'"
      ]
     },
     "execution_count": 126,
     "metadata": {},
     "output_type": "execute_result"
    }
   ],
   "source": [
    "SMethod1.name(SMethod1) # name()에 cls로 클래스를 전달 (클래스 영역 접근)"
   ]
  },
  {
   "cell_type": "code",
   "execution_count": 127,
   "metadata": {},
   "outputs": [
    {
     "data": {
      "text/plain": [
       "'클래스 속성'"
      ]
     },
     "execution_count": 127,
     "metadata": {},
     "output_type": "execute_result"
    }
   ],
   "source": [
    "SMethod1.name(SMethod1('객체 속성')) # SMethod1('객체 속성')로 객체 생성해서 name()에 cls로 전달\n",
    "# 객체영역을 찾고, 없으면 클래스영역을 찾는다.\n",
    "# 객체영역에 없기때문에, '클래스속성이 나온다'"
   ]
  },
  {
   "cell_type": "code",
   "execution_count": 128,
   "metadata": {},
   "outputs": [
    {
     "data": {
      "text/plain": [
       "10"
      ]
     },
     "execution_count": 128,
     "metadata": {},
     "output_type": "execute_result"
    }
   ],
   "source": [
    "SMethod1.func(5,5)"
   ]
  },
  {
   "cell_type": "code",
   "execution_count": 129,
   "metadata": {},
   "outputs": [
    {
     "data": {
      "text/plain": [
       "'객체속성'"
      ]
     },
     "execution_count": 129,
     "metadata": {},
     "output_type": "execute_result"
    }
   ],
   "source": [
    "s1=SMethod1(\"객체속성\")\n",
    "s1.getName(s1)"
   ]
  },
  {
   "cell_type": "code",
   "execution_count": 48,
   "metadata": {},
   "outputs": [
    {
     "ename": "TypeError",
     "evalue": "getCalled() missing 1 required positional argument: 'self'",
     "output_type": "error",
     "traceback": [
      "\u001b[1;31m---------------------------------------------------------------------------\u001b[0m",
      "\u001b[1;31mTypeError\u001b[0m                                 Traceback (most recent call last)",
      "\u001b[1;32m<ipython-input-48-9781eecc57e1>\u001b[0m in \u001b[0;36m<module>\u001b[1;34m\u001b[0m\n\u001b[0;32m      1\u001b[0m \u001b[0ms1\u001b[0m\u001b[1;33m=\u001b[0m\u001b[0mSMethod1\u001b[0m\u001b[1;33m(\u001b[0m\u001b[1;34m\"객체속성\"\u001b[0m\u001b[1;33m)\u001b[0m\u001b[1;33m\u001b[0m\u001b[1;33m\u001b[0m\u001b[0m\n\u001b[1;32m----> 2\u001b[1;33m \u001b[0ms1\u001b[0m\u001b[1;33m.\u001b[0m\u001b[0mgetCalled\u001b[0m\u001b[1;33m(\u001b[0m\u001b[1;33m)\u001b[0m\u001b[1;33m\u001b[0m\u001b[1;33m\u001b[0m\u001b[0m\n\u001b[0m",
      "\u001b[1;31mTypeError\u001b[0m: getCalled() missing 1 required positional argument: 'self'"
     ]
    }
   ],
   "source": [
    "s1=SMethod1(\"객체속성\")\n",
    "s1.getCalled()"
   ]
  },
  {
   "cell_type": "code",
   "execution_count": 80,
   "metadata": {},
   "outputs": [],
   "source": [
    "class SMethod:\n",
    "    _name = \"클래스 속성\"\n",
    "    def __init__(self,name):\n",
    "        self._name = name\n",
    "    @staticmethod\n",
    "    def name(cls):\n",
    "        return cls._name\n",
    "    @staticmethod\n",
    "    def getName(self):\n",
    "        return self._name\n",
    "    @staticmethod\n",
    "    def func(x,y):\n",
    "        return x+y"
   ]
  },
  {
   "cell_type": "code",
   "execution_count": 81,
   "metadata": {},
   "outputs": [
    {
     "data": {
      "text/plain": [
       "'클래스 속성'"
      ]
     },
     "execution_count": 81,
     "metadata": {},
     "output_type": "execute_result"
    }
   ],
   "source": [
    "SMethod.name(SMethod)"
   ]
  },
  {
   "cell_type": "code",
   "execution_count": 82,
   "metadata": {},
   "outputs": [
    {
     "data": {
      "text/plain": [
       "'객체 속성'"
      ]
     },
     "execution_count": 82,
     "metadata": {},
     "output_type": "execute_result"
    }
   ],
   "source": [
    "SMethod.name(SMethod('객체 속성'))  #객체 id를 전달 (객체영역 접근)"
   ]
  },
  {
   "cell_type": "code",
   "execution_count": null,
   "metadata": {},
   "outputs": [],
   "source": [
    "# 메소드 종류 정리 - 총 3가지가있음\n",
    "# 1)일반메소드\n",
    "# by convention, we use self (주소 또는 id 값이 온다)\n",
    "# 클래스, 객체 영역 모두 찾는다.\n",
    "def name (self):\n",
    "    self.name #무조건 객체 영역을 가리킨다. (객체영역의 name변수)\n",
    "\n",
    "# 2)클래스메소드 (@classmethod)\n",
    "# by convention, we use cls\n",
    "# 클래스 영역만 찾는다.\n",
    "def name(cls):\n",
    "    cls.name #무조건 클래스 영역을 가리킨다. (클래스영역의 name변수)\n",
    "    \n",
    "# 3)정적메소드 (@staticmethod)\n",
    "# cls를 쓰지 않아도 됨. 필요시 사용하면 된다.\n",
    "# 내가 전달하려는 값을 매개변수로 전달해서 정할 수 있음.\n",
    "def name(cls):\n",
    "    cls.name #메소드 호출시에 전달된 cls값에 따라 객체영역도, 클래스영역도 접근 가능"
   ]
  },
  {
   "cell_type": "code",
   "execution_count": 133,
   "metadata": {},
   "outputs": [],
   "source": [
    "# @property 데코레이터\n",
    "\n",
    "class Class8:\n",
    "    @property\n",
    "    def name(self):\n",
    "        print(\"This is name\")"
   ]
  },
  {
   "cell_type": "code",
   "execution_count": 134,
   "metadata": {},
   "outputs": [
    {
     "name": "stdout",
     "output_type": "stream",
     "text": [
      "This is name\n"
     ]
    }
   ],
   "source": [
    "eight = Class8()\n",
    "eight.name"
   ]
  },
  {
   "cell_type": "code",
   "execution_count": 6,
   "metadata": {},
   "outputs": [
    {
     "name": "stdout",
     "output_type": "stream",
     "text": [
      "hongildong from Korea\n"
     ]
    },
    {
     "data": {
      "text/plain": [
       "'홍길동'"
      ]
     },
     "execution_count": 6,
     "metadata": {},
     "output_type": "execute_result"
    }
   ],
   "source": [
    "# python에서는 Java의 private(은닉)개념이 없음. 모두 public임.\n",
    "# 묶음을 통해 어느정도 캡슐화는 가능하다.\n",
    "\n",
    "# - 클래스 정의할 때 내부의 속성과 함수를 묶어서 하나의 단위로 처리할 수 있다.\n",
    "# - 하나의 단위로 묶어서 클래스를 만드는 것을 캡슐화라고 한다.\n",
    "# - 캡슐화를 위해 @property를 사용할 수 있다.\n",
    "\n",
    "class Property :\n",
    "    def __init__(self,name, age) :\n",
    "        self._name = name\n",
    "        self._age = age\n",
    "    \n",
    "    @property\n",
    "    def name(self) :\n",
    "        print('hongildong from Korea')\n",
    "        return self._name\n",
    "    \n",
    "    @property\n",
    "    def age(self) :\n",
    "        if self._age >= 20:\n",
    "            print(\"adult\")\n",
    "        elif self._age >5 and self._age <20:\n",
    "            print(\"adolescence\")\n",
    "        else:\n",
    "            print(\"toddler\")\n",
    "        return self._age\n",
    "    \n",
    "    @property\n",
    "    def getter(self) :\n",
    "        return self.name, self.age\n",
    " \n",
    " \n",
    "p = Property('홍길동',18)\n",
    "p.name #변수를 호출하는것이 아니라, getter역할을 하는 method를 호출하는것이다."
   ]
  },
  {
   "cell_type": "code",
   "execution_count": 7,
   "metadata": {},
   "outputs": [
    {
     "name": "stdout",
     "output_type": "stream",
     "text": [
      "hongildong from Korea\n",
      "adolescence\n"
     ]
    },
    {
     "data": {
      "text/plain": [
       "('홍길동', 18)"
      ]
     },
     "execution_count": 7,
     "metadata": {},
     "output_type": "execute_result"
    }
   ],
   "source": [
    "p.getter"
   ]
  },
  {
   "cell_type": "code",
   "execution_count": null,
   "metadata": {},
   "outputs": [],
   "source": [
    "# setter, deleter 데코레이터\n",
    "\n",
    "# - 실제 프로퍼티를 구성할 때 하나의 속성에 매칭되는 함수는 세 개를 만들어 등록할 수 있다.\n",
    "# - 함수이름에 '.' 을 붙혀서 setter, deleter로 데코레이터 처리를 할 수 있다.\n",
    "# - 속성 하나당, 조회, 갱신, 삭제가 가능한 구조를 만들 수 있다."
   ]
  },
  {
   "cell_type": "code",
   "execution_count": 9,
   "metadata": {},
   "outputs": [],
   "source": [
    "class Property2:\n",
    "    def __init__(self,name,age):\n",
    "        self._name = name\n",
    "        self._age = age\n",
    "        \n",
    "    @property\n",
    "    def name(self):\n",
    "        return self._name\n",
    "\n",
    "    @property\n",
    "    def age(self):\n",
    "        return self._age\n",
    "\n",
    "    @name.setter\n",
    "    def name(self,name):\n",
    "        self._name = name\n",
    "\n",
    "    @age.setter\n",
    "    def age(self,age):\n",
    "        self.age = age\n",
    "\n",
    "    @name.deleter\n",
    "    def name(self):\n",
    "        del self._name"
   ]
  },
  {
   "cell_type": "code",
   "execution_count": 10,
   "metadata": {},
   "outputs": [
    {
     "data": {
      "text/plain": [
       "'LAUV'"
      ]
     },
     "execution_count": 10,
     "metadata": {},
     "output_type": "execute_result"
    }
   ],
   "source": [
    "p2 = Property2(\"LAUV\",23)\n",
    "p2.name"
   ]
  },
  {
   "cell_type": "code",
   "execution_count": 11,
   "metadata": {},
   "outputs": [
    {
     "data": {
      "text/plain": [
       "23"
      ]
     },
     "execution_count": 11,
     "metadata": {},
     "output_type": "execute_result"
    }
   ],
   "source": [
    "p2.age"
   ]
  },
  {
   "cell_type": "code",
   "execution_count": 13,
   "metadata": {},
   "outputs": [
    {
     "data": {
      "text/plain": [
       "'Sheeran'"
      ]
     },
     "execution_count": 13,
     "metadata": {},
     "output_type": "execute_result"
    }
   ],
   "source": [
    "p2.name = \"Sheeran\"  #@name.setter 연결함수 호출\n",
    "p2.name  #@property 연결함수 호출"
   ]
  },
  {
   "cell_type": "code",
   "execution_count": 14,
   "metadata": {},
   "outputs": [
    {
     "ename": "AttributeError",
     "evalue": "'Property2' object has no attribute '_name'",
     "output_type": "error",
     "traceback": [
      "\u001b[1;31m---------------------------------------------------------------------------\u001b[0m",
      "\u001b[1;31mAttributeError\u001b[0m                            Traceback (most recent call last)",
      "\u001b[1;32m<ipython-input-14-f047c7867c2f>\u001b[0m in \u001b[0;36m<module>\u001b[1;34m\u001b[0m\n\u001b[0;32m      1\u001b[0m \u001b[1;32mdel\u001b[0m \u001b[0mp2\u001b[0m\u001b[1;33m.\u001b[0m\u001b[0mname\u001b[0m \u001b[1;31m#@name.deleter 연결함수 호출\u001b[0m\u001b[1;33m\u001b[0m\u001b[1;33m\u001b[0m\u001b[0m\n\u001b[0;32m      2\u001b[0m \u001b[1;33m\u001b[0m\u001b[0m\n\u001b[1;32m----> 3\u001b[1;33m \u001b[0mp2\u001b[0m\u001b[1;33m.\u001b[0m\u001b[0mname\u001b[0m \u001b[1;31m#@property 연결함수 호출 -> 내부 저장된 속성이 삭제되어 오류남\u001b[0m\u001b[1;33m\u001b[0m\u001b[1;33m\u001b[0m\u001b[0m\n\u001b[0m",
      "\u001b[1;32m<ipython-input-9-134c71f957b4>\u001b[0m in \u001b[0;36mname\u001b[1;34m(self)\u001b[0m\n\u001b[0;32m      6\u001b[0m     \u001b[1;33m@\u001b[0m\u001b[0mproperty\u001b[0m\u001b[1;33m\u001b[0m\u001b[1;33m\u001b[0m\u001b[0m\n\u001b[0;32m      7\u001b[0m     \u001b[1;32mdef\u001b[0m \u001b[0mname\u001b[0m\u001b[1;33m(\u001b[0m\u001b[0mself\u001b[0m\u001b[1;33m)\u001b[0m\u001b[1;33m:\u001b[0m\u001b[1;33m\u001b[0m\u001b[1;33m\u001b[0m\u001b[0m\n\u001b[1;32m----> 8\u001b[1;33m         \u001b[1;32mreturn\u001b[0m \u001b[0mself\u001b[0m\u001b[1;33m.\u001b[0m\u001b[0m_name\u001b[0m\u001b[1;33m\u001b[0m\u001b[1;33m\u001b[0m\u001b[0m\n\u001b[0m\u001b[0;32m      9\u001b[0m \u001b[1;33m\u001b[0m\u001b[0m\n\u001b[0;32m     10\u001b[0m     \u001b[1;33m@\u001b[0m\u001b[0mproperty\u001b[0m\u001b[1;33m\u001b[0m\u001b[1;33m\u001b[0m\u001b[0m\n",
      "\u001b[1;31mAttributeError\u001b[0m: 'Property2' object has no attribute '_name'"
     ]
    }
   ],
   "source": [
    "del p2.name #@name.deleter 연결함수 호출\n",
    " \n",
    "p2.name #@property 연결함수 호출 -> 내부 저장된 속성이 삭제되어 오류남"
   ]
  },
  {
   "cell_type": "code",
   "execution_count": 15,
   "metadata": {},
   "outputs": [],
   "source": [
    "# __str__() 메소드\n",
    "\n",
    "# 객체를 대표하는 문자열을 출력하기 위한 메서드 이다.\n",
    "# 객체를 출력하면 객체의 타입과 참조값(주소)가 출력된다.\n",
    "# __str__()함수를 사용하면 객체의 특징을 문자열로 출력할 수 있다.\n",
    "# __str__()를 주석후( [ctrl] + [/] ) 실행해보고 주석을 풀고( [ctrl] + [/] ) \n",
    "# 다시 실행해본다."
   ]
  },
  {
   "cell_type": "code",
   "execution_count": 28,
   "metadata": {},
   "outputs": [],
   "source": [
    "class Robot:\n",
    "    '''다양한 로봇을 만드는 클래스'''\n",
    "    \n",
    "    def __init__(self, name, build_year):\n",
    "        self.maker='YEONSE'\n",
    "        self.isWalking = True\n",
    "        self.name = name\n",
    "        self.build_year = build_year\n",
    "        self.xpos = 0\n",
    "        self.ypos = 0\n",
    "        \n",
    "    def move(self):\n",
    "        if self.isWalking:\n",
    "            self.xpos +=1\n",
    "            self.ypos +=1\n",
    "            \n",
    "    def curPlace(self):\n",
    "        return self.xpos, self.ypos\n",
    "    \n",
    "    def curPosition(self):\n",
    "        print('현재좌표:({},{})'.format(self.xpos, self.ypos))\n",
    "        \n",
    "    def __str__(self):\n",
    "        sentence = '이름:{}, 제조년:{}, 현재위치:{}'\\\n",
    "        .format(self.name, self.build_year, self.curPlace())\n",
    "        return sentence"
   ]
  },
  {
   "cell_type": "code",
   "execution_count": 25,
   "metadata": {},
   "outputs": [
    {
     "name": "stdout",
     "output_type": "stream",
     "text": [
      "이름:shy, 제조년:2020, 현재위치:(2, 2)\n"
     ]
    }
   ],
   "source": [
    "hubo = Robot('shy', 2020)\n",
    "hubo.move()\n",
    "hubo.move()\n",
    "print(hubo)"
   ]
  },
  {
   "cell_type": "code",
   "execution_count": 30,
   "metadata": {},
   "outputs": [
    {
     "name": "stdout",
     "output_type": "stream",
     "text": [
      "<__main__.Robot object at 0x000001FC85963A08>\n"
     ]
    }
   ],
   "source": [
    "#__str__() 주석후 실행 결과: <__main__.Robot object at 0x000001FC85963A08>\n",
    "pluto = Robot('Tom',2022)\n",
    "print(pluto)"
   ]
  },
  {
   "cell_type": "code",
   "execution_count": null,
   "metadata": {},
   "outputs": [],
   "source": [
    "# 클래스 속성과 인스턴스 속성(객체속성)\n",
    "# - 클래스 변수(속성)는 모든 객체가 공유하는 변수이다.\n",
    "# - 클래스 변수(속성)는 클래스 안 메소드 밖에 만든다.\n",
    "# - 클래스 변수(속성)를 사용할때는 클래스명.클래스변수로 사용한다.\n",
    "# - 객체를 생성하지 않고 바로 사용가능하다.\n",
    "# - 객체변수(속성)는 객체생성 후 참조값을 가지고 있는 객체참조변수(hubo1)\n",
    "#   또는 객체생성시 __init__()함수안에서 self로 만들 수 있다.\n",
    "# - 객체생성 후 객체참조 변수(hubo1) 또는 self로 접근하는 객체의 속성값이\n",
    "#   없으면 클래스 속성값에 접근해서 사용한다."
   ]
  },
  {
   "cell_type": "code",
   "execution_count": 31,
   "metadata": {},
   "outputs": [],
   "source": [
    "class Robot:\n",
    "    '''다양한 로봇을 만드는 클래스''' #클래스 설명\n",
    "    population = 0 #클래스 속성(변수)\n",
    "    maker = 'KAIST' #클래스 속성(변수)\n",
    "    \n",
    "    def __init__(self, name, build_year):\n",
    "        self.isWalking = True #객체 속성(변수)\n",
    "        self.name = name #객체 속성(변수)\n",
    "        self.build_year = build_year #객체 속성(변수)\n",
    "        self.xpos = 0 #객체 속성(변수)\n",
    "        self.ypos = 0 #객체 속성(변수)\n",
    "        Robot.population += 1 #클래스 속성(변수)"
   ]
  },
  {
   "cell_type": "code",
   "execution_count": 32,
   "metadata": {},
   "outputs": [
    {
     "data": {
      "text/plain": [
       "'KAIST'"
      ]
     },
     "execution_count": 32,
     "metadata": {},
     "output_type": "execute_result"
    }
   ],
   "source": [
    "Robot.maker"
   ]
  },
  {
   "cell_type": "code",
   "execution_count": 35,
   "metadata": {},
   "outputs": [
    {
     "name": "stdout",
     "output_type": "stream",
     "text": [
      "POSTECH\n"
     ]
    }
   ],
   "source": [
    "Robot.maker = \"POSTECH\"\n",
    "print(Robot.maker)"
   ]
  },
  {
   "cell_type": "code",
   "execution_count": 36,
   "metadata": {},
   "outputs": [],
   "source": [
    "hubo1 = Robot('shane', 2016) #객체 생성, __init__()호출 (Robot.population=1)\n",
    "hubo2 = Robot('albert', 2018) #객체 생성, __init__()호출 (Robot.population=2)\n",
    "hubo3 = Robot('sol', 2018) #객체 생성, __init__()호출 (Robot.population=3)"
   ]
  },
  {
   "cell_type": "code",
   "execution_count": 37,
   "metadata": {},
   "outputs": [
    {
     "data": {
      "text/plain": [
       "3"
      ]
     },
     "execution_count": 37,
     "metadata": {},
     "output_type": "execute_result"
    }
   ],
   "source": [
    "Robot.population"
   ]
  },
  {
   "cell_type": "code",
   "execution_count": 38,
   "metadata": {},
   "outputs": [
    {
     "data": {
      "text/plain": [
       "3"
      ]
     },
     "execution_count": 38,
     "metadata": {},
     "output_type": "execute_result"
    }
   ],
   "source": [
    "hubo1.population \n",
    "#hubo1 객체 영역에는 population이 없지만, 클래스 영역에가서 population을 찾는다.\n",
    "#만약 동일한게 객체 영역에 있으면, 객체 영역에 있는 것을 먼저 찾아온다."
   ]
  },
  {
   "cell_type": "code",
   "execution_count": 43,
   "metadata": {},
   "outputs": [
    {
     "data": {
      "text/plain": [
       "0"
      ]
     },
     "execution_count": 43,
     "metadata": {},
     "output_type": "execute_result"
    }
   ],
   "source": [
    "hubo2.ypos"
   ]
  },
  {
   "cell_type": "code",
   "execution_count": 44,
   "metadata": {},
   "outputs": [
    {
     "data": {
      "text/plain": [
       "'POSTECH'"
      ]
     },
     "execution_count": 44,
     "metadata": {},
     "output_type": "execute_result"
    }
   ],
   "source": [
    "hubo2.maker"
   ]
  },
  {
   "cell_type": "code",
   "execution_count": 49,
   "metadata": {},
   "outputs": [],
   "source": [
    "#####################################################################################\n",
    "# 데이터 숨기기 - Name Mangling 이름장식\n",
    "#  - 파이썬은 기본적으로  public (항상접근) 기능을 가진다.\n",
    "#  - 파이썬은 자바처럼 강력한 데이터은닉 도구인 접근자(private)가 없다.\n",
    "#  - 변수 앞에(__) 언더스코어(2개)를 있게 함으로써 이름장식(Name Mangling) 기법을 제공한다.\n",
    "\n",
    "#  클래스 속성 또는 객체(인스턴스)속성 모두 __을 있게 함으로써 클래스 외부에서 직접\n",
    "#  접근하지 못하고 메소드를 이용하여 __변수(속성)에 접근하도록 하고 있다.\n",
    "#  클래스 외부에서 참조할때 자동적으로 '_[클래스이름]__[변수이름]'으로 변경된다. \n",
    "#  물론 클래스 내부 에서는 정의한 이름인 '__[변수이름]'만으로 사용이 가능하다.\n",
    "\n",
    "#  이름변경이 적용된 클래스와 객체 속성명에 그 이름을 사용하여 외부에서 접근하는 경우, \n",
    "#  클래스,객체 내에 동일한 이름이 없다는 NameError가 발생한다.\n",
    "#  물론 변경된 이름으로 접근하는 경우 그 변수에 대한 읽기, 쓰기가 가능하다.\n",
    "#  파이썬에서는 문법의 제약사항으로 정보은닉기능을 제공하기 보다는 이름변경으로\n",
    "#  개발자의 의도를 나타내도록 하였다. "
   ]
  },
  {
   "cell_type": "code",
   "execution_count": 53,
   "metadata": {},
   "outputs": [],
   "source": [
    "class Robot: \n",
    "    '''다양한 로봇을 만드는 클래스'''\n",
    "    def __init__(self, name, build_year):\n",
    "        self.name = name\n",
    "        self.__build_year = build_year #name mangling적용\n",
    "        self.xpos = 0\n",
    "        self.ypos = 0\n",
    "    \n",
    "    def getYear(self):\n",
    "        return self.__build_year #__build_year: 클래스 안에서 access가능"
   ]
  },
  {
   "cell_type": "code",
   "execution_count": 54,
   "metadata": {},
   "outputs": [],
   "source": [
    "hubo = Robot('Jeremy',2020)"
   ]
  },
  {
   "cell_type": "code",
   "execution_count": 55,
   "metadata": {},
   "outputs": [
    {
     "name": "stdout",
     "output_type": "stream",
     "text": [
      "Zucker\n"
     ]
    }
   ],
   "source": [
    "hubo.name = 'Zucker'\n",
    "print(hubo.name)"
   ]
  },
  {
   "cell_type": "code",
   "execution_count": 57,
   "metadata": {},
   "outputs": [
    {
     "ename": "AttributeError",
     "evalue": "'Robot' object has no attribute '__build_year'",
     "output_type": "error",
     "traceback": [
      "\u001b[1;31m---------------------------------------------------------------------------\u001b[0m",
      "\u001b[1;31mAttributeError\u001b[0m                            Traceback (most recent call last)",
      "\u001b[1;32m<ipython-input-57-ca3db546c2bf>\u001b[0m in \u001b[0;36m<module>\u001b[1;34m\u001b[0m\n\u001b[1;32m----> 1\u001b[1;33m \u001b[0mhubo\u001b[0m\u001b[1;33m.\u001b[0m\u001b[0m__build_year\u001b[0m\u001b[1;33m\u001b[0m\u001b[1;33m\u001b[0m\u001b[0m\n\u001b[0m",
      "\u001b[1;31mAttributeError\u001b[0m: 'Robot' object has no attribute '__build_year'"
     ]
    }
   ],
   "source": [
    "hubo.__build_year"
   ]
  },
  {
   "cell_type": "code",
   "execution_count": 62,
   "metadata": {},
   "outputs": [
    {
     "data": {
      "text/plain": [
       "2020"
      ]
     },
     "execution_count": 62,
     "metadata": {},
     "output_type": "execute_result"
    }
   ],
   "source": [
    "hubo._Robot__build_year \n",
    "# Java와 같이 문법적으로 접근을 불가능하게 해놓은것은아니다.\n",
    "# 이렇게 _클래스이름.__변수이름 으로 접근은 가능함. \n",
    "# 그러나 개발자의 의도는 getYear() 메소드를 통해 접근하라는 것."
   ]
  },
  {
   "cell_type": "code",
   "execution_count": 63,
   "metadata": {},
   "outputs": [
    {
     "data": {
      "text/plain": [
       "2020"
      ]
     },
     "execution_count": 63,
     "metadata": {},
     "output_type": "execute_result"
    }
   ],
   "source": [
    "hubo.getYear() #build_year변수 그대로 접근하지말고 getYear() 메소드를 통해 변수에 접근해라."
   ]
  },
  {
   "cell_type": "code",
   "execution_count": 67,
   "metadata": {},
   "outputs": [],
   "source": [
    "class Robot:\n",
    "    '''다양한 로봇을 만드는 클래스'''\n",
    "    def __init__(self, name, build_year):\n",
    "        self.name = name\n",
    "        self.__build_year = build_year #name mangling적용\n",
    "        self.xpos = 0\n",
    "        self.ypos = 0\n",
    "        \n",
    "    def factorial(self,n):\n",
    "        if n==1:\n",
    "            return 1\n",
    "        else:\n",
    "            return n*self.factorial(n-1)       "
   ]
  },
  {
   "cell_type": "code",
   "execution_count": 68,
   "metadata": {},
   "outputs": [],
   "source": [
    "hubo = Robot('Tyler',2023)"
   ]
  },
  {
   "cell_type": "code",
   "execution_count": 69,
   "metadata": {},
   "outputs": [
    {
     "data": {
      "text/plain": [
       "120"
      ]
     },
     "execution_count": 69,
     "metadata": {},
     "output_type": "execute_result"
    }
   ],
   "source": [
    "hubo.factorial(5)"
   ]
  },
  {
   "cell_type": "code",
   "execution_count": 70,
   "metadata": {},
   "outputs": [],
   "source": [
    "# 생성자, 초기화, 소멸자 \n",
    "# - 생성자(Constructor) : 객체가 생성되면서 자동으로 호출하는 최초의 함수\n",
    "# - 초기화(initialize) : 객체생성후 여러가지 속성을 할당할때 호출되는 함수\n",
    "# - 소멸자(destructor) : 객체를 없앨때 호출하는 함수"
   ]
  },
  {
   "cell_type": "code",
   "execution_count": 71,
   "metadata": {},
   "outputs": [
    {
     "name": "stdout",
     "output_type": "stream",
     "text": [
      "객체가 생성되었다\n"
     ]
    }
   ],
   "source": [
    "# 1) 생성자  __new__(cls)\n",
    "#   - 객체생성시 자동으로 호출된다.\n",
    "#   - cls는 self와 같은 역할을 한다.\n",
    "#  - 초기화 함수를 자동 호출하려면 생성자에서 object 객체생성자 호출를 해야한다.\n",
    "#   - __init__() 호출전에 호출합니다.\n",
    "#   - 구현하지 않아도 오류가 나지 않습니다.\n",
    "#   - 객체를 생성시  __new__(cls)와 __init__(self) 가 차례대로 호출되므로\n",
    "#     두함수의 매개변수는 동일한게 맞추어 주어야 한다.\n",
    "\n",
    "class Totoro:\n",
    "    def __new__(cls):\n",
    "        print(\"객체가 생성되었다\")\n",
    "        #초기함수 선언후 자동호출하려면 object 생성자 호출 코드필요\n",
    "toto = Totoro()"
   ]
  },
  {
   "cell_type": "code",
   "execution_count": 75,
   "metadata": {},
   "outputs": [],
   "source": [
    "class Totoro:\n",
    "    def __new__(cls, name, age):\n",
    "        print(\"객체가 생성되었다\")\n",
    "        return object.__new__(cls)\n",
    "    \n",
    "    def __init__(self, name, age):\n",
    "        print(\"객체 생성 시, 초기화 된다\")\n",
    "        self.name = name\n",
    "        self.age = age"
   ]
  },
  {
   "cell_type": "code",
   "execution_count": 76,
   "metadata": {},
   "outputs": [
    {
     "name": "stdout",
     "output_type": "stream",
     "text": [
      "객체가 생성되었다\n",
      "객체 생성 시, 초기화 된다\n"
     ]
    }
   ],
   "source": [
    "t = Totoro('토토로',15)\n",
    "# init에서 변수 초기화를 하기때문에 Java에서의 생성자 역할을 한다."
   ]
  },
  {
   "cell_type": "code",
   "execution_count": 77,
   "metadata": {},
   "outputs": [
    {
     "data": {
      "text/plain": [
       "<__main__.Totoro at 0x1fc85997648>"
      ]
     },
     "execution_count": 77,
     "metadata": {},
     "output_type": "execute_result"
    }
   ],
   "source": [
    "# 2) 소멸자 __del__\n",
    "# 객체를 사용후 메로리 해제할때 del 을 사용한다.\n",
    "# del로 객체 참조 변수를 삭제하면  __del__함수가 호출된  후 객체메모리가 해제된다.\n",
    "\n",
    "t"
   ]
  },
  {
   "cell_type": "code",
   "execution_count": 78,
   "metadata": {},
   "outputs": [],
   "source": [
    "del t"
   ]
  },
  {
   "cell_type": "code",
   "execution_count": 79,
   "metadata": {},
   "outputs": [
    {
     "ename": "NameError",
     "evalue": "name 't' is not defined",
     "output_type": "error",
     "traceback": [
      "\u001b[1;31m---------------------------------------------------------------------------\u001b[0m",
      "\u001b[1;31mNameError\u001b[0m                                 Traceback (most recent call last)",
      "\u001b[1;32m<ipython-input-79-34fc7a11cb38>\u001b[0m in \u001b[0;36m<module>\u001b[1;34m\u001b[0m\n\u001b[1;32m----> 1\u001b[1;33m \u001b[0mt\u001b[0m\u001b[1;33m\u001b[0m\u001b[1;33m\u001b[0m\u001b[0m\n\u001b[0m",
      "\u001b[1;31mNameError\u001b[0m: name 't' is not defined"
     ]
    }
   ],
   "source": [
    "t"
   ]
  },
  {
   "cell_type": "code",
   "execution_count": 82,
   "metadata": {},
   "outputs": [
    {
     "name": "stdout",
     "output_type": "stream",
     "text": [
      "객체가 생성되었습니다.\n",
      "객체를 생성시 초기화 됩니다.\n"
     ]
    }
   ],
   "source": [
    "class Totoro:\n",
    "    def __new__(cls, name, age) :\n",
    "        print(\"객체가 생성되었습니다.\")\n",
    "        return object.__new__(cls)\n",
    "        \n",
    "    def __init__(self, name, age):\n",
    "        print(\"객체를 생성시 초기화 됩니다.\")\n",
    "        self.name = name\n",
    "        self.age = age\n",
    "        \n",
    "    def __del__(self):\n",
    "        print(\"객체가 삭제됩니다.\")\n",
    "        del self\n",
    "               \n",
    "t2 = Totoro('돼지토끼', 5)"
   ]
  },
  {
   "cell_type": "code",
   "execution_count": 83,
   "metadata": {},
   "outputs": [
    {
     "name": "stdout",
     "output_type": "stream",
     "text": [
      "객체가 삭제됩니다.\n"
     ]
    }
   ],
   "source": [
    "del t2"
   ]
  },
  {
   "cell_type": "code",
   "execution_count": null,
   "metadata": {},
   "outputs": [],
   "source": []
  }
 ],
 "metadata": {
  "kernelspec": {
   "display_name": "pydata",
   "language": "python",
   "name": "pydata"
  },
  "language_info": {
   "codemirror_mode": {
    "name": "ipython",
    "version": 3
   },
   "file_extension": ".py",
   "mimetype": "text/x-python",
   "name": "python",
   "nbconvert_exporter": "python",
   "pygments_lexer": "ipython3",
   "version": "3.7.10"
  }
 },
 "nbformat": 4,
 "nbformat_minor": 4
}

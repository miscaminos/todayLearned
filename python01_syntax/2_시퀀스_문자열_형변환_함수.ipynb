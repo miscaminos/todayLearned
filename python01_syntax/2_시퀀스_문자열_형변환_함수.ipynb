{
 "cells": [
  {
   "cell_type": "code",
   "execution_count": 3,
   "metadata": {},
   "outputs": [
    {
     "name": "stdout",
     "output_type": "stream",
     "text": [
      "m\n",
      "y\n",
      "1\n",
      "[1, 2, 3]\n",
      "3\n"
     ]
    }
   ],
   "source": [
    "# 시퀀스\n",
    "strdata = 'Time is money!!'\n",
    "print(strdata[2])     # ‘m'가 출력됨\n",
    "print(strdata[-3])    # ‘y’가 출력됨\n",
    "\n",
    "listdata = [1, 2, [1, 2, 3]]\n",
    "print(listdata[0])     # 1이 출력됨\n",
    "print(listdata[-1])    # [1, 2, 3]이 출력됨\n",
    "print(listdata[2][-1])  # 3이 출력됨"
   ]
  },
  {
   "cell_type": "code",
   "execution_count": 4,
   "metadata": {},
   "outputs": [
    {
     "name": "stdout",
     "output_type": "stream",
     "text": [
      "ime \n",
      "Time is\n",
      "oney!!\n",
      "Time is mone\n",
      "y!!\n",
      "Time is money!!\n",
      "Tm smny!\n"
     ]
    }
   ],
   "source": [
    "# 시퀀스 스라이싱\n",
    "strdata = 'Time is money!!'\n",
    "print(strdata[1:5])   # ‘ime’가 출력됨\n",
    "print(strdata[:7])    # ‘Time is’가 출력됨\n",
    "print(strdata[9:])    # ‘oney!!’가 출력됨\n",
    "print(strdata[:-3])   # ‘Time is mone’이 출력됨\n",
    "print(strdata[-3:])   # ‘y!!’이 출력됨\n",
    "print(strdata[:])    # ‘Time is money!!’가 출력됨\n",
    "print(strdata[::2])  # ‘Tm smny!’가 출력됨"
   ]
  },
  {
   "cell_type": "code",
   "execution_count": 5,
   "metadata": {},
   "outputs": [
    {
     "name": "stdout",
     "output_type": "stream",
     "text": [
      "I love you\n"
     ]
    }
   ],
   "source": [
    "# 시퀀스 연결(+)\n",
    "str1 = \"I love \"\n",
    "str2 = \"you\"\n",
    "print(str1+str2)"
   ]
  },
  {
   "cell_type": "code",
   "execution_count": 6,
   "metadata": {},
   "outputs": [
    {
     "name": "stdout",
     "output_type": "stream",
     "text": [
      "안녕하세요 '김길동' 입니다.\n",
      "안녕하세요 \"박길동\" 입니다.\n",
      "안녕하세요 \"홍길동\" 입니다.\n",
      "안녕하세요 '홍길동' 입니다.\n"
     ]
    }
   ],
   "source": [
    "# 문자열\n",
    "print(\"안녕하세요 '김길동' 입니다.\")\n",
    "print('안녕하세요 \"박길동\" 입니다.')\n",
    "\n",
    "print(\"안녕하세요 \\\"홍길동\\\" 입니다.\")\n",
    "print('안녕하세요 \\'홍길동\\' 입니다.')"
   ]
  },
  {
   "cell_type": "code",
   "execution_count": 8,
   "metadata": {},
   "outputs": [
    {
     "name": "stdout",
     "output_type": "stream",
     "text": [
      "안녕하세요\n",
      "반갑습니다.\n",
      "다시봅시다.\n"
     ]
    }
   ],
   "source": [
    "print('안녕하세요\\n''반갑습니다.\\n''다시봅시다.')"
   ]
  },
  {
   "cell_type": "code",
   "execution_count": 10,
   "metadata": {},
   "outputs": [
    {
     "name": "stdout",
     "output_type": "stream",
     "text": [
      "\n",
      "안녕하세요\n",
      " 반갑습니다.\n",
      "  다시봅시다.\n",
      "   \n"
     ]
    }
   ],
   "source": [
    "print('''\n",
    "안녕하세요\n",
    " 반갑습니다.\n",
    "  다시봅시다.\n",
    "   ''')"
   ]
  },
  {
   "cell_type": "code",
   "execution_count": 16,
   "metadata": {},
   "outputs": [
    {
     "name": "stdout",
     "output_type": "stream",
     "text": [
      "Python is the best language ever\n",
      "         python is the best language ever         \n",
      "---------python is the best language ever---------\n",
      "2\n"
     ]
    }
   ],
   "source": [
    "# 문자열 methods\n",
    "our_string='python is the best language ever'\n",
    "print(our_string.capitalize())\n",
    "print(our_string.center(50))\n",
    "print(our_string.center(50,'-'))\n",
    "print(our_string.count('a'))"
   ]
  },
  {
   "cell_type": "code",
   "execution_count": 17,
   "metadata": {},
   "outputs": [
    {
     "name": "stdout",
     "output_type": "stream",
     "text": [
      "('Hello, my ', 'n', 'ame is Josh')\n"
     ]
    }
   ],
   "source": [
    "# 문자열을 분할(partition)하면, 분리자의 앞 부분, 분리자, \n",
    "# 그리고, 그 분리자의뒷 부분의 세 원소로 이루어진 튜플을 반환\n",
    "x = \"Hello, my name is Josh\"\n",
    "print(x.partition('n'))"
   ]
  },
  {
   "cell_type": "code",
   "execution_count": 21,
   "metadata": {},
   "outputs": [
    {
     "name": "stdout",
     "output_type": "stream",
     "text": [
      "['apple', 'orange', 'pineapple', 'watermelon', 'plum']\n",
      "['apple', 'orange,pineapple,watermelon,plum']\n",
      "['apple', 'orange', 'pineapple,watermelon,plum']\n"
     ]
    }
   ],
   "source": [
    "y = \"apple,orange,pineapple,watermelon,plum\"\n",
    "print(y.split(','))\n",
    "print(y.split(',',1))\n",
    "print(y.split(',',2))"
   ]
  },
  {
   "cell_type": "code",
   "execution_count": 22,
   "metadata": {},
   "outputs": [
    {
     "name": "stdout",
     "output_type": "stream",
     "text": [
      "나는 java보다 python에 더 익숙합니다.\n",
      "python은 java보다 5배 더 쉽습니다.\n",
      "5 + 10 = 15\n",
      "작년 세계 경제 성장률은 전년에 비해 5% 포인트 증가했다.\n"
     ]
    }
   ],
   "source": [
    "# 문자열 formatting\n",
    "txt1 = 'java'\n",
    "txt2 = 'python'\n",
    "num1 = 5\n",
    "num2 = 10\n",
    "print('나는 %s보다 %s에 더 익숙합니다.' %(txt1, txt2))\n",
    "print('%s은 %s보다 %d배 더 쉽습니다.' %(txt2, txt1, num1))\n",
    "print('%d + %d = %d' %(num1, num2, num1+num2))\n",
    "print('작년 세계 경제 성장률은 전년에 비해 %d%% 포인트 증가했다.' %num1)"
   ]
  },
  {
   "cell_type": "code",
   "execution_count": 27,
   "metadata": {},
   "outputs": [
    {
     "name": "stdout",
     "output_type": "stream",
     "text": [
      "12.35%\n",
      "12.35%\n",
      " 12.3%\n"
     ]
    }
   ],
   "source": [
    "no3 = 12.35\n",
    "print('%3.2f%%' % no3)\n",
    "print('%5.2f%%' % no3)\n",
    "print('%5.1f%%' % no3)"
   ]
  },
  {
   "cell_type": "code",
   "execution_count": 32,
   "metadata": {},
   "outputs": [
    {
     "name": "stdout",
     "output_type": "stream",
     "text": [
      "진행률  0%"
     ]
    }
   ],
   "source": [
    "from time import sleep\n",
    " \n",
    "for i in range(100):\n",
    "   msg = '\\r진행률 %2d%%' %(100-i-1)\n",
    "   print(msg, end='')\n",
    "   sleep(0.1) # 0.1초동안 중지됨"
   ]
  },
  {
   "cell_type": "code",
   "execution_count": 33,
   "metadata": {},
   "outputs": [
    {
     "name": "stdout",
     "output_type": "stream",
     "text": [
      "나는 파이썬을 사랑합니다.\n",
      "파이썬은 자바보다 훨씬 쉽습니다.\n",
      "Name: John Smith\tgender: Male\tAge: 22\n",
      "이 문장은 화면폭에 비해 너무 길어 보기가 힘듭니다. 그래서 \\Enter키를 이용해 문장을 다음줄과 연속되도록 했습니다.\n",
      "작은따옴표(')와 큰 따옴표(\")는 문자열을 정의할 때 사용합니다.\n"
     ]
    }
   ],
   "source": [
    "print('나는 파이썬을 사랑합니다.\\n파이썬은 자바보다 훨씬 쉽습니다.')\n",
    "print('Name: John Smith\\tgender: Male\\tAge: 22')\n",
    "print('이 문장은 화면폭에 비해 너무 길어 보기가 힘듭니다. \\\n",
    "그래서 \\\\Enter키를 이용해 문장을 다음줄과 연속되도록 했습니다.')\n",
    "print('작은따옴표(\\')와 큰 따옴표(\")는 문자열을 정의할 때 사용합니다.')"
   ]
  },
  {
   "cell_type": "code",
   "execution_count": 2,
   "metadata": {},
   "outputs": [
    {
     "name": "stdout",
     "output_type": "stream",
     "text": [
      "이 문장은 화면폭에 비해 너무 길어 보기가 힘듭니다. 그래서 \\Enter키를 이용해 문장을 다음줄과 연속되도록 했습니다.\n",
      "이 문장은 화면폭에 비해 너무 길어 보기가 힘듭니다. 그래서 \\Enter키를 이용해 문장을 다음줄과 연속되도록 했습니다.\n"
     ]
    }
   ],
   "source": [
    "print('이 문장은 화면폭에 비해 너무 길어 보기가 힘듭니다. 그래서 \\\\Enter키를 이용해 문장을 다음줄과 연속되도록 했습니다.')\n",
    "print('이 문장은 화면폭에 비해 너무 길어 보기가 힘듭니다. \\\n",
    "그래서 \\\\Enter키를 이용해 문장을 다음줄과 연속되도록 했습니다.')"
   ]
  },
  {
   "cell_type": "code",
   "execution_count": 34,
   "metadata": {},
   "outputs": [
    {
     "name": "stdout",
     "output_type": "stream",
     "text": [
      "임의의 문장을 입력하세요: 꽃이피는 날 굿바이\n",
      "당신이 입력한 문장의 길이는 <10> 입니다.\n"
     ]
    }
   ],
   "source": [
    "# 문자열 methods\n",
    "msg = input('임의의 문장을 입력하세요: ')\n",
    "msglen = len(msg)\n",
    "print('당신이 입력한 문장의 길이는 <%d> 입니다.' %msglen)"
   ]
  },
  {
   "cell_type": "code",
   "execution_count": 35,
   "metadata": {},
   "outputs": [
    {
     "name": "stdout",
     "output_type": "stream",
     "text": [
      "3\n",
      "2\n",
      "8\n"
     ]
    }
   ],
   "source": [
    "txt = 'A lot of things occur each day, every day.'\n",
    "word_count1 = txt.count('o')\n",
    "word_count2 = txt.count('day')\n",
    "word_count3 = txt.count(' ')\n",
    "print(word_count1)  # 3이 출력됨\n",
    "print(word_count2)  # 2가 출력됨\n",
    "print(word_count3)  # 8이 출력됨"
   ]
  },
  {
   "cell_type": "code",
   "execution_count": 36,
   "metadata": {},
   "outputs": [
    {
     "name": "stdout",
     "output_type": "stream",
     "text": [
      "True\n",
      "True\n",
      "False\n",
      "False\n"
     ]
    }
   ],
   "source": [
    "# 빈공간이 있으면 isalpha()의 결과를 False값을 리턴하다.\n",
    "txt1 = 'A'\n",
    "txt2 = '안녕'\n",
    "txt3 = 'Warcraft Three'\n",
    "txt4 = '3PO'\n",
    "ret1 = txt1.isalpha()\n",
    "ret2 = txt2.isalpha()\n",
    "ret3 = txt3.isalpha()\n",
    "ret4 = txt4.isalpha()\n",
    "print(ret1)        # True가 출력됨\n",
    "print(ret2)        # True가 출력됨\n",
    "print(ret3)        # False가 출력됨\n",
    "print(ret4)        # False가 출력됨"
   ]
  },
  {
   "cell_type": "code",
   "execution_count": 37,
   "metadata": {},
   "outputs": [
    {
     "name": "stdout",
     "output_type": "stream",
     "text": [
      "False\n",
      "False\n",
      "True\n"
     ]
    }
   ],
   "source": [
    "#숫자가 아님 False\n",
    "txt1 = '010-1234-5678'\n",
    "txt2 = 'R2D2'\n",
    "txt3 = '1212'\n",
    "ret1 = txt1.isdigit()\n",
    "ret2 = txt2.isdigit()\n",
    "ret3 = txt3.isdigit()\n",
    "print(ret1)      # False가 출력됨\n",
    "print(ret2)      # False가 출력됨\n",
    "print(ret3)      # True가 출력됨"
   ]
  },
  {
   "cell_type": "code",
   "execution_count": 38,
   "metadata": {},
   "outputs": [
    {
     "name": "stdout",
     "output_type": "stream",
     "text": [
      "False\n",
      "False\n",
      "True\n"
     ]
    }
   ],
   "source": [
    "txt1 = '안녕하세요?'\n",
    "txt2 = '1. Title-제목을 넣으세요'\n",
    "txt3 = '3피오R2D2'\n",
    "ret1 = txt1.isalnum()\n",
    "ret2 = txt2.isalnum ()\n",
    "ret3 = txt3.isalnum ()\n",
    "print(ret1)      # False가 출력됨\n",
    "print(ret2)      # False가 출력됨\n",
    "print(ret3)      # True가 출력됨"
   ]
  },
  {
   "cell_type": "code",
   "execution_count": 39,
   "metadata": {},
   "outputs": [
    {
     "name": "stdout",
     "output_type": "stream",
     "text": [
      "A LOT OF THINGS OCCUR EACH DAY.\n",
      "a lot of things occur each day.\n"
     ]
    }
   ],
   "source": [
    "txt = 'A lot of Things occur each day.'\n",
    "ret1 = txt.upper()\n",
    "ret2 = txt.lower()\n",
    "print(ret1)       # ‘A LOT OF THINGS OCCUR EACH DAY.’가 출력됨\n",
    "print(ret2)       # ‘a lot of things occur each day.’가 출력됨"
   ]
  },
  {
   "cell_type": "code",
   "execution_count": 40,
   "metadata": {},
   "outputs": [
    {
     "name": "stdout",
     "output_type": "stream",
     "text": [
      "<   양쪽에 공백이 있는 문자열입니다.   >\n",
      "<양쪽에 공백이 있는 문자열입니다.   >\n",
      "<   양쪽에 공백이 있는 문자열입니다.>\n",
      "<양쪽에 공백이 있는 문자열입니다.>\n"
     ]
    }
   ],
   "source": [
    "txt = '   양쪽에 공백이 있는 문자열입니다.   '\n",
    "ret1 = txt.lstrip()\n",
    "ret2 = txt.rstrip()\n",
    "ret3 = txt.strip()\n",
    "print('<'+txt+'>')\n",
    "print('<'+ret1+'>')\n",
    "print('<'+ret2+'>')\n",
    "print('<'+ret3+'>')"
   ]
  },
  {
   "cell_type": "code",
   "execution_count": 41,
   "metadata": {},
   "outputs": [
    {
     "name": "stdout",
     "output_type": "stream",
     "text": [
      "['http:', '', 'www.naver.com', 'news', 'today=20160831']\n",
      "name -> 홍길동\n",
      "age -> 17\n",
      "gender -> 남자\n",
      "nation -> 한국\n",
      "2016/08/26 10:12:11;200;OK;이 또한 지나가리라\n"
     ]
    }
   ],
   "source": [
    "# list = str.split() : 문자열에서 리스트로, 공백으로 구분 \n",
    "# ” “.join( list ) : 리스트에서 문자열으로\n",
    "\n",
    "a='Beautiful, is; better*than\\nugly'\n",
    "import re\n",
    "re.split('; |, |\\*|\\n',a)\n",
    "\n",
    "url = 'http://www.naver.com/news/today=20160831'\n",
    "log = 'name:홍길동 age:17 gender:남자 nation:한국'\n",
    " \n",
    "ret1 = url.split('/')\n",
    "print(ret1)\n",
    " \n",
    "ret2 = log.split()\n",
    "for data in ret2:\n",
    "   d1, d2 = data.split(':')\n",
    "   print('%s -> %s' %(d1, d2))\n",
    " \n",
    "\n",
    "loglist = ['2016/08/26 10:12:11', '200', 'OK', '이 또한 지나가리라']\n",
    "bond = ';'\n",
    "log = bond.join(loglist)\n",
    "print(log)"
   ]
  },
  {
   "cell_type": "code",
   "execution_count": 42,
   "metadata": {},
   "outputs": [
    {
     "name": "stdout",
     "output_type": "stream",
     "text": [
      "num1을 문자열로 변환한 값은 “1234” 입니다.\n",
      "num2를 문자열로 변환한 값은 “3.14” 입니다.\n"
     ]
    }
   ],
   "source": [
    "# 형변환\n",
    "num1 = 1234\n",
    "num2 = 3.14\n",
    " \n",
    "numstr1 = str(num1)\n",
    "numstr2 = str(num2)\n",
    "print('num1을 문자열로 변환한 값은 “%s” 입니다.' %numstr1)\n",
    "print('num2를 문자열로 변환한 값은 “%s” 입니다.' %numstr2)"
   ]
  },
  {
   "cell_type": "code",
   "execution_count": 45,
   "metadata": {},
   "outputs": [
    {
     "name": "stdout",
     "output_type": "stream",
     "text": [
      "숫자를 입력하세요: R45\n",
      "+++ 숫자를 입력하세요~ +++\n"
     ]
    }
   ],
   "source": [
    "#빈공간, 문자를 입력하면 예외에 걸려서 메세지 출력\n",
    "#정수나 실수를 입력하면 정수 또는 실수 출력\n",
    "numstr = input('숫자를 입력하세요: ')\n",
    "try:\n",
    "   num = int(numstr)\n",
    "   print('당신이 입력한 숫자는 정수 <%d>입니다.' %num)\n",
    "except:\n",
    "   try:\n",
    "      num = float(numstr)\n",
    "      print('당신이 입력한 숫자는 실수 <%f>입니다.' %num) \n",
    "   except:\n",
    "      print('+++ 숫자를 입력하세요~ +++')"
   ]
  },
  {
   "cell_type": "code",
   "execution_count": 48,
   "metadata": {},
   "outputs": [
    {
     "name": "stdout",
     "output_type": "stream",
     "text": [
      "\u0004\n",
      "65\n",
      "122\n",
      "8.0\n"
     ]
    }
   ],
   "source": [
    "print(chr(4))\n",
    "print(ord('A'))\n",
    "print(ord('z'))\n",
    "print(float(8))"
   ]
  },
  {
   "cell_type": "code",
   "execution_count": 50,
   "metadata": {},
   "outputs": [
    {
     "name": "stdout",
     "output_type": "stream",
     "text": [
      "\n",
      "\n"
     ]
    }
   ],
   "source": [
    "print(chr(10))"
   ]
  }
 ],
 "metadata": {
  "kernelspec": {
   "display_name": "pydata",
   "language": "python",
   "name": "pydata"
  },
  "language_info": {
   "codemirror_mode": {
    "name": "ipython",
    "version": 3
   },
   "file_extension": ".py",
   "mimetype": "text/x-python",
   "name": "python",
   "nbconvert_exporter": "python",
   "pygments_lexer": "ipython3",
   "version": "3.7.10"
  }
 },
 "nbformat": 4,
 "nbformat_minor": 4
}

{
 "cells": [
  {
   "cell_type": "code",
   "execution_count": 1,
   "metadata": {},
   "outputs": [
    {
     "name": "stdout",
     "output_type": "stream",
     "text": [
      "안녕하세요\n",
      "예외가 발생했습니다.\n"
     ]
    }
   ],
   "source": [
    "# 예외처리\n",
    "# python에서 예외는 문법적으로 문제가 없는 코드를 실행중에 발생하는 오류이다.\n",
    "\n",
    "# 예외처리를 위해 try~except 구문을 이용한다\n",
    "# 예외를 일으키기위해 raise문을 실행한다\n",
    "# 예외 class의 최상위는 BaseException 클래스이고, \n",
    "# BaseException의 자식클래스 Exception으로 모든 python 예외를 받을 수 있다.\n",
    "\n",
    "try:\n",
    "    print('안녕하세요')\n",
    "    print(param)\n",
    "except:\n",
    "    print('예외가 발생했습니다.')"
   ]
  },
  {
   "cell_type": "code",
   "execution_count": 2,
   "metadata": {},
   "outputs": [
    {
     "name": "stdout",
     "output_type": "stream",
     "text": [
      "예외가 발생했습니다.\n"
     ]
    }
   ],
   "source": [
    "try:\n",
    "    print(1/0)\n",
    "except:\n",
    "    print(\"예외가 발생했습니다.\")"
   ]
  },
  {
   "cell_type": "code",
   "execution_count": 3,
   "metadata": {},
   "outputs": [
    {
     "name": "stdout",
     "output_type": "stream",
     "text": [
      "2.6666666666666665\n",
      "You cannot divide by zero, try again\n"
     ]
    }
   ],
   "source": [
    "def divide_numbers(x, y):\n",
    "    try:\n",
    "            return x/y\n",
    "    except ZeroDivisionError:\n",
    "            return 'You cannot divide by zero, try again'\n",
    " \n",
    " \n",
    "# 8 나누기 3을 시도\n",
    "print(divide_numbers(8,3))\n",
    " \n",
    "# 8 나누기 0을 시도\n",
    "print(divide_numbers(8, 0))"
   ]
  },
  {
   "cell_type": "code",
   "execution_count": 4,
   "metadata": {},
   "outputs": [
    {
     "name": "stdout",
     "output_type": "stream",
     "text": [
      "안녕하세요.\n",
      "100\n",
      "예외가 발생하지 않았습니다.\n"
     ]
    }
   ],
   "source": [
    "# try-except-else\n",
    "# else는 선택사항임. \n",
    "# 아무런 예외가 발생하지 않을 경우에만 수행하여야 하는 작업과 같은 예외 처리 논리를\n",
    "# 다루기 위하여  else 절을 사용할 수 있다.\n",
    "try:\n",
    "   print('안녕하세요.')\n",
    "   param = 100\n",
    "   print(param)\n",
    "except:\n",
    "   print('예외가 발생했습니다!')\n",
    "else:\n",
    "   print('예외가 발생하지 않았습니다.')"
   ]
  },
  {
   "cell_type": "code",
   "execution_count": 6,
   "metadata": {},
   "outputs": [
    {
     "name": "stdout",
     "output_type": "stream",
     "text": [
      "Enter a number for the dividend: l\n",
      "Enter a number for the divisor: p\n",
      "You must enter a numeric value\n",
      "Retry and only use numeric values this time!\n"
     ]
    }
   ],
   "source": [
    "try:\n",
    "    try:\n",
    "        x=input('Enter a number for the dividend: ')\n",
    "        y=input('Enter a number for the divisor: ')\n",
    "        x = int(x)\n",
    "        y = int(y)\n",
    "    except ValueError:\n",
    "        print('You must enter a numeric value')\n",
    "    z= x/y\n",
    "except ZeroDivisionError: \n",
    "    print('You cannot divide by zero!')\n",
    "except TypeError:\n",
    "    print(\"Retry and only use numeric values this time!\")\n",
    "else:\n",
    "    print('Your quotient is: %d' %(z))"
   ]
  },
  {
   "cell_type": "code",
   "execution_count": 9,
   "metadata": {},
   "outputs": [
    {
     "name": "stdout",
     "output_type": "stream",
     "text": [
      "첨자를 입력하세요1:\n",
      "0\n",
      "0으로 나눌 수 없습니다.\n"
     ]
    }
   ],
   "source": [
    "# 복수개의 except절\n",
    " \n",
    "my_list = [1, 2, 3]\n",
    " \n",
    "try:\n",
    "    print(\"첨자를 입력하세요1:\")\n",
    "    index = int(input())\n",
    "    print(my_list[index]/0)\n",
    "except ZeroDivisionError:\n",
    "    print(\"0으로 나눌 수 없습니다.\")\n",
    "except IndexError:\n",
    "    print(\"잘못된 첨자입니다.\")"
   ]
  },
  {
   "cell_type": "code",
   "execution_count": 17,
   "metadata": {},
   "outputs": [
    {
     "name": "stdout",
     "output_type": "stream",
     "text": [
      "첨자를 입력하세요2:\n",
      "[3,4]\n",
      "숫자가 아닌 입력값을 받을 수 없습니다. (invalid literal for int() with base 10: '[3,4]')\n"
     ]
    }
   ],
   "source": [
    "# as로 예외형식을 받아온다.\n",
    " \n",
    "my_list = [1, 2, 3]\n",
    " \n",
    "try:\n",
    "    print(\"첨자를 입력하세요2:\")\n",
    "    index = int(input())\n",
    "    print(my_list[index]/0)\n",
    "except ZeroDivisionError as err:\n",
    "    print(\"0으로 나눌 수 없습니다. ({0})\".format(err))\n",
    "except IndexError as err:\n",
    "    print(\"잘못된 첨자입니다. ({0})\".format(err))\n",
    "except TypeError as err:\n",
    "    print(\"입력하신 자료형이 틀립니다. ({0})\".format(err))\n",
    "except ValueError as err:\n",
    "    print(\"숫자가 아닌 입력값을 받을 수 없습니다. ({0})\".format(err))\n"
   ]
  },
  {
   "cell_type": "code",
   "execution_count": 18,
   "metadata": {},
   "outputs": [
    {
     "name": "stdout",
     "output_type": "stream",
     "text": [
      "첨자를 입력하세요3:\n",
      "y\n",
      "예외가 발생했습니다.(invalid literal for int() with base 10: 'y')\n"
     ]
    }
   ],
   "source": [
    "#Exception 클래스는 모든 예외를 다 받을 수 있다.\n",
    " \n",
    "my_list = [1, 2, 3]\n",
    " \n",
    "try:\n",
    "    print(\"첨자를 입력하세요3:\")\n",
    "    index = int(input())\n",
    "    print(my_list[index]/0)\n",
    "except ZeroDivisionError as err:\n",
    "    print(\"0으로 나눌 수 없습니다. ({0})\".format(err))\n",
    "except Exception as err :\n",
    "    print(\"예외가 발생했습니다.({0})\".format(err))"
   ]
  },
  {
   "cell_type": "code",
   "execution_count": 19,
   "metadata": {},
   "outputs": [
    {
     "name": "stdout",
     "output_type": "stream",
     "text": [
      "첨자를 입력하세요:\n",
      "o\n",
      "예외가 발생했습니다 (invalid literal for int() with base 10: 'o')\n",
      "어떤 일이 있어도 마무리합니다.\n"
     ]
    }
   ],
   "source": [
    "#else는 except절을 만나지 않으면 실행되는 블럭이고, finally는 무조건 실행되는 블럭이다.\n",
    " \n",
    "my_list = [1, 2, 3]\n",
    " \n",
    "try:\n",
    "    print(\"첨자를 입력하세요:\")\n",
    "    index = int(input())\n",
    "    print(\"my_list[{0}]: {1}\".format(index, my_list[index]))\n",
    "except Exception as err:\n",
    "    print(\"예외가 발생했습니다 ({0})\".format(err))\n",
    "else:\n",
    "    print(\"리스트의 요소 출력에 성공했습니다.\")\n",
    "finally:\n",
    "    print(\"어떤 일이 있어도 마무리합니다.\")"
   ]
  },
  {
   "cell_type": "code",
   "execution_count": 22,
   "metadata": {},
   "outputs": [
    {
     "name": "stdout",
     "output_type": "stream",
     "text": [
      "1~10 사이의 수를 입력하세요:\n",
      "100\n",
      "예외가 발생했습니다. 유효하지 않은 숫자입니다.: 100\n"
     ]
    }
   ],
   "source": [
    "# 예외 일으키기 (raise)\n",
    "def some_function():\n",
    "    print(\"1~10 사이의 수를 입력하세요:\")\n",
    "    num = int(input())\n",
    "    if num < 1 or num > 10:\n",
    "        raise Exception(\"유효하지 않은 숫자입니다.: {0}\".format(num))\n",
    "    else:\n",
    "        print(\"입력한 수는 {0}입니다.\".format(num))\n",
    "try:\n",
    "    some_function()\n",
    "except Exception as err:\n",
    "    print(\"예외가 발생했습니다. {0}\".format(err))"
   ]
  },
  {
   "cell_type": "code",
   "execution_count": 29,
   "metadata": {},
   "outputs": [
    {
     "name": "stdout",
     "output_type": "stream",
     "text": [
      "1~10 사이의 수를 입력하세요:\n",
      "k\n",
      "1) 예외가 발생했습니다. invalid literal for int() with base 10: 'k'\n",
      "2) 예외가 발생했습니다. invalid literal for int() with base 10: 'k'\n"
     ]
    }
   ],
   "source": [
    "def some_function2():\n",
    "    print(\"1~10 사이의 수를 입력하세요:\")\n",
    "    num = int(input())\n",
    "    if num < 1 or num > 10:\n",
    "        raise ValueError(\"유효하지 않은 숫자입니다.: {0}\".format(num))\n",
    "    else:\n",
    "        print(\"입력한 수는 {0}입니다.\".format(num))\n",
    "def some_function_caller():\n",
    "    try:\n",
    "        some_function2()\n",
    "    except ValueError as err:\n",
    "        print(\"1) 예외가 발생했습니다. {0}\".format(err))\n",
    "        raise \n",
    "try:\n",
    "    some_function_caller()\n",
    "except ValueError as err:\n",
    "    print(\"2) 예외가 발생했습니다. {0}\".format(err))"
   ]
  },
  {
   "cell_type": "code",
   "execution_count": 30,
   "metadata": {},
   "outputs": [
    {
     "name": "stdout",
     "output_type": "stream",
     "text": [
      "1~10 사이의 수를 입력하세요:\n",
      "o\n",
      "1) 예외가 발생했습니다. invalid literal for int() with base 10: 'o'\n",
      "2) 예외가 발생했습니다. invalid literal for int() with base 10: 'o'\n"
     ]
    }
   ],
   "source": [
    "def some_function2():\n",
    "    print(\"1~10 사이의 수를 입력하세요:\")\n",
    "    num = int(input())\n",
    "    if num < 1 or num > 10:\n",
    "        raise Exception(\"유효하지 않은 숫자입니다.: {0}\".format(num))\n",
    "    else:\n",
    "        print(\"입력한 수는 {0}입니다.\".format(num))\n",
    " \n",
    "def some_function_caller():\n",
    "    try:\n",
    "        some_function2()\n",
    "    except Exception as err:\n",
    "        print(\"1) 예외가 발생했습니다. {0}\".format(err))\n",
    "        raise \n",
    " \n",
    "try:\n",
    "    some_function_caller()\n",
    "except Exception as err:\n",
    "    print(\"2) 예외가 발생했습니다. {0}\".format(err))"
   ]
  },
  {
   "cell_type": "code",
   "execution_count": null,
   "metadata": {},
   "outputs": [],
   "source": []
  }
 ],
 "metadata": {
  "kernelspec": {
   "display_name": "pydata",
   "language": "python",
   "name": "pydata"
  },
  "language_info": {
   "codemirror_mode": {
    "name": "ipython",
    "version": 3
   },
   "file_extension": ".py",
   "mimetype": "text/x-python",
   "name": "python",
   "nbconvert_exporter": "python",
   "pygments_lexer": "ipython3",
   "version": "3.7.10"
  }
 },
 "nbformat": 4,
 "nbformat_minor": 4
}

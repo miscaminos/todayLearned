{
 "cells": [
  {
   "cell_type": "code",
   "execution_count": 1,
   "metadata": {},
   "outputs": [
    {
     "name": "stdout",
     "output_type": "stream",
     "text": [
      "Writing myMath.py\n"
     ]
    }
   ],
   "source": [
    "# 모듈 만들기\n",
    "%%writefile myMath.py\n",
    "'''모듈을 작성합니다.\n",
    "    pi변수와 두개의 함수가 있습니다.\n",
    "'''\n",
    "pi=3.14\n",
    "\n",
    "def oneHapN(end):    # 1부터 N까지의 합을 구해주는 함수\n",
    "    sum=0\n",
    "    for i in range(end):\n",
    "        sum += i+1\n",
    "    return sum\n",
    "\n",
    "def oneGopN(end):    # 1부터 N까지의 곱을 구해주는 함수\n",
    "    total = 1\n",
    "    for i in range(end):\n",
    "        total *= i+1\n",
    "    return total"
   ]
  },
  {
   "cell_type": "code",
   "execution_count": 2,
   "metadata": {},
   "outputs": [],
   "source": [
    "# 독립적으로 작성할 수 있는부분이 언어별로 어떻게 다른가?\n",
    "# Java: method는 class안에서 작성되어야한다. \n",
    "# C: 함수를 작성\n",
    "# Python: method(함수)와 class 모두 독립적으로 작성할 수 있다."
   ]
  },
  {
   "cell_type": "code",
   "execution_count": 3,
   "metadata": {},
   "outputs": [],
   "source": [
    "import myMath"
   ]
  },
  {
   "cell_type": "code",
   "execution_count": 4,
   "metadata": {},
   "outputs": [
    {
     "name": "stdout",
     "output_type": "stream",
     "text": [
      "모듈을 작성합니다.\n",
      "    pi변수와 두개의 함수가 있습니다.\n",
      "\n"
     ]
    }
   ],
   "source": [
    "print(myMath.__doc__)"
   ]
  },
  {
   "cell_type": "code",
   "execution_count": 5,
   "metadata": {},
   "outputs": [
    {
     "data": {
      "text/plain": [
       "3.14"
      ]
     },
     "execution_count": 5,
     "metadata": {},
     "output_type": "execute_result"
    }
   ],
   "source": [
    "myMath.pi"
   ]
  },
  {
   "cell_type": "code",
   "execution_count": 7,
   "metadata": {},
   "outputs": [
    {
     "data": {
      "text/plain": [
       "3.141592653589793"
      ]
     },
     "execution_count": 7,
     "metadata": {},
     "output_type": "execute_result"
    }
   ],
   "source": [
    "import math\n",
    "#math라는 모듈에서 pi를 가져올수 있다.\n",
    "math.pi"
   ]
  },
  {
   "cell_type": "code",
   "execution_count": 9,
   "metadata": {},
   "outputs": [
    {
     "name": "stdout",
     "output_type": "stream",
     "text": [
      "Overwriting first.py\n"
     ]
    }
   ],
   "source": [
    "%%writefile first.py\n",
    "'''내가 만든 모듈입니다.\n",
    "    내부에는 변수와 함수가 하나씩 있습니다\n",
    "'''\n",
    "print(__name__) #직접실행하면 __main__ 출력. import되어 실행되면 모듈명 출력\n",
    "\n",
    "first_value = 100\n",
    "\n",
    "def first_func(x,y):\n",
    "    return x+y\n",
    "\n",
    "# 즉, 내가 직접 실행한다면,\n",
    "if __name__=='__main__':\n",
    "    print()\n",
    "    print(__doc__)\n",
    "    print(\"first_value\",first_value)\n",
    "    print(\"first_func\",first_func(1,5))"
   ]
  },
  {
   "cell_type": "code",
   "execution_count": 10,
   "metadata": {},
   "outputs": [
    {
     "name": "stdout",
     "output_type": "stream",
     "text": [
      "__main__\n",
      "\n",
      "내가 만든 모듈입니다.\n",
      "    내부에는 변수와 함수가 하나씩 있습니다\n",
      "\n",
      "first_value 100\n",
      "first_func 6\n"
     ]
    }
   ],
   "source": [
    "%run first.py #직접실행"
   ]
  },
  {
   "cell_type": "code",
   "execution_count": 11,
   "metadata": {},
   "outputs": [
    {
     "name": "stdout",
     "output_type": "stream",
     "text": [
      "first\n"
     ]
    }
   ],
   "source": [
    "import first #import해서 실행"
   ]
  },
  {
   "cell_type": "code",
   "execution_count": 13,
   "metadata": {},
   "outputs": [
    {
     "name": "stdout",
     "output_type": "stream",
     "text": [
      "100\n"
     ]
    }
   ],
   "source": [
    "print(first.first_value)"
   ]
  },
  {
   "cell_type": "code",
   "execution_count": 14,
   "metadata": {},
   "outputs": [
    {
     "data": {
      "text/plain": [
       "30"
      ]
     },
     "execution_count": 14,
     "metadata": {},
     "output_type": "execute_result"
    }
   ],
   "source": [
    "first.first_func(10,20)"
   ]
  },
  {
   "cell_type": "code",
   "execution_count": 16,
   "metadata": {},
   "outputs": [
    {
     "name": "stdout",
     "output_type": "stream",
     "text": [
      "내가 만든 모듈입니다.\n",
      "    내부에는 변수와 함수가 하나씩 있습니다\n",
      "\n"
     ]
    }
   ],
   "source": [
    "print(__doc__)"
   ]
  },
  {
   "cell_type": "code",
   "execution_count": 17,
   "metadata": {},
   "outputs": [],
   "source": [
    "# 모듈 import \n",
    "import myMath as my"
   ]
  },
  {
   "cell_type": "code",
   "execution_count": 18,
   "metadata": {},
   "outputs": [
    {
     "data": {
      "text/plain": [
       "3.14"
      ]
     },
     "execution_count": 18,
     "metadata": {},
     "output_type": "execute_result"
    }
   ],
   "source": [
    "my.pi"
   ]
  },
  {
   "cell_type": "code",
   "execution_count": 20,
   "metadata": {},
   "outputs": [
    {
     "data": {
      "text/plain": [
       "6"
      ]
     },
     "execution_count": 20,
     "metadata": {},
     "output_type": "execute_result"
    }
   ],
   "source": [
    "my.oneGopN(3)"
   ]
  },
  {
   "cell_type": "code",
   "execution_count": 23,
   "metadata": {},
   "outputs": [],
   "source": [
    "# myMath 모듈에서 pi변수와 oneHapN함수만 가져온다. \n",
    "\n",
    "from myMath import pi, oneHapN"
   ]
  },
  {
   "cell_type": "code",
   "execution_count": 24,
   "metadata": {},
   "outputs": [
    {
     "name": "stdout",
     "output_type": "stream",
     "text": [
      "3.14\n",
      "1부터 10까지의 합: 55\n"
     ]
    }
   ],
   "source": [
    "# from 과 import를 사용하면 모듈명.변수, 모듈명.함수로 호출하지 않고\n",
    "#   바로 변수명, 함수명으로 사용할 수 있다.\n",
    "print(pi)\n",
    "print('1부터 10까지의 합:', oneHapN(10))"
   ]
  },
  {
   "cell_type": "code",
   "execution_count": 25,
   "metadata": {},
   "outputs": [
    {
     "name": "stdout",
     "output_type": "stream",
     "text": [
      "1부터 10까지의 곱: 3628800\n"
     ]
    }
   ],
   "source": [
    "# 미리 import하지 않은 변수/함수는 모듈명과 함께 호출하면됨.\n",
    "print('1부터 10까지의 곱:', myMath.oneGopN(10)) #모듈명.함수로 호출하면 에러 안남"
   ]
  },
  {
   "cell_type": "code",
   "execution_count": 29,
   "metadata": {},
   "outputs": [
    {
     "name": "stdout",
     "output_type": "stream",
     "text": [
      "3.14\n",
      "1부터 10까지의 합: 55\n",
      "1부터 10까지의 곱: 3628800\n"
     ]
    }
   ],
   "source": [
    "# *의미가 모두의 뜻이므로 myMath 모듈의 모든 변수 함수를 가져온다.\n",
    "from myMath import *\n",
    "print(pi)\n",
    " \n",
    "print('1부터 10까지의 합:', oneHapN(10))\n",
    "print('1부터 10까지의 곱:', oneGopN(10)) "
   ]
  },
  {
   "cell_type": "code",
   "execution_count": 28,
   "metadata": {},
   "outputs": [
    {
     "name": "stdout",
     "output_type": "stream",
     "text": [
      "3.14\n"
     ]
    }
   ],
   "source": [
    "#서로 다른 모듈의 변수이름이 같을경우 나중에 인포트한 변수가 앞에서 인포트한\n",
    "#  변수를 대체한다(덮어쓰기) \n",
    "from math import *  #math.pi = 3.141592653589793 \n",
    "from myMath import pi #myMath.pi = 3.14\n",
    " \n",
    "print(pi)"
   ]
  },
  {
   "cell_type": "code",
   "execution_count": 30,
   "metadata": {},
   "outputs": [
    {
     "data": {
      "text/plain": [
       "35"
      ]
     },
     "execution_count": 30,
     "metadata": {},
     "output_type": "execute_result"
    }
   ],
   "source": [
    "import keyword\n",
    "len(keyword.kwlist)"
   ]
  },
  {
   "cell_type": "code",
   "execution_count": 31,
   "metadata": {},
   "outputs": [
    {
     "data": {
      "text/plain": [
       "['False',\n",
       " 'None',\n",
       " 'True',\n",
       " 'and',\n",
       " 'as',\n",
       " 'assert',\n",
       " 'async',\n",
       " 'await',\n",
       " 'break',\n",
       " 'class',\n",
       " 'continue',\n",
       " 'def',\n",
       " 'del',\n",
       " 'elif',\n",
       " 'else',\n",
       " 'except',\n",
       " 'finally']"
      ]
     },
     "execution_count": 31,
     "metadata": {},
     "output_type": "execute_result"
    }
   ],
   "source": [
    "keyword.kwlist[:17] #0번째부터 16번째까지 키워드 확인"
   ]
  },
  {
   "cell_type": "code",
   "execution_count": 1,
   "metadata": {},
   "outputs": [
    {
     "name": "stdout",
     "output_type": "stream",
     "text": [
      "20 11 1 18 26 35 "
     ]
    }
   ],
   "source": [
    "# random 모듈\n",
    "import random\n",
    "\n",
    "#1포함 45바로전까지 (1~44)숫자중 랜덤으로 선정\n",
    "for i in range(6):\n",
    "    number = random.randint(1,45)\n",
    "    print(number, end=\" \")"
   ]
  },
  {
   "cell_type": "code",
   "execution_count": 14,
   "metadata": {},
   "outputs": [
    {
     "name": "stdout",
     "output_type": "stream",
     "text": [
      "['A', '2', '3', '4', '5', '6', '7', '8', '9', '10', 'J', 'Q', 'K']\n",
      "['K', '2', 'A', '6', '4', 'J', 'Q', '8', '5', '3', '9', '7', '10']\n",
      "A\n"
     ]
    }
   ],
   "source": [
    "card = ['A', '2', '3', '4', '5', '6', '7', '8', '9', '10', 'J', 'Q', 'K']\n",
    "print(card)\n",
    "# shuffle()은 list 값을 무작위로 섞어준다.\n",
    "random.shuffle(card)\n",
    "print(card)\n",
    "# choice()는 무작위로 하나를 선택해준다.\n",
    "print(random.choice(card))"
   ]
  },
  {
   "cell_type": "code",
   "execution_count": 10,
   "metadata": {},
   "outputs": [
    {
     "name": "stdout",
     "output_type": "stream",
     "text": [
      "['i', 'n', 'e']\n"
     ]
    }
   ],
   "source": [
    "myStr = \"최고의 영화 - inside out\"\n",
    "print(random.sample(myStr,3))"
   ]
  },
  {
   "cell_type": "code",
   "execution_count": 11,
   "metadata": {},
   "outputs": [
    {
     "name": "stdout",
     "output_type": "stream",
     "text": [
      "[7, 10, 14, 23, 32, 41]\n"
     ]
    }
   ],
   "source": [
    "myList = random.sample(range(1,46), 6)\n",
    "myList.sort()\n",
    "print(myList)"
   ]
  },
  {
   "cell_type": "code",
   "execution_count": 7,
   "metadata": {},
   "outputs": [
    {
     "name": "stdout",
     "output_type": "stream",
     "text": [
      "0.04203327765994824\n"
     ]
    }
   ],
   "source": [
    "myNum = random.random()\n",
    "print(myNum)"
   ]
  },
  {
   "cell_type": "code",
   "execution_count": 8,
   "metadata": {},
   "outputs": [
    {
     "data": {
      "text/plain": [
       "5.062974282673353"
      ]
     },
     "execution_count": 8,
     "metadata": {},
     "output_type": "execute_result"
    }
   ],
   "source": [
    "random.uniform(0,10)"
   ]
  },
  {
   "cell_type": "code",
   "execution_count": 9,
   "metadata": {},
   "outputs": [
    {
     "data": {
      "text/plain": [
       "0.22628118359862537"
      ]
     },
     "execution_count": 9,
     "metadata": {},
     "output_type": "execute_result"
    }
   ],
   "source": [
    "random.random()"
   ]
  },
  {
   "cell_type": "code",
   "execution_count": 10,
   "metadata": {},
   "outputs": [],
   "source": [
    "# time 모듈\n",
    "import time"
   ]
  },
  {
   "cell_type": "code",
   "execution_count": 11,
   "metadata": {},
   "outputs": [
    {
     "name": "stdout",
     "output_type": "stream",
     "text": [
      "현재시각: 1617841772.597253\n"
     ]
    }
   ],
   "source": [
    "print('현재시각:',time.time())\n",
    "#현재 시간을 1970년 1월 1일 00시 00분 00초 이후부터 지금까지의\n",
    "# 초 단위로 알려준다. 이것 자체로는 유용하지 않다."
   ]
  },
  {
   "cell_type": "code",
   "execution_count": 12,
   "metadata": {},
   "outputs": [
    {
     "name": "stdout",
     "output_type": "stream",
     "text": [
      "숫자를 입력하세요: 100000\n",
      "0.004910707473754883 초 경과\n"
     ]
    }
   ],
   "source": [
    "# 주로 프로그램 수행시간을 확인하기위해 사용됨\n",
    "def manyloop(max):\n",
    "    t1 = time.time() #함수 시작시간 초단위\n",
    "    for a in range(max):\n",
    "        pass\n",
    "    t2 = time.time() #함수 끝날때 시간 초단위\n",
    "    print(t2-t1, '초 경과') #함수 실행 시간 획득\n",
    "    \n",
    "number = int(input('숫자를 입력하세요: '))\n",
    "manyloop(number)"
   ]
  },
  {
   "cell_type": "code",
   "execution_count": 13,
   "metadata": {},
   "outputs": [],
   "source": [
    "# 현재시간"
   ]
  },
  {
   "cell_type": "code",
   "execution_count": 14,
   "metadata": {},
   "outputs": [
    {
     "name": "stdout",
     "output_type": "stream",
     "text": [
      "Thu Apr  8 09:35:21 2021\n"
     ]
    }
   ],
   "source": [
    "current = time.ctime() #현재 시간정보\n",
    "print(current)"
   ]
  },
  {
   "cell_type": "code",
   "execution_count": 15,
   "metadata": {},
   "outputs": [
    {
     "name": "stdout",
     "output_type": "stream",
     "text": [
      "Thu\n",
      "Apr\n",
      "\n",
      "8\n",
      "09:35:21\n",
      "2021\n"
     ]
    }
   ],
   "source": [
    "#공백으로 분리해서 시간정보 분리값 획득\n",
    "list_cur = current.split(' ')\n",
    " \n",
    "for t in list_cur:\n",
    "    print(t)"
   ]
  },
  {
   "cell_type": "code",
   "execution_count": 16,
   "metadata": {},
   "outputs": [
    {
     "name": "stdout",
     "output_type": "stream",
     "text": [
      "Thu Apr  8 09:40:38 2021\n",
      "Thu Apr  8 09:40:39 2021\n",
      "Thu Apr  8 09:40:40 2021\n",
      "Thu Apr  8 09:40:41 2021\n",
      "Thu Apr  8 09:40:42 2021\n",
      "Thu Apr  8 09:40:43 2021\n"
     ]
    }
   ],
   "source": [
    "for t in range(6): #0~5번까지 반복\n",
    "    print(time.ctime()) #현재 시간정보를 출력\n",
    "    time.sleep(1) #1초동안 딜레이 된다."
   ]
  },
  {
   "cell_type": "code",
   "execution_count": 17,
   "metadata": {},
   "outputs": [],
   "source": [
    "# datetime 모듈\n",
    "# 이 모듈은 time모듈에 date 모듈을 합친 모듈이다.\n",
    "# 날짜와 시간을 모두 다루고 있다.\n",
    "# datetime.now()를 이용해서 현재 시간을 구할 수 있다.\n",
    "\n",
    "import datetime"
   ]
  },
  {
   "cell_type": "code",
   "execution_count": 19,
   "metadata": {},
   "outputs": [
    {
     "name": "stdout",
     "output_type": "stream",
     "text": [
      "2021-04-08 09:43:47.419734\n"
     ]
    }
   ],
   "source": [
    "d = datetime.datetime.now() #현재시간\n",
    "print(d)"
   ]
  },
  {
   "cell_type": "code",
   "execution_count": 20,
   "metadata": {},
   "outputs": [
    {
     "name": "stdout",
     "output_type": "stream",
     "text": [
      "2021/4/8\n"
     ]
    }
   ],
   "source": [
    "print(d.year, d.month, d.day, sep='/') #얻은 객체로 년,월,일을 얻을 수 있다."
   ]
  },
  {
   "cell_type": "code",
   "execution_count": 21,
   "metadata": {},
   "outputs": [
    {
     "name": "stdout",
     "output_type": "stream",
     "text": [
      "9:43:47:419734\n"
     ]
    }
   ],
   "source": [
    "print(d.hour, d.minute, d.second, d.microsecond, sep=':')#시간,분,초,마이크로초 획득"
   ]
  },
  {
   "cell_type": "code",
   "execution_count": 22,
   "metadata": {},
   "outputs": [
    {
     "name": "stdout",
     "output_type": "stream",
     "text": [
      "3\n"
     ]
    }
   ],
   "source": [
    "print(d.weekday()) #요일을 알려준다."
   ]
  },
  {
   "cell_type": "code",
   "execution_count": 23,
   "metadata": {},
   "outputs": [],
   "source": [
    "####################################################################################\n",
    "# 파일 입출력\n",
    "# - 컴퓨터가 문자열을 처리할때는 텍스트와 바이트 단위로 처리한다.\n",
    "# - 파이썬도 문자열을 처리하기 위해서 유니코드와 바이트로 처리한다.\n",
    "# - 텍스트를 기준으로 파일을 처리하면 유니코드 문자열로 처리해야 한다.\n",
    "# - 바이트를 기준으로 파일을 처리할때는 영어 알파벳기준인 바이트 단위로 처리한다.\n",
    "\n",
    "# - 파일도 하나의 클래스 이므로 open()를 호출하면 객체가 만들어진다.\n",
    "# - open()함수는 파일명과, 파일의 상태를 표시한 모드를 인자로 가진다.\n",
    "\n",
    "# mode는 파일의 상태를 표시한다. 혼합해서 사용 가능\n",
    "# binary file을 쓰기 모드로 열고 싶으면 mode에 'bw', 'wb'를 입력한다.\n",
    "\n",
    "# mode에 아무것도 쓰지 않으면 ‘rt’와 같은 기능을 한다. \n",
    "# 즉, 읽기 모드이면서 텍스트 모드로 파일을 연다.\n",
    "# mode에 ‘w’만 입력하면 ‘wt’모드로 파일을 연다.\n",
    "\n",
    "# mode - 의미\n",
    "# r: 파일 읽기모드로 열기\n",
    "# w: 쓰기 모드로 파일 열기, 같은 이름의 파일이 있으면 기존 내용 삭제\n",
    "# x: 쓰기 모드로 파일 열기, 같은 이름의 파일이 있으면 오류발생\n",
    "# a: 추가 모드로 파일 열기\n",
    "# b: binary파일 모드로 파일 열기\n",
    "# t: text파일 모드로 파일 열기. 지정하지 않으면 보통 text 모드로 지정됨"
   ]
  },
  {
   "cell_type": "code",
   "execution_count": 24,
   "metadata": {},
   "outputs": [],
   "source": [
    "# 파일에 데이터 쓰기\n",
    "# open()에 저장할 파일 명, mode의 w, wb, wt를 사용하여 데이터를 저장한다.\n",
    "\n",
    "f = open('C:/pywork/myfile.txt','w')"
   ]
  },
  {
   "cell_type": "code",
   "execution_count": 25,
   "metadata": {},
   "outputs": [
    {
     "data": {
      "text/plain": [
       "18"
      ]
     },
     "execution_count": 25,
     "metadata": {},
     "output_type": "execute_result"
    }
   ],
   "source": [
    "f.write('파일을 열었으니 데이터를 저장하자')"
   ]
  },
  {
   "cell_type": "code",
   "execution_count": 37,
   "metadata": {},
   "outputs": [],
   "source": [
    "f.close()"
   ]
  },
  {
   "cell_type": "code",
   "execution_count": 36,
   "metadata": {},
   "outputs": [],
   "source": [
    "f2 = open('C:/pywork/myfile2.txt','w')\n",
    "f3 = open('C:/pywork/myfile3.txt','x')"
   ]
  },
  {
   "cell_type": "code",
   "execution_count": 38,
   "metadata": {},
   "outputs": [
    {
     "data": {
      "text/plain": [
       "19"
      ]
     },
     "execution_count": 38,
     "metadata": {},
     "output_type": "execute_result"
    }
   ],
   "source": [
    "f2.write(\"the second text file\")\n",
    "f3.write(\"the third text file\")"
   ]
  },
  {
   "cell_type": "code",
   "execution_count": 39,
   "metadata": {},
   "outputs": [],
   "source": [
    "f2.close()\n",
    "f3.close()"
   ]
  },
  {
   "cell_type": "code",
   "execution_count": 40,
   "metadata": {},
   "outputs": [],
   "source": [
    "s=\"\"\"\n",
    "라인1\n",
    "라인2\n",
    "라인3\n",
    "\"\"\""
   ]
  },
  {
   "cell_type": "code",
   "execution_count": 41,
   "metadata": {},
   "outputs": [
    {
     "data": {
      "text/plain": [
       "'\\n라인1\\n라인2\\n라인3\\n'"
      ]
     },
     "execution_count": 41,
     "metadata": {},
     "output_type": "execute_result"
    }
   ],
   "source": [
    "s"
   ]
  },
  {
   "cell_type": "code",
   "execution_count": 42,
   "metadata": {},
   "outputs": [],
   "source": [
    "s2 = [\"첫번째\\n\",\"두번째\\n\",\"세번째\\n\"]"
   ]
  },
  {
   "cell_type": "code",
   "execution_count": 43,
   "metadata": {},
   "outputs": [],
   "source": [
    "f = open(\"./files/data.txt\",\"x\",encoding='utf-8')"
   ]
  },
  {
   "cell_type": "code",
   "execution_count": 44,
   "metadata": {},
   "outputs": [],
   "source": [
    "f.writelines(s2)"
   ]
  },
  {
   "cell_type": "code",
   "execution_count": 45,
   "metadata": {},
   "outputs": [],
   "source": [
    "f.close()"
   ]
  },
  {
   "cell_type": "code",
   "execution_count": 46,
   "metadata": {},
   "outputs": [],
   "source": [
    "f = open('./files/myfile.txt','w',encoding=\"utf-8\")\n",
    "poem=\"\"\"\n",
    "I met a superhero\n",
    "I lost her\n",
    "I want her back\n",
    "She did things to me that no one else could've\n",
    "I miss that\n",
    "I miss that\n",
    "\"\"\"\n",
    "\n",
    "f.write(poem)\n",
    "f.close()"
   ]
  },
  {
   "cell_type": "code",
   "execution_count": 48,
   "metadata": {},
   "outputs": [],
   "source": [
    "# 파일 읽어오기\n",
    "# readline() 사용\n",
    "f=open('./files/myfile.txt','r',encoding=\"utf-8\")"
   ]
  },
  {
   "cell_type": "code",
   "execution_count": 49,
   "metadata": {},
   "outputs": [
    {
     "name": "stdout",
     "output_type": "stream",
     "text": [
      "\n",
      "\n",
      "I met a superhero\n",
      "\n",
      "I lost her\n",
      "\n",
      "I want her back\n",
      "\n",
      "She did things to me that no one else could've\n",
      "\n",
      "I miss that\n",
      "\n",
      "I miss that\n",
      "\n"
     ]
    }
   ],
   "source": [
    "while True:\n",
    "    sentence = f.readline()\n",
    "    if not sentence:\n",
    "        break\n",
    "    print(sentence)\n",
    "f.close()"
   ]
  },
  {
   "cell_type": "code",
   "execution_count": 51,
   "metadata": {},
   "outputs": [
    {
     "name": "stdout",
     "output_type": "stream",
     "text": [
      "['\\n', 'I met a superhero\\n', 'I lost her\\n', 'I want her back\\n', \"She did things to me that no one else could've\\n\", 'I miss that\\n', 'I miss that\\n']\n",
      "\n",
      "\n",
      "I met a superhero\n",
      "\n",
      "I lost her\n",
      "\n",
      "I want her back\n",
      "\n",
      "She did things to me that no one else could've\n",
      "\n",
      "I miss that\n",
      "\n",
      "I miss that\n",
      "\n"
     ]
    }
   ],
   "source": [
    "# readlines() 사용\n",
    "f = open('./files/myfile.txt', 'r', encoding=\"utf-8\")\n",
    " \n",
    "all = f.readlines()\n",
    " \n",
    "print(all)\n",
    " \n",
    "for sentence in all:\n",
    "    print(sentence)\n",
    " \n",
    "f.close()"
   ]
  },
  {
   "cell_type": "code",
   "execution_count": 54,
   "metadata": {},
   "outputs": [
    {
     "name": "stdout",
     "output_type": "stream",
     "text": [
      "\n",
      "I met a superhero\n",
      "I lost her\n",
      "I want her back\n",
      "She did things to me that no one else could've\n",
      "I miss that\n",
      "I miss that\n",
      "\n"
     ]
    }
   ],
   "source": [
    "# read() 사용\n",
    "f = open('./files/myfile.txt', 'r', encoding=\"utf-8\")\n",
    " \n",
    "string = f.read()\n",
    " \n",
    "print(string)\n",
    " \n",
    "f.close()"
   ]
  },
  {
   "cell_type": "code",
   "execution_count": 55,
   "metadata": {},
   "outputs": [
    {
     "name": "stdout",
     "output_type": "stream",
     "text": [
      "\n",
      "I met a superhero\n",
      "I lost her\n",
      "I want her back\n",
      "She did things to me that no one else could've\n",
      "I miss that\n",
      "I miss that\n"
     ]
    }
   ],
   "source": [
    "f = open('./files/myfile.txt', 'r', encoding=\"utf-8\")\n",
    " \n",
    "for line in f:\n",
    "    print(line, end=\"\") #end=\"\"  개행문자 두 번실행되지 않는다.\n",
    " \n",
    "f.close()"
   ]
  },
  {
   "cell_type": "code",
   "execution_count": 52,
   "metadata": {},
   "outputs": [],
   "source": [
    "fr = open(\"C:/pywork/data2.txt\",\"x\",encoding='utf-8')"
   ]
  },
  {
   "cell_type": "code",
   "execution_count": 58,
   "metadata": {},
   "outputs": [],
   "source": [
    "fr.writelines(s2)"
   ]
  },
  {
   "cell_type": "code",
   "execution_count": 59,
   "metadata": {},
   "outputs": [],
   "source": [
    "fr.close()"
   ]
  },
  {
   "cell_type": "code",
   "execution_count": 60,
   "metadata": {},
   "outputs": [
    {
     "name": "stdout",
     "output_type": "stream",
     "text": [
      "\n",
      "라인1\n",
      "라인2\n",
      "라인3\n",
      "첫번째\n",
      "두번째\n",
      "세번째\n"
     ]
    }
   ],
   "source": [
    "#파일 객체로 데이터 읽기\n",
    "fr=open(\"c:/pywork/data2.txt\",\"r\",encoding='utf-8')\n",
    "for i in fr:\n",
    "    print(i, end=\"\")"
   ]
  },
  {
   "cell_type": "code",
   "execution_count": 61,
   "metadata": {},
   "outputs": [],
   "source": [
    "fr.close()"
   ]
  },
  {
   "cell_type": "code",
   "execution_count": 62,
   "metadata": {},
   "outputs": [
    {
     "name": "stdout",
     "output_type": "stream",
     "text": [
      "\n",
      "I met a superhero\n",
      "I lost her\n",
      "I want her back\n",
      "She did things to me that no one else could've\n",
      "I miss that\n",
      "I miss that\n"
     ]
    }
   ],
   "source": [
    "# with문 사용\n",
    "# with문을 사용하면 close()을 사용하지 않아도 자동으로 파일을 닫아준다.\n",
    "# with문 안에 여러개의 파일을 open해도 with문이 끝날때 모두 다 닫힌다.\n",
    "# with문 안에서 write, readline... 등 다른 함수를 사용할 수 있다.\n",
    "\n",
    "with open('./files/myfile.txt','r',encoding=\"utf-8\") as f:\n",
    "    for line in f:\n",
    "        print(line, end=\"\")"
   ]
  },
  {
   "cell_type": "code",
   "execution_count": 69,
   "metadata": {},
   "outputs": [
    {
     "name": "stdout",
     "output_type": "stream",
     "text": [
      "---------original 파일 내용--------\n",
      "the second text file\n",
      "------ 데이터를 추가한 후 ------\n",
      "the second text file\n",
      "Lumiere darling\n",
      "Lumiere over me\n",
      "So in Love\n",
      "So in Love\n",
      "\n",
      "-Tenerife Sea by Ed Sheeran\n",
      "\n"
     ]
    }
   ],
   "source": [
    "# 파일에 데이터 추가하기\n",
    "#  파일열기 모드중 'a' 사용하여 기존 파일 데이터에 추가할때 사용한다.\n",
    "#  새롭개 추가되는 데이터는 기존 파일의 맨 끝에 추가된다.\n",
    "#  파일에 추가할때 write()사용한다.\n",
    "\n",
    "with open('c:/pywork/myfile2.txt','r',encoding=\"utf-8\") as f:\n",
    "    print('---------original 파일 내용--------')\n",
    "    print(f.read())\n",
    "    \n",
    "poem2=\"\"\"\n",
    "Lumiere darling\n",
    "Lumiere over me\n",
    "So in Love\n",
    "So in Love\n",
    "\n",
    "-Tenerife Sea by Ed Sheeran\n",
    "\"\"\"\n",
    "\n",
    "with open('c:/pywork/myfile2.txt', 'a', encoding=\"utf-8\") as f:\n",
    "    f.write(poem2)\n",
    "    \n",
    "with open('c:/pywork/myfile2.txt', 'r', encoding=\"utf-8\") as f:\n",
    "    print('------ 데이터를 추가한 후 ------')\n",
    "    print(f.read())"
   ]
  },
  {
   "cell_type": "code",
   "execution_count": 70,
   "metadata": {},
   "outputs": [],
   "source": [
    "# text파일 복사하기\n",
    "# 기존 파일을 새로운 파일로 복사한다.\n",
    "\n",
    "with open('./files/myfile.txt','r',encoding='utf-8') as fr:\n",
    "    with open('./files/myfile_copy.txt','w',encoding='utf-8') as fw:\n",
    "        fw.write(fr.read())"
   ]
  },
  {
   "cell_type": "code",
   "execution_count": 72,
   "metadata": {},
   "outputs": [
    {
     "name": "stdout",
     "output_type": "stream",
     "text": [
      "\n",
      "I met a superhero\n",
      "I lost her\n",
      "I want her back\n",
      "She did things to me that no one else could've\n",
      "I miss that\n",
      "I miss that\n",
      "\n",
      "Lumiere darling\n",
      "Lumiere over me\n",
      "So in Love\n",
      "So in Love\n",
      "\n",
      "-Tenerife Sea by Ed Sheeran\n",
      "\n",
      "Lumiere darling\n",
      "Lumiere over me\n",
      "So in Love\n",
      "So in Love\n",
      "\n",
      "-Tenerife Sea by Ed Sheeran\n",
      "\n",
      "Lumiere darling\n",
      "Lumiere over me\n",
      "So in Love\n",
      "So in Love\n",
      "\n",
      "-Tenerife Sea by Ed Sheeran\n"
     ]
    }
   ],
   "source": [
    "with open('./files/myfile_copy.txt',encoding=\"utf-8\") as fr:\n",
    "    for i in fr :\n",
    "        print(i, end=\"\")"
   ]
  },
  {
   "cell_type": "code",
   "execution_count": 73,
   "metadata": {},
   "outputs": [],
   "source": [
    "# Binary file 복사하기 (이미지 파일)\n",
    "# 대용량의 바이너리파일은 일정한크기 단위로 읽고 써야지 성능면에서 효율적이다.\n",
    "# bufsize=1024 는 1KB 단위로 읽기 위해서 정의 한다.\n",
    "# 256KB로 읽고 싶은경우 bufsize = (256*1024)로합니다.\n",
    "\n",
    "bufsize = 1024\n",
    "\n",
    "with open('./files/tenerifesea.jpg','rb')as frb:\n",
    "    with open('./files/tenerifesea_copy.jpg','wb')as fwb:\n",
    "        data = frb.read(bufsize)\n",
    "        while data:\n",
    "            fwb.write(data)\n",
    "            data = frb.read(bufsize)"
   ]
  },
  {
   "cell_type": "code",
   "execution_count": 78,
   "metadata": {},
   "outputs": [],
   "source": [
    "# 파일 삭제, 디렉토리 생성,삭제 기능을 사용하기 위해서는 os를 import해야 한다.\n",
    "\n",
    "from os import remove"
   ]
  },
  {
   "cell_type": "code",
   "execution_count": null,
   "metadata": {},
   "outputs": [],
   "source": [
    "# 파일 삭제하기\n",
    "target_file = './files/tenerifesea_copy.jpg'\n",
    "\n",
    "k = input('[%s] 파일을 삭제하겠습니까? (y/n)' %target_file)\n",
    "#k = input('[{}] 파일을 삭제하겠습니까? (y/n)'.format(target_file))\n",
    "\n",
    "if k == 'y':\n",
    "    remove(target_file)\n",
    "    print('[{}]를 삭제했습니다.' .format(target_file))"
   ]
  },
  {
   "cell_type": "code",
   "execution_count": 83,
   "metadata": {},
   "outputs": [
    {
     "name": "stdout",
     "output_type": "stream",
     "text": [
      "새로 생성할 dir이름 입력하라:../newdir\n",
      "[../newdir] directory를 새로 생성했습니다.\n"
     ]
    }
   ],
   "source": [
    "# 디렉토리 생성\n",
    "import os\n",
    "newfolder = input('새로 생성할 dir이름 입력하라:')\n",
    "try:\n",
    "    os.mkdir(newfolder)\n",
    "    print(\"[{}] directory를 새로 생성했습니다.\" .format(newfolder))\n",
    "except Exception as e:\n",
    "    print(e)"
   ]
  },
  {
   "cell_type": "code",
   "execution_count": 84,
   "metadata": {},
   "outputs": [
    {
     "name": "stdout",
     "output_type": "stream",
     "text": [
      "[../newdir] directory를 삭제하시겠습니다?(y/n)y\n",
      "[../newdir] directory를 삭제했습니다.\n"
     ]
    }
   ],
   "source": [
    "# 디렉토리 삭제\n",
    "target_folder='../newdir'\n",
    "k = input('[%s] directory를 삭제하시겠습니다?(y/n)' %target_folder)\n",
    "#k = input('{[]} directory를 삭제하시겠습니다?(y/n)' .format(target_folder))\n",
    "\n",
    "if k=='y':\n",
    "    try:\n",
    "        os.rmdir(target_folder)\n",
    "        print('[{}] directory를 삭제했습니다.' .format(target_folder))\n",
    "    except Exception as e:\n",
    "        print(e)"
   ]
  },
  {
   "cell_type": "code",
   "execution_count": null,
   "metadata": {},
   "outputs": [],
   "source": []
  }
 ],
 "metadata": {
  "kernelspec": {
   "display_name": "pydata",
   "language": "python",
   "name": "pydata"
  },
  "language_info": {
   "codemirror_mode": {
    "name": "ipython",
    "version": 3
   },
   "file_extension": ".py",
   "mimetype": "text/x-python",
   "name": "python",
   "nbconvert_exporter": "python",
   "pygments_lexer": "ipython3",
   "version": "3.7.10"
  }
 },
 "nbformat": 4,
 "nbformat_minor": 4
}

{
 "cells": [
  {
   "cell_type": "code",
   "execution_count": 2,
   "metadata": {},
   "outputs": [],
   "source": [
    "# 1. 상속 (inheritance)\n",
    "\n",
    "# - 객체지향 프로그래밍의 중요한 특징중 상속(inheritance)이라는 것이 있다.\n",
    "# - 클래스와 클래스 사이에 관계를 맺어주는 방식인데, 부모-자식 관계를 맺어주는 \n",
    "#   형태를 상속이라 한다.\n",
    "# - 자식은 부모가 가진 속성과 메서드를 그대로 물려받게 된다.\n",
    "# - 상속을 이용하면 중복된 코드를 제거해 코드길이가 줄어들어 효율적이 된다.\n",
    "# - 상위클래스를 부모클래스(parent class)나 기본,슈퍼클래스(super class)라 하고, \n",
    "#   하위클래스를 자식클래스(child class)나 확장,서브클래스(sub class)라 한다.\n",
    "# - 상속은 기존 클래스를 변경하지 않고 기능을 추가하거나 기존 기능을 바꿀때\n",
    "#   사용한다"
   ]
  },
  {
   "cell_type": "code",
   "execution_count": 3,
   "metadata": {},
   "outputs": [],
   "source": [
    "#부모 클래스\n",
    "class Robot: \n",
    "    '''다양한 로봇을 만드는 클래스'''\n",
    "    def speak(self):\n",
    "        print('로봇이 말한다')\n",
    "    def move(self):\n",
    "        print('로봇이 이동한다')\n",
    "    def charge(self):\n",
    "        print('로봇이 충전한다')"
   ]
  },
  {
   "cell_type": "code",
   "execution_count": 4,
   "metadata": {},
   "outputs": [],
   "source": [
    "#자식 클래스\n",
    "class ChefRobot(Robot):\n",
    "    def cook(self):\n",
    "        print('요리사 로봇이 찌게를 끓인다')"
   ]
  },
  {
   "cell_type": "code",
   "execution_count": 5,
   "metadata": {},
   "outputs": [
    {
     "name": "stdout",
     "output_type": "stream",
     "text": [
      "로봇이 이동한다\n"
     ]
    }
   ],
   "source": [
    "robot = Robot()\n",
    "robot.move()"
   ]
  },
  {
   "cell_type": "code",
   "execution_count": 6,
   "metadata": {},
   "outputs": [
    {
     "name": "stdout",
     "output_type": "stream",
     "text": [
      "로봇이 말한다\n",
      "요리사 로봇이 찌게를 끓인다\n"
     ]
    }
   ],
   "source": [
    "#자식 클래스 실행\n",
    "chef = ChefRobot()\n",
    "chef.speak()\n",
    "chef.cook()"
   ]
  },
  {
   "cell_type": "code",
   "execution_count": 7,
   "metadata": {},
   "outputs": [],
   "source": [
    "# 자식에는 없고 부모에만 있는 경우, 부모의 것을 사용한다.\n",
    "#상속관계에서 자식객체를 생성할때 자식 __init__()이 존재하지 않을경우\n",
    "#부모의 __init__()의 매개변수와 인자를 맞추어 객체 생성한다.\n",
    "class Parent:\n",
    "    def __init__(self, name):\n",
    "        self.name = name\n",
    "\n",
    "class Child(Parent):\n",
    "    pass"
   ]
  },
  {
   "cell_type": "code",
   "execution_count": 10,
   "metadata": {},
   "outputs": [
    {
     "data": {
      "text/plain": [
       "'tw'"
      ]
     },
     "execution_count": 10,
     "metadata": {},
     "output_type": "execute_result"
    }
   ],
   "source": [
    "c = Child('tw') #부모의 init이 호출되기때문에, 생성자에 이름 인자값을 넣어줘야함.\n",
    "c.name"
   ]
  },
  {
   "cell_type": "code",
   "execution_count": 12,
   "metadata": {},
   "outputs": [],
   "source": [
    "# - 파이썬에서 object클래스는 최상위 클래스로서 모든 클래스의 시조라고 할 수 있다.\n",
    "# - 파이썬에서 클래스를 정의할 때 상속할 부모를 명시하지 않은 클래스는 암묵적으로\n",
    "#   object클래스를 상속받는다."
   ]
  },
  {
   "cell_type": "code",
   "execution_count": 73,
   "metadata": {},
   "outputs": [],
   "source": [
    "# - 아래의 두 코드는 완전히 동일한 코드이다.\n",
    "class A:\n",
    "    pass\n",
    "\n",
    "class A(object):\n",
    "    pass"
   ]
  },
  {
   "cell_type": "code",
   "execution_count": null,
   "metadata": {},
   "outputs": [],
   "source": [
    "# super()\n",
    "#  - super()는 부모 클래스를 의미하는 내장 함수 이다.\n",
    "#  - super()는 자식 클래스에서 사용할 수 있다.\n",
    "#  - super()를 사용하면 코드를 줄일 수 있다.\n",
    "#  - 부모와 자식모두 __init__()가 존재할때 자식객체를 생성하면 자식의 __init__()만 호출된다.\n",
    "#  - 부모의 __init__()를 호출하기 위해서는 super()로 부모의 __init__()를 호출 할 수 있다."
   ]
  },
  {
   "cell_type": "code",
   "execution_count": 75,
   "metadata": {},
   "outputs": [],
   "source": [
    "class Parent:\n",
    "    def __init__(self):\n",
    "        print(\"부모\")\n",
    "\n",
    "class Child(Parent):\n",
    "    def __init__(self):\n",
    "        print(\"자식\")"
   ]
  },
  {
   "cell_type": "code",
   "execution_count": 15,
   "metadata": {},
   "outputs": [
    {
     "name": "stdout",
     "output_type": "stream",
     "text": [
      "자식\n"
     ]
    }
   ],
   "source": [
    "c=Child()"
   ]
  },
  {
   "cell_type": "code",
   "execution_count": 76,
   "metadata": {},
   "outputs": [
    {
     "name": "stdout",
     "output_type": "stream",
     "text": [
      "부모\n"
     ]
    }
   ],
   "source": [
    "p=Parent()"
   ]
  },
  {
   "cell_type": "code",
   "execution_count": 23,
   "metadata": {},
   "outputs": [],
   "source": [
    "class Parent :\n",
    "    def __init__(self,name) :\n",
    "        self.name = name"
   ]
  },
  {
   "cell_type": "code",
   "execution_count": 24,
   "metadata": {},
   "outputs": [],
   "source": [
    "class Child(Parent) : # Parent 상속\n",
    "    def __init__(self,name, age):\n",
    "        super().__init__(name) #부모의 __init__()호출\n",
    "        self.age = age"
   ]
  },
  {
   "cell_type": "code",
   "execution_count": 25,
   "metadata": {},
   "outputs": [],
   "source": [
    "c = Child('김씨', 45)"
   ]
  },
  {
   "cell_type": "code",
   "execution_count": 27,
   "metadata": {},
   "outputs": [
    {
     "data": {
      "text/plain": [
       "('김씨', 45)"
      ]
     },
     "execution_count": 27,
     "metadata": {},
     "output_type": "execute_result"
    }
   ],
   "source": [
    "c.name,c.age"
   ]
  },
  {
   "cell_type": "code",
   "execution_count": 77,
   "metadata": {},
   "outputs": [],
   "source": [
    "class Robot:\n",
    "    '''다양한 로봇을 만드는 클래스'''\n",
    "    def __init__(self, name, pos):\n",
    "        self.name = name\n",
    "        self.pos = pos\n",
    "        \n",
    "    def move(self):\n",
    "        print('로봇이 이동한다.')\n",
    " \n",
    "    def charge(self):\n",
    "        print('로봇이 충전한다.')\n",
    "        \n",
    "class CleanRobot(Robot):\n",
    "    def __init__(self, name, pos, filtertype):\n",
    "        super().__init__(name, pos)\n",
    "        self.filtertype = filtertype\n",
    "        \n",
    "    def broom(self):\n",
    "        print('청소로봇이 먼지를 쓸어 담는다.')\n",
    " \n",
    "    def __str__(self):\n",
    "        word = '{}를 장착한 {}, {}에서 시작'\\\n",
    "               .format(self.filtertype, self.name, self.pos)\n",
    "        return word"
   ]
  },
  {
   "cell_type": "code",
   "execution_count": 83,
   "metadata": {},
   "outputs": [],
   "source": [
    "hubo = Robot('babo', 78)\n",
    "hubo.pos\n",
    "hubo_child = CleanRobot('99',(8,9),'yoyo')"
   ]
  },
  {
   "cell_type": "code",
   "execution_count": 31,
   "metadata": {},
   "outputs": [
    {
     "name": "stdout",
     "output_type": "stream",
     "text": [
      "먼지필터를 장착한 깔끔이로봇, (20, 45)에서 시작\n",
      "로봇이 이동한다.\n",
      "청소로봇이 먼지를 쓸어 담는다.\n"
     ]
    }
   ],
   "source": [
    "clean = CleanRobot('깔끔이로봇', (20, 45), '먼지필터')\n",
    "print(clean) #__str__()의 리턴값이 출력된다.\n",
    "clean.move()\n",
    "clean.broom()"
   ]
  },
  {
   "cell_type": "code",
   "execution_count": 32,
   "metadata": {},
   "outputs": [],
   "source": [
    "# Method Overriding\n",
    "#  - 오버라이딩은 부모 클래스로 부터 물려받은 메서드를 자식 클래스에서 재정의 하는 것\n",
    "#  - 메소드를 재정의하는 이유는 클래스 마다 기능이 다를 수 있기 때문이다.\n",
    "#  - 상위클래스와 같은 이름의 메서드를 사용하지만, 하위클래스마다 기능이 다를 경우\n",
    "#    재정의하여 기능을 추가해서 사용한다.\n",
    "\n",
    "#  - 부모클래스의 속성과 메서드와 자식클래스의 속성과 메서드가 같을 경우\n",
    "#    자식 객체를 생성후 접근하면 자식의 속성과 메서드가 호출된다."
   ]
  },
  {
   "cell_type": "code",
   "execution_count": 88,
   "metadata": {},
   "outputs": [
    {
     "data": {
      "text/plain": [
       "' 엉엉엉 '"
      ]
     },
     "execution_count": 88,
     "metadata": {},
     "output_type": "execute_result"
    }
   ],
   "source": [
    "class Animal :\n",
    "    def say(self, message) :\n",
    "        return message\n",
    "class Dog(Animal) :\n",
    "    def say(self, message, cash) :\n",
    "        print(\"강아지가 소리를 냅니다.\", message, cash)\n",
    "class Bird(Animal) :\n",
    "    def say(self,message) :\n",
    "        print(\"새가 노래를 부룹니다.\", message) \n",
    "        \n",
    "animal = Animal()\n",
    "animal.say(\" 엉엉엉 \")"
   ]
  },
  {
   "cell_type": "code",
   "execution_count": 90,
   "metadata": {},
   "outputs": [
    {
     "name": "stdout",
     "output_type": "stream",
     "text": [
      "강아지가 소리를 냅니다. 멍멍 root\n"
     ]
    }
   ],
   "source": [
    "dog = Dog()\n",
    "dog.say('멍멍','root')"
   ]
  },
  {
   "cell_type": "code",
   "execution_count": 91,
   "metadata": {},
   "outputs": [
    {
     "name": "stdout",
     "output_type": "stream",
     "text": [
      "로봇이 이동한다.\n",
      "로봇이 충전한다.\n"
     ]
    }
   ],
   "source": [
    "class Robot:\n",
    "    '''다양한 로봇을 만드는 클래스'''      \n",
    "    def move(self):\n",
    "        print('로봇이 이동한다.')\n",
    " \n",
    "    def charge(self):\n",
    "        print('로봇이 충전한다.')\n",
    "        \n",
    "class CleanRobot(Robot):\n",
    "    def move(self):\n",
    "        print('청소 로봇이 이동한다.')\n",
    " \n",
    "    def charge(self):\n",
    "        print('청소 로봇이 충전한다.')\n",
    "\n",
    "robot = Robot()\n",
    "robot.move()\n",
    "robot.charge()"
   ]
  },
  {
   "cell_type": "code",
   "execution_count": 92,
   "metadata": {},
   "outputs": [
    {
     "name": "stdout",
     "output_type": "stream",
     "text": [
      "청소 로봇이 이동한다.\n",
      "청소 로봇이 충전한다.\n"
     ]
    }
   ],
   "source": [
    "clean = CleanRobot()\n",
    "clean.move()\n",
    "clean.charge()"
   ]
  },
  {
   "cell_type": "code",
   "execution_count": 97,
   "metadata": {},
   "outputs": [],
   "source": [
    "# 포함관계\n",
    "#포함 관계는 한 클래스가 다른 클래스의 멤버로 포함되는 것을 말한다.\n",
    "#포함 관계는 두 클래스가 논리적으로 서로 소유의 관계일 때 설정하면 좋다.\n",
    "\n",
    "# note: 상속관계를 IS-A 관계 , 포함관계를 HAS-A 관계라고 한다.\n",
    "\n",
    "# Client 클래스에 포함될 클래스\n",
    "class Association :\n",
    "    def other_init(self, other, name) : #client같은 다른 객체의 속성을 생성\n",
    "        other.name = name\n",
    "\n",
    "#Association 클래스를 포함할 클래스\n",
    "class Client:\n",
    "    def __init__(self, name, age) :\n",
    "        _name = Association() #속성값으로 Association의 객체를 할당한다.\n",
    "        _name.other_init(self, name)\n",
    "        self.age = age"
   ]
  },
  {
   "cell_type": "code",
   "execution_count": 98,
   "metadata": {},
   "outputs": [
    {
     "name": "stdout",
     "output_type": "stream",
     "text": [
      "아로미\n"
     ]
    },
    {
     "data": {
      "text/plain": [
       "25"
      ]
     },
     "execution_count": 98,
     "metadata": {},
     "output_type": "execute_result"
    }
   ],
   "source": [
    "c1 = Client(\"아로미\",25)\n",
    "print(c1.name)\n",
    "c1.age"
   ]
  },
  {
   "cell_type": "code",
   "execution_count": 103,
   "metadata": {},
   "outputs": [],
   "source": [
    "# Book 클래스에 포함될 클래스\n",
    "class Chapter:\n",
    "    def chapter_init(self, chapter, name) : #book 같은 다른 객체의 속성을 생성\n",
    "        chapter.name = name\n",
    "\n",
    "#Chapter 클래스를 포함할 클래스\n",
    "class Book:\n",
    "    def __init__(self, name, age) :\n",
    "        name_ = Chapter() #속성값으로 Association의 객체를 할당한다.\n",
    "        name_.chapter_init(self, name)\n",
    "        self.age = age"
   ]
  },
  {
   "cell_type": "code",
   "execution_count": 104,
   "metadata": {},
   "outputs": [
    {
     "data": {
      "text/plain": [
       "('the seagull', 120)"
      ]
     },
     "execution_count": 104,
     "metadata": {},
     "output_type": "execute_result"
    }
   ],
   "source": [
    "bk = Book(\"the seagull\", 120)\n",
    "bk.name, bk.age"
   ]
  },
  {
   "cell_type": "code",
   "execution_count": 45,
   "metadata": {},
   "outputs": [],
   "source": [
    "import random\n",
    "#Robot에 포함될 클래스\n",
    "class Motor:\n",
    "    def __init__(self):\n",
    "        self.distance = 0\n",
    "        \n",
    "    def forward(self):\n",
    "        print('앞으로 이동한다')\n",
    "        self.distance += 1\n",
    "        \n",
    "    def backward(self):\n",
    "        print('뒤로 이동한다')\n",
    "        self.distance -= 1"
   ]
  },
  {
   "cell_type": "code",
   "execution_count": 46,
   "metadata": {},
   "outputs": [],
   "source": [
    "#Motor 객체를 포함할 클래스        \n",
    "class Robot:\n",
    "    '''다양한 로봇을 만드는 클래스'''\n",
    "    def __init__(self):\n",
    "        self.drive = Motor()\n",
    "        \n",
    "    def __str__(self): #객체출력하면 보여줄 문자열\n",
    "        return '이동거리: {}'.format(self.drive.distance)"
   ]
  },
  {
   "cell_type": "code",
   "execution_count": 47,
   "metadata": {},
   "outputs": [],
   "source": [
    "robot = Robot()"
   ]
  },
  {
   "cell_type": "code",
   "execution_count": 48,
   "metadata": {},
   "outputs": [
    {
     "name": "stdout",
     "output_type": "stream",
     "text": [
      "뒤로 이동한다\n",
      "뒤로 이동한다\n",
      "뒤로 이동한다\n",
      "앞으로 이동한다\n",
      "뒤로 이동한다\n",
      "뒤로 이동한다\n",
      "뒤로 이동한다\n",
      "뒤로 이동한다\n",
      "뒤로 이동한다\n",
      "앞으로 이동한다\n",
      "이동거리: -6\n"
     ]
    }
   ],
   "source": [
    "for i in range(10):\n",
    "    #randint(최소, 최대):최소부터 최대까지 중 임의의 정수를 리턴한다\n",
    "    #0,1 둘중 하나의 값이 임의로 나온다. 0 :false, 1 : true  bool()로 확인\n",
    "    if random.randint(0,1): # 1일때\n",
    "        robot.drive.forward()\n",
    "    else: #0일때\n",
    "        robot.drive.backward()\n",
    "        \n",
    "print(robot) #__str__()가 호출된다."
   ]
  },
  {
   "cell_type": "code",
   "execution_count": 49,
   "metadata": {},
   "outputs": [],
   "source": [
    "#######################################################################\n",
    "# 예외처리\n",
    "# - 예외란 프로그램 실행 중 발생할 수 있는 오류를 말한다.\n",
    "# - 예외처리란 프로그림 실행 중에 발생한 오류 때문에 프로그램이 정지되는 것을 마기 위한 방법을 말한다.\n",
    "# - try 블록에 오류가 생실 수 있는 코드를 넣고, 해당 오류를 처리하기 위한 except문을 구성한다.\n",
    "# - 오타로 인한 오류 SyntaxError, 들려쓰기를 잘못하면 발생하는 오류 IndentationError\n",
    "#   그외 TypeError, IndexError, NameError, KeyError, ValueError, ImportErorr 등등 있다."
   ]
  },
  {
   "cell_type": "code",
   "execution_count": 53,
   "metadata": {},
   "outputs": [
    {
     "name": "stdout",
     "output_type": "stream",
     "text": [
      "나눌 숫자를 입력하세요 8\n",
      "1.25\n",
      "프로그램 정상 종료\n"
     ]
    }
   ],
   "source": [
    "number = int(input('나눌 숫자를 입력하세요 ')) #0이 아닌숫자, 0, 문자입력\n",
    " \n",
    "try:\n",
    "    result = 10/number\n",
    "except ZeroDivisionError: \n",
    "    print('0으로 나누면 안되요.')\n",
    "else:\n",
    "    print(result)\n",
    "    \n",
    "print(\"프로그램 정상 종료\")   "
   ]
  },
  {
   "cell_type": "code",
   "execution_count": 56,
   "metadata": {},
   "outputs": [
    {
     "name": "stdout",
     "output_type": "stream",
     "text": [
      "나눌 숫자를 입력하세요 y\n",
      "숫자만 입력하세요.\n"
     ]
    }
   ],
   "source": [
    "# (1) 다중 except문 사용하기\n",
    "# - 예외가 여러 개 예상될때는 해당 오류에 대한 except문을 종류별로 추가한다.\n",
    "# - except문에 오류명을 생략하면 모든 종류의 오류를 받을 수 있다.\n",
    "# - except문에 두 개 이상의 오류를 나열할 수 있다. 이때 예외목록은 꼭 괄호를\n",
    "#   묶어줘야 한다\n",
    "try:\n",
    "    number = int(input('나눌 숫자를 입력하세요 '))\n",
    "    result = 10/number\n",
    "except ValueError:\n",
    "    print('숫자만 입력하세요.')\n",
    "except ZeroDivisionError:\n",
    "    print('0으로 나누면 안되요.')\n",
    "except:\n",
    "    print('2가지 외에 개발자가 전혀 예측하지 못한 에러ㅠㅠ')\n",
    "else:\n",
    "    print(result)"
   ]
  },
  {
   "cell_type": "code",
   "execution_count": 57,
   "metadata": {},
   "outputs": [
    {
     "name": "stdout",
     "output_type": "stream",
     "text": [
      "시스템 에러:  [Errno 2] No such file or directory: '없는파일.txt'\n"
     ]
    }
   ],
   "source": [
    "# (2) as 문\n",
    "# - 파이썬에서 제공해주는 예외에 대한 정보를 얻을 수 있다.\n",
    "# - 없는 파일을 읽기 위해 열려고 하면 OSError가 발생한다.\n",
    "# - strip() 는 양쪽 끝의 공백과 '\\n'을 없애준다.\n",
    "def openFile():\n",
    "    file = open('없는파일.txt')\n",
    "    line = file.readline()\n",
    "    number = int(line.strip()) #strip() 양쪽의 공백과 \\n 없애준다.\n",
    "\n",
    "try:\n",
    "    openFile()\n",
    "except OSError as err: \n",
    "    print('시스템 에러: ', err)\n",
    "except:\n",
    "    print('내가 예측할 수 없는 오류ㅠ')\n",
    "else:\n",
    "    print(number)"
   ]
  },
  {
   "cell_type": "code",
   "execution_count": 59,
   "metadata": {},
   "outputs": [],
   "source": [
    "# (3) finally 문 \n",
    "# - try 문이 실행된 이후 무조건 실행해야 되는 코드는 finally문에 넣는다.\n",
    "# - 예외의 발생과 무관하게 무조건 실행해야 하는 코드를 넣는데 적합하다.\n",
    "\n",
    "def writeFile():\n",
    "    try:\n",
    "        f = open('file', 'w')\n",
    "        try:\n",
    "            f.write('Hello World!')\n",
    "        finally:\n",
    "            f.close()\n",
    "    except OSError:\n",
    "        print('oops!')"
   ]
  },
  {
   "cell_type": "code",
   "execution_count": 60,
   "metadata": {},
   "outputs": [],
   "source": [
    "def readFile():\n",
    "    try:\n",
    "        f = open('file', 'r')\n",
    "        line = f.readline()\n",
    "    except OSError:\n",
    "        print('oops!')\n",
    "    else:\n",
    "        print(line)\n",
    "    finally:\n",
    "        f.close()"
   ]
  },
  {
   "cell_type": "code",
   "execution_count": 62,
   "metadata": {},
   "outputs": [],
   "source": [
    "writeFile()"
   ]
  },
  {
   "cell_type": "code",
   "execution_count": 63,
   "metadata": {},
   "outputs": [
    {
     "name": "stdout",
     "output_type": "stream",
     "text": [
      "Hello World!\n"
     ]
    }
   ],
   "source": [
    "readFile()"
   ]
  },
  {
   "cell_type": "code",
   "execution_count": 64,
   "metadata": {},
   "outputs": [
    {
     "name": "stdout",
     "output_type": "stream",
     "text": [
      "인덱스 에러 발생\n"
     ]
    }
   ],
   "source": [
    "# (4) raise 문\n",
    "# - raise문은 개발자가 의도적으로 예외를 발생시킬 때 사용한다.\n",
    "# - raise문은 이용하면서 에러정보를 개발자가 작성할 수 있다.\n",
    "# - 개발자가 작성한 에러정보는 as문을 이용하여 얻을 수 있다.\n",
    "try:\n",
    "    raise IndexError\n",
    "except IndexError :\n",
    "    print('인덱스 에러 발생')"
   ]
  },
  {
   "cell_type": "code",
   "execution_count": 65,
   "metadata": {},
   "outputs": [
    {
     "name": "stdout",
     "output_type": "stream",
     "text": [
      "인덱스 에러 발생: 시퀀스 인덱스가 범위를 벗어날 때 발생합니다\n"
     ]
    }
   ],
   "source": [
    "try:\n",
    "    raise IndexError('시퀀스 인덱스가 범위를 벗어날 때 발생합니다')\n",
    "except IndexError as err:\n",
    "    print('인덱스 에러 발생:', err)"
   ]
  },
  {
   "cell_type": "code",
   "execution_count": 70,
   "metadata": {},
   "outputs": [],
   "source": [
    "# (5) 사용자 정의 예외\n",
    "# - 사용자가 직접 예외를 만들어 쓸수 있는 방법을 제공한다.\n",
    "# - 사용자정의 예외는 Exception 또는 그 하위 클래스를 상속받아야 한다.\n",
    "\n",
    "# Quadratic equation의 a,b,c를 인자값으로 받는 quad(a,b,c)\n",
    "import math\n",
    " \n",
    "class QuadError(Exception): #Exception 상속받는다.\n",
    "    pass\n",
    " \n",
    "def quad(a,b,c):\n",
    "    if a == 0:\n",
    "        qe = QuadError(\"이차 방정식이 아니에요.\")\n",
    "        qe.member= (a, b, c)\n",
    "        raise qe\n",
    "    if b*b-4*a*c < 0:\n",
    "        qe = QuadError(\"방정식의 근이 없어요.\")\n",
    "        qe.member= (a, b, c)\n",
    "        raise qe\n",
    "    x1 = (-b+math.sqrt(b*b-4*a*c))/(2*a)\n",
    "    x2 = (-b-math.sqrt(b*b-4*a*c))/(2*a)\n",
    "    return (x1, x2)"
   ]
  },
  {
   "cell_type": "code",
   "execution_count": 71,
   "metadata": {},
   "outputs": [],
   "source": [
    "def getQuad( a, b, c ):\n",
    "    try:\n",
    "        x1, x2 = quad( a, b, c )\n",
    "        print(\"방정식의 근은\", x1, x2)\n",
    "    except QuadError as err:\n",
    "        print(err, err.member)"
   ]
  },
  {
   "cell_type": "code",
   "execution_count": 72,
   "metadata": {},
   "outputs": [
    {
     "name": "stdout",
     "output_type": "stream",
     "text": [
      "이차 방정식이 아니에요. (0, 100, 10)\n"
     ]
    }
   ],
   "source": [
    "getQuad(0, 100, 10)"
   ]
  },
  {
   "cell_type": "code",
   "execution_count": null,
   "metadata": {},
   "outputs": [],
   "source": []
  }
 ],
 "metadata": {
  "kernelspec": {
   "display_name": "pydata",
   "language": "python",
   "name": "pydata"
  },
  "language_info": {
   "codemirror_mode": {
    "name": "ipython",
    "version": 3
   },
   "file_extension": ".py",
   "mimetype": "text/x-python",
   "name": "python",
   "nbconvert_exporter": "python",
   "pygments_lexer": "ipython3",
   "version": "3.7.10"
  }
 },
 "nbformat": 4,
 "nbformat_minor": 4
}

{
 "cells": [
  {
   "cell_type": "code",
   "execution_count": 1,
   "metadata": {},
   "outputs": [
    {
     "ename": "NameError",
     "evalue": "name 'prin' is not defined",
     "output_type": "error",
     "traceback": [
      "\u001b[1;31m---------------------------------------------------------------------------\u001b[0m",
      "\u001b[1;31mNameError\u001b[0m                                 Traceback (most recent call last)",
      "\u001b[1;32m<ipython-input-1-fd2f1439cabb>\u001b[0m in \u001b[0;36m<module>\u001b[1;34m\u001b[0m\n\u001b[0;32m      6\u001b[0m     \u001b[0mprint\u001b[0m\u001b[1;33m(\u001b[0m\u001b[0ma\u001b[0m\u001b[1;33m)\u001b[0m\u001b[1;33m\u001b[0m\u001b[1;33m\u001b[0m\u001b[0m\n\u001b[0;32m      7\u001b[0m \u001b[1;33m\u001b[0m\u001b[0m\n\u001b[1;32m----> 8\u001b[1;33m \u001b[0mprin\u001b[0m\u001b[1;33m(\u001b[0m\u001b[0ma\u001b[0m\u001b[1;33m)\u001b[0m\u001b[1;33m\u001b[0m\u001b[1;33m\u001b[0m\u001b[0m\n\u001b[0m",
      "\u001b[1;31mNameError\u001b[0m: name 'prin' is not defined"
     ]
    }
   ],
   "source": [
    "# python 변수 이름공간 namepace & scope\n",
    "# 프로그래밍언어에서 Scope는 어떠한 객체(변수,함수 등)의 유효한 범위이다.\n",
    "# 범위를 벗어나면 해당 객체는 사용될 수 없다.\n",
    "\n",
    "# 변수를 찾을때 다음과 같은 순서의 범위에서 찾는다:\n",
    "# Local -> Enclosed -> Global -> Built-in\n",
    "\n",
    "# 1) Local scope\n",
    "def funcs():\n",
    "    a=1\n",
    "    print(a)\n",
    "#a는 지역변수, 함수 밖에서 호출할수 없다.\n",
    "prin(a)"
   ]
  },
  {
   "cell_type": "code",
   "execution_count": 2,
   "metadata": {},
   "outputs": [],
   "source": [
    "# 2) Enclosed scope\n",
    "# 함수 안에 또 다른 함수가있을때 적용되는 scope\n",
    "# 밖의 함수가 부모 함수. 부모 함수에서 선언된 변수는 중첩함수 안에서도 유효한 범위를 갖는다\n",
    "\n",
    "def outer():\n",
    "    a=1\n",
    "    print(a)\n",
    "    def inner():\n",
    "        b=7\n",
    "        print(a+b)\n",
    "    inner()\n",
    "    print(b) #b는 inner()의 지역변수이기때문에, 부모함수 outer()에서 호출할 수 없다."
   ]
  },
  {
   "cell_type": "code",
   "execution_count": 3,
   "metadata": {},
   "outputs": [
    {
     "name": "stdout",
     "output_type": "stream",
     "text": [
      "1\n",
      "8\n"
     ]
    },
    {
     "ename": "NameError",
     "evalue": "name 'b' is not defined",
     "output_type": "error",
     "traceback": [
      "\u001b[1;31m---------------------------------------------------------------------------\u001b[0m",
      "\u001b[1;31mNameError\u001b[0m                                 Traceback (most recent call last)",
      "\u001b[1;32m<ipython-input-3-0811df1b6f71>\u001b[0m in \u001b[0;36m<module>\u001b[1;34m\u001b[0m\n\u001b[1;32m----> 1\u001b[1;33m \u001b[0mouter\u001b[0m\u001b[1;33m(\u001b[0m\u001b[1;33m)\u001b[0m\u001b[1;33m\u001b[0m\u001b[1;33m\u001b[0m\u001b[0m\n\u001b[0m",
      "\u001b[1;32m<ipython-input-2-d3aec63d1af4>\u001b[0m in \u001b[0;36mouter\u001b[1;34m()\u001b[0m\n\u001b[0;32m     10\u001b[0m         \u001b[0mprint\u001b[0m\u001b[1;33m(\u001b[0m\u001b[0ma\u001b[0m\u001b[1;33m+\u001b[0m\u001b[0mb\u001b[0m\u001b[1;33m)\u001b[0m\u001b[1;33m\u001b[0m\u001b[1;33m\u001b[0m\u001b[0m\n\u001b[0;32m     11\u001b[0m     \u001b[0minner\u001b[0m\u001b[1;33m(\u001b[0m\u001b[1;33m)\u001b[0m\u001b[1;33m\u001b[0m\u001b[1;33m\u001b[0m\u001b[0m\n\u001b[1;32m---> 12\u001b[1;33m     \u001b[0mprint\u001b[0m\u001b[1;33m(\u001b[0m\u001b[0mb\u001b[0m\u001b[1;33m)\u001b[0m\u001b[1;33m\u001b[0m\u001b[1;33m\u001b[0m\u001b[0m\n\u001b[0m",
      "\u001b[1;31mNameError\u001b[0m: name 'b' is not defined"
     ]
    }
   ],
   "source": [
    "outer()"
   ]
  },
  {
   "cell_type": "code",
   "execution_count": 4,
   "metadata": {},
   "outputs": [
    {
     "name": "stdout",
     "output_type": "stream",
     "text": [
      "1\n"
     ]
    }
   ],
   "source": [
    "# 3) Glocal scope\n",
    "# global scope는 함수 밖에서 선언된 변수나 함수를 맣한다.\n",
    "# 선언된 지점과 동일한 지역, 그리고 더 안쪽의 지역들까지 범위가 유효하다\n",
    "# 선언된 지점이 해당 파일에서 가장 바깥쪽에서 선언되므로 해당 파일에서 선언된 지점\n",
    "# 아래로는 다 유효한 범위를 가지고 있다.\n",
    "\n",
    "k=1\n",
    "def outer():\n",
    "    a=1\n",
    "    print(a+k)\n",
    "    def inner():\n",
    "        b=7\n",
    "        print(a+b+k)\n",
    "    inner()\n",
    "\n",
    "print(k)"
   ]
  },
  {
   "cell_type": "code",
   "execution_count": 5,
   "metadata": {},
   "outputs": [
    {
     "name": "stdout",
     "output_type": "stream",
     "text": [
      "2\n",
      "9\n"
     ]
    }
   ],
   "source": [
    "outer()"
   ]
  },
  {
   "cell_type": "code",
   "execution_count": null,
   "metadata": {},
   "outputs": [],
   "source": [
    "# 4) Built-in scope\n",
    "# built-in scope는 scope중 가장 광범위한 scope이다\n",
    "# 파이썬안에 내장되어 있는, 파이썬이 제공하는 함수 또는 속성들이 built-in scope를 가지고 있다.\n",
    "# built-in scope는 따로 선언이 없이도 모든 파이썬 파일에서 유요한 범위를 가지고 있다."
   ]
  },
  {
   "cell_type": "code",
   "execution_count": null,
   "metadata": {},
   "outputs": [],
   "source": [
    "# vars(), globals()\n",
    "# vars(): 이름공간에서 객체의 정보를 가져온다\n",
    "# globals(): 전역 이름공간에서 객체의 정보를 가져온다"
   ]
  },
  {
   "cell_type": "code",
   "execution_count": 6,
   "metadata": {},
   "outputs": [
    {
     "data": {
      "text/plain": [
       "100"
      ]
     },
     "execution_count": 6,
     "metadata": {},
     "output_type": "execute_result"
    }
   ],
   "source": [
    "x=100\n",
    "vars()['x']"
   ]
  },
  {
   "cell_type": "code",
   "execution_count": 7,
   "metadata": {},
   "outputs": [
    {
     "data": {
      "text/plain": [
       "100"
      ]
     },
     "execution_count": 7,
     "metadata": {},
     "output_type": "execute_result"
    }
   ],
   "source": [
    "globals()['x']"
   ]
  },
  {
   "cell_type": "code",
   "execution_count": 8,
   "metadata": {},
   "outputs": [
    {
     "data": {
      "text/plain": [
       "<function __main__.add(x, y)>"
      ]
     },
     "execution_count": 8,
     "metadata": {},
     "output_type": "execute_result"
    }
   ],
   "source": [
    "def add(x,y):\n",
    "    return x+y\n",
    "vars()['add']"
   ]
  },
  {
   "cell_type": "code",
   "execution_count": 9,
   "metadata": {},
   "outputs": [
    {
     "data": {
      "text/plain": [
       "<function __main__.add(x, y)>"
      ]
     },
     "execution_count": 9,
     "metadata": {},
     "output_type": "execute_result"
    }
   ],
   "source": [
    "globals()['add']"
   ]
  },
  {
   "cell_type": "code",
   "execution_count": 10,
   "metadata": {},
   "outputs": [
    {
     "data": {
      "text/plain": [
       "__main__.klass"
      ]
     },
     "execution_count": 10,
     "metadata": {},
     "output_type": "execute_result"
    }
   ],
   "source": [
    "class klass:\n",
    "    pass\n",
    "vars()['klass']"
   ]
  },
  {
   "cell_type": "code",
   "execution_count": 11,
   "metadata": {},
   "outputs": [
    {
     "data": {
      "text/plain": [
       "__main__.klass"
      ]
     },
     "execution_count": 11,
     "metadata": {},
     "output_type": "execute_result"
    }
   ],
   "source": [
    "globals()['klass']"
   ]
  },
  {
   "cell_type": "code",
   "execution_count": 12,
   "metadata": {},
   "outputs": [],
   "source": [
    "# 변수범위 예제\n",
    "# local(지역)변수 vs. global(전역)변수\n",
    "var = '전역변수'"
   ]
  },
  {
   "cell_type": "code",
   "execution_count": 13,
   "metadata": {},
   "outputs": [],
   "source": [
    "def scope():\n",
    "    var = '지역변수'\n",
    "    print(var)"
   ]
  },
  {
   "cell_type": "code",
   "execution_count": 14,
   "metadata": {},
   "outputs": [
    {
     "name": "stdout",
     "output_type": "stream",
     "text": [
      "지역변수\n"
     ]
    }
   ],
   "source": [
    "scope()"
   ]
  },
  {
   "cell_type": "code",
   "execution_count": 15,
   "metadata": {},
   "outputs": [
    {
     "name": "stdout",
     "output_type": "stream",
     "text": [
      "전역변수\n"
     ]
    }
   ],
   "source": [
    "print(var)"
   ]
  },
  {
   "cell_type": "code",
   "execution_count": 16,
   "metadata": {},
   "outputs": [
    {
     "name": "stdout",
     "output_type": "stream",
     "text": [
      "전역변수\n",
      "지역변수\n",
      "\n",
      "전역변수\n"
     ]
    },
    {
     "ename": "NameError",
     "evalue": "name 'local_var' is not defined",
     "output_type": "error",
     "traceback": [
      "\u001b[1;31m---------------------------------------------------------------------------\u001b[0m",
      "\u001b[1;31mNameError\u001b[0m                                 Traceback (most recent call last)",
      "\u001b[1;32m<ipython-input-16-be804b2273f2>\u001b[0m in \u001b[0;36m<module>\u001b[1;34m\u001b[0m\n\u001b[0;32m     10\u001b[0m \u001b[0mprint\u001b[0m\u001b[1;33m(\u001b[0m\u001b[1;33m)\u001b[0m\u001b[1;33m\u001b[0m\u001b[1;33m\u001b[0m\u001b[0m\n\u001b[0;32m     11\u001b[0m \u001b[0mprint\u001b[0m\u001b[1;33m(\u001b[0m\u001b[0mglobal_var\u001b[0m\u001b[1;33m)\u001b[0m\u001b[1;33m\u001b[0m\u001b[1;33m\u001b[0m\u001b[0m\n\u001b[1;32m---> 12\u001b[1;33m \u001b[0mprint\u001b[0m\u001b[1;33m(\u001b[0m\u001b[0mlocal_var\u001b[0m\u001b[1;33m)\u001b[0m \u001b[1;31m#지역변수가 함수를 벗어나면 에러\u001b[0m\u001b[1;33m\u001b[0m\u001b[1;33m\u001b[0m\u001b[0m\n\u001b[0m",
      "\u001b[1;31mNameError\u001b[0m: name 'local_var' is not defined"
     ]
    }
   ],
   "source": [
    "global_var = '전역변수'\n",
    " \n",
    "def scope():\n",
    "    local_var = '지역변수'\n",
    "    print(global_var)\n",
    "    print(local_var)\n",
    "     \n",
    "scope() # scope() 함수 실행\n",
    " \n",
    "print()\n",
    "print(global_var)\n",
    "print(local_var) #지역변수가 함수를 벗어나면 에러"
   ]
  },
  {
   "cell_type": "code",
   "execution_count": 17,
   "metadata": {},
   "outputs": [
    {
     "name": "stdout",
     "output_type": "stream",
     "text": [
      "함수 안 var: global 명령어의 역할\n"
     ]
    }
   ],
   "source": [
    "# 지역변수를 전역변수로 바꾸고 싶으면 global keyword를 사용한다\n",
    "var = '전역변수'\n",
    "def scope():\n",
    "    global var #global 명령어가 없으면 새로운 지역변수가 생성\n",
    "    var = 'global 명령어의 역할'\n",
    "    print('함수 안 var:',var)\n",
    "scope()"
   ]
  },
  {
   "cell_type": "code",
   "execution_count": 18,
   "metadata": {},
   "outputs": [
    {
     "name": "stdout",
     "output_type": "stream",
     "text": [
      "함수 밖 var: global 명령어의 역할\n"
     ]
    }
   ],
   "source": [
    "print('함수 밖 var:',var)"
   ]
  },
  {
   "cell_type": "code",
   "execution_count": 19,
   "metadata": {},
   "outputs": [
    {
     "data": {
      "text/plain": [
       "25"
      ]
     },
     "execution_count": 19,
     "metadata": {},
     "output_type": "execute_result"
    }
   ],
   "source": [
    "# 함수에 함수 적용하기\n",
    "# outer() & inner()\n",
    "\n",
    "#inner 함수에서 inner()의 지역변수 y와 outer()의 지역변수 x를 사용한다 \n",
    "def outer(x):\n",
    "    def inner(y):\n",
    "        return x+y\n",
    "    return inner(5)\n",
    "outer(20)"
   ]
  },
  {
   "cell_type": "code",
   "execution_count": 21,
   "metadata": {},
   "outputs": [
    {
     "ename": "UnboundLocalError",
     "evalue": "local variable 'x' referenced before assignment",
     "output_type": "error",
     "traceback": [
      "\u001b[1;31m---------------------------------------------------------------------------\u001b[0m",
      "\u001b[1;31mUnboundLocalError\u001b[0m                         Traceback (most recent call last)",
      "\u001b[1;32m<ipython-input-21-c1f8327d8484>\u001b[0m in \u001b[0;36m<module>\u001b[1;34m\u001b[0m\n\u001b[0;32m      6\u001b[0m         \u001b[1;32mreturn\u001b[0m \u001b[0mx\u001b[0m\u001b[1;33m+\u001b[0m\u001b[0my\u001b[0m\u001b[1;33m\u001b[0m\u001b[1;33m\u001b[0m\u001b[0m\n\u001b[0;32m      7\u001b[0m     \u001b[1;32mreturn\u001b[0m \u001b[0minner\u001b[0m\u001b[1;33m(\u001b[0m\u001b[1;36m5\u001b[0m\u001b[1;33m)\u001b[0m\u001b[1;33m\u001b[0m\u001b[1;33m\u001b[0m\u001b[0m\n\u001b[1;32m----> 8\u001b[1;33m \u001b[0mouter\u001b[0m\u001b[1;33m(\u001b[0m\u001b[1;36m20\u001b[0m\u001b[1;33m)\u001b[0m\u001b[1;33m\u001b[0m\u001b[1;33m\u001b[0m\u001b[0m\n\u001b[0m",
      "\u001b[1;32m<ipython-input-21-c1f8327d8484>\u001b[0m in \u001b[0;36mouter\u001b[1;34m(x)\u001b[0m\n\u001b[0;32m      5\u001b[0m         \u001b[0mx\u001b[0m\u001b[1;33m+=\u001b[0m\u001b[1;36m1\u001b[0m \u001b[1;31m# x=x+1 <-- 지역변수 x생성 = x검색\u001b[0m\u001b[1;33m\u001b[0m\u001b[1;33m\u001b[0m\u001b[0m\n\u001b[0;32m      6\u001b[0m         \u001b[1;32mreturn\u001b[0m \u001b[0mx\u001b[0m\u001b[1;33m+\u001b[0m\u001b[0my\u001b[0m\u001b[1;33m\u001b[0m\u001b[1;33m\u001b[0m\u001b[0m\n\u001b[1;32m----> 7\u001b[1;33m     \u001b[1;32mreturn\u001b[0m \u001b[0minner\u001b[0m\u001b[1;33m(\u001b[0m\u001b[1;36m5\u001b[0m\u001b[1;33m)\u001b[0m\u001b[1;33m\u001b[0m\u001b[1;33m\u001b[0m\u001b[0m\n\u001b[0m\u001b[0;32m      8\u001b[0m \u001b[0mouter\u001b[0m\u001b[1;33m(\u001b[0m\u001b[1;36m20\u001b[0m\u001b[1;33m)\u001b[0m\u001b[1;33m\u001b[0m\u001b[1;33m\u001b[0m\u001b[0m\n",
      "\u001b[1;32m<ipython-input-21-c1f8327d8484>\u001b[0m in \u001b[0;36minner\u001b[1;34m(y)\u001b[0m\n\u001b[0;32m      3\u001b[0m \u001b[1;32mdef\u001b[0m \u001b[0mouter\u001b[0m\u001b[1;33m(\u001b[0m\u001b[0mx\u001b[0m\u001b[1;33m)\u001b[0m\u001b[1;33m:\u001b[0m\u001b[1;33m\u001b[0m\u001b[1;33m\u001b[0m\u001b[0m\n\u001b[0;32m      4\u001b[0m     \u001b[1;32mdef\u001b[0m \u001b[0minner\u001b[0m\u001b[1;33m(\u001b[0m\u001b[0my\u001b[0m\u001b[1;33m)\u001b[0m\u001b[1;33m:\u001b[0m\u001b[1;33m\u001b[0m\u001b[1;33m\u001b[0m\u001b[0m\n\u001b[1;32m----> 5\u001b[1;33m         \u001b[0mx\u001b[0m\u001b[1;33m+=\u001b[0m\u001b[1;36m1\u001b[0m \u001b[1;31m# x=x+1 <-- 지역변수 x생성 = x검색\u001b[0m\u001b[1;33m\u001b[0m\u001b[1;33m\u001b[0m\u001b[0m\n\u001b[0m\u001b[0;32m      6\u001b[0m         \u001b[1;32mreturn\u001b[0m \u001b[0mx\u001b[0m\u001b[1;33m+\u001b[0m\u001b[0my\u001b[0m\u001b[1;33m\u001b[0m\u001b[1;33m\u001b[0m\u001b[0m\n\u001b[0;32m      7\u001b[0m     \u001b[1;32mreturn\u001b[0m \u001b[0minner\u001b[0m\u001b[1;33m(\u001b[0m\u001b[1;36m5\u001b[0m\u001b[1;33m)\u001b[0m\u001b[1;33m\u001b[0m\u001b[1;33m\u001b[0m\u001b[0m\n",
      "\u001b[1;31mUnboundLocalError\u001b[0m: local variable 'x' referenced before assignment"
     ]
    }
   ],
   "source": [
    "# 여기 outer()의 변수x를 inner()에서 생성하려했기 때문에, 에러발생\n",
    "# x=x+1 이 부분에서, 먼저 inner(local)에서 x를 찾는데, x는 inner에서 생성된적이 없기때문에 에러가 발생하는 것임.\n",
    "def outer(x):\n",
    "    def inner(y):\n",
    "        x+=1 # x=x+1 <-- 지역변수 x생성 = x검색\n",
    "        return x+y\n",
    "    return inner(5)\n",
    "outer(20)"
   ]
  },
  {
   "cell_type": "code",
   "execution_count": 26,
   "metadata": {},
   "outputs": [
    {
     "data": {
      "text/plain": [
       "16"
      ]
     },
     "execution_count": 26,
     "metadata": {},
     "output_type": "execute_result"
    }
   ],
   "source": [
    "# 위 example과는 다르게 다음에서는 에러가 발생하지 않는 이유는 nonlocal을 선언했기때문이다.\n",
    "def outer(x):\n",
    "     def inner(y) : \n",
    "          nonlocal x #외부함수 영역에서 x변수를 찾아서 가져온다.\n",
    "          x += 1  # x=x+1 <-- x가 nonlocal이기때문에, 지역변수 생성OK = 검색OK\n",
    "          return x + y\n",
    "     return inner(5)\n",
    "\n",
    "outer(10)"
   ]
  },
  {
   "cell_type": "code",
   "execution_count": 25,
   "metadata": {},
   "outputs": [
    {
     "data": {
      "text/plain": [
       "16"
      ]
     },
     "execution_count": 25,
     "metadata": {},
     "output_type": "execute_result"
    }
   ],
   "source": [
    "x=10\n",
    "def outer(x):\n",
    "     def inner(y) : \n",
    "          global x #전역변수 x를 찾아서 가져온다.\n",
    "          x += 1 \n",
    "          return x + y\n",
    "     return inner(5)\n",
    "\n",
    "outer(10)"
   ]
  },
  {
   "cell_type": "code",
   "execution_count": 27,
   "metadata": {},
   "outputs": [],
   "source": [
    "# 클로져 closure환경 이해\n",
    "# python은 함수를 객체로 처리함으로, 함수를 변수에 할당하거나 자료구조 안에 저장할 수 있다.\n",
    "# 함수를 argument(인자)로 다른 함수에 전달해서 결과를 출력할 수 있다. \n",
    "\n",
    "# closure란 외부 함수로 부터 생성되 변수값을 내부 함수에서 바꾸거나 저장할 수 있는것이다.\n",
    "# closure는 일반함수와 달리 자신의 영역 밖에서 호출된 함수의 변수를 사용할 수 있다\n",
    "\n",
    "# closure는 일반함수와 달리 생성 당시의 상태를 저장할 수 있다는점이 유용하다."
   ]
  },
  {
   "cell_type": "code",
   "execution_count": 1,
   "metadata": {},
   "outputs": [
    {
     "name": "stdout",
     "output_type": "stream",
     "text": [
      "python\n"
     ]
    }
   ],
   "source": [
    "# closure아닌 경우: 외부함수의 지역변수는 그안의 모든 함수에서 접근할 수 있다\n",
    "def outer_funce() :\n",
    "    message = \"python\"\n",
    "    def inner_funce():\n",
    "        print(message)\n",
    "    return inner_funce() #자신의 영역안에서 함수호출(클로저아님)\n",
    "\n",
    "outer_funce()"
   ]
  },
  {
   "cell_type": "code",
   "execution_count": 29,
   "metadata": {},
   "outputs": [],
   "source": [
    "# 내부함수에서 외부함수의 변수를 사용하면 외부함수의 변수가 자유변수가 된다.\n",
    "# (자유변수(free variable)는 내부함수에서 사용됐지만, 그 내부함수 안에서 정의되지 않은 변수를 뜻함.)\n",
    "\n",
    "# 내부함수에서 외부함수의 변수를 nonlocal로 정의할 경우 외부함수의 변수를\n",
    "# 바로 참조해서 갱신할 수 있다.\n",
    "\n",
    "# 클로저 환경을 구성하여 내부함수가 처리될때 외부함수의 변수도 계속 갱신처리하고 \n",
    "# 내부함수가 사용될 동안 외부함수의 변수를 내부함수에서 계속 사용이 가능하다."
   ]
  },
  {
   "cell_type": "code",
   "execution_count": 12,
   "metadata": {},
   "outputs": [
    {
     "data": {
      "text/plain": [
       "<function __main__.closure.<locals>.inner(y)>"
      ]
     },
     "execution_count": 12,
     "metadata": {},
     "output_type": "execute_result"
    }
   ],
   "source": [
    "# closure만들기:\n",
    "# 외부함수를 정의할때 내부함수를 실행하지 않고, 내부 함수 그 자체를 반환한다.\n",
    "\n",
    "# 정의된 외부함수를 실행해서 변수에 할당하고, 그 변수의 정보를 확인하면\n",
    "# 내부함수가 저장된것을 확인할 수 있다.\n",
    "\n",
    "def closure(x):\n",
    "    def inner(y):\n",
    "        nonlocal x\n",
    "        x = x * y\n",
    "        return x\n",
    "    return inner# 내부함수 자체를 리턴한다.\n",
    " \n",
    "clo=closure(10)\n",
    "#clo를 보면, inner(y) 내부함수가 저장되었다.\n",
    "clo"
   ]
  },
  {
   "cell_type": "code",
   "execution_count": 13,
   "metadata": {},
   "outputs": [
    {
     "data": {
      "text/plain": [
       "10"
      ]
     },
     "execution_count": 13,
     "metadata": {},
     "output_type": "execute_result"
    }
   ],
   "source": [
    "#클로저 환경이 구성되면 __closure__스페셜 속성에는 클로저 환경에 구성된\n",
    "#자유변수의 값을 볼 수 있다.\n",
    "clo.__closure__[0].cell_contents #자유변수 x값"
   ]
  },
  {
   "cell_type": "code",
   "execution_count": 14,
   "metadata": {},
   "outputs": [
    {
     "data": {
      "text/plain": [
       "300"
      ]
     },
     "execution_count": 14,
     "metadata": {},
     "output_type": "execute_result"
    }
   ],
   "source": [
    "clo(30) #외부함수의 결과값, 선언된 함수의 다른영역에서 내부함수 실행"
   ]
  },
  {
   "cell_type": "code",
   "execution_count": 15,
   "metadata": {},
   "outputs": [
    {
     "data": {
      "text/plain": [
       "300"
      ]
     },
     "execution_count": 15,
     "metadata": {},
     "output_type": "execute_result"
    }
   ],
   "source": [
    "clo.__closure__[0].cell_contents #클로저에 의한 갱신된 자유변수 x 값"
   ]
  },
  {
   "cell_type": "code",
   "execution_count": null,
   "metadata": {},
   "outputs": [],
   "source": [
    "#############################################################################\n",
    "# 함수 데코레이터 (function decorator):\n",
    "# 함수의 인자로 함수를 받아 내부 함수에서 실행할때 다양한 공통기능을 처리\n",
    "\n",
    "# 함수 데코레이터를 만드려면, 데코레이터 기능을 처리하는 함수와\n",
    "# 실제 실행하는 함수 두개를 만들어야함.\n",
    "\n",
    "# 데코레이터 기능을 하려면 내부함수를 만드는데 그 내부함수는 항상\n",
    "# 전달된 함수를 실행한 결과를 반환한다.\n",
    "\n",
    "# first class citizen: 변수에 할당할 수 있고, 다른 함수의 인자로 넘길 수 있는 함수를\n",
    "# 일급객체(일급시민, first class citizen)라고 한다."
   ]
  },
  {
   "cell_type": "code",
   "execution_count": 16,
   "metadata": {},
   "outputs": [
    {
     "data": {
      "text/plain": [
       "4"
      ]
     },
     "execution_count": 16,
     "metadata": {},
     "output_type": "execute_result"
    }
   ],
   "source": [
    "# 다른 함수의 인자로 넘길 함수제작\n",
    "def sum_two(a,b):\n",
    "    return a+b\n",
    "\n",
    "sum_two(1,3)"
   ]
  },
  {
   "cell_type": "code",
   "execution_count": 17,
   "metadata": {},
   "outputs": [
    {
     "data": {
      "text/plain": [
       "4"
      ]
     },
     "execution_count": 17,
     "metadata": {},
     "output_type": "execute_result"
    }
   ],
   "source": [
    "var = sum_two\n",
    "var(1,3)"
   ]
  },
  {
   "cell_type": "code",
   "execution_count": 18,
   "metadata": {},
   "outputs": [
    {
     "data": {
      "text/plain": [
       "True"
      ]
     },
     "execution_count": 18,
     "metadata": {},
     "output_type": "execute_result"
    }
   ],
   "source": [
    "var is sum_two"
   ]
  },
  {
   "cell_type": "code",
   "execution_count": 19,
   "metadata": {},
   "outputs": [
    {
     "data": {
      "text/plain": [
       "(2336256754600, 2336256754600)"
      ]
     },
     "execution_count": 19,
     "metadata": {},
     "output_type": "execute_result"
    }
   ],
   "source": [
    "id(var), id(sum_two) #동일하다"
   ]
  },
  {
   "cell_type": "code",
   "execution_count": 21,
   "metadata": {},
   "outputs": [
    {
     "data": {
      "text/plain": [
       "10"
      ]
     },
     "execution_count": 21,
     "metadata": {},
     "output_type": "execute_result"
    }
   ],
   "source": [
    "# 인자로 받아서 사용할 함수 제작, 매개변수에 함수와 정수를 전달받는다.\n",
    "def add_to_3(func, num):\n",
    "    return func(3,num)\n",
    "\n",
    "add_to_3(sum_two,7)"
   ]
  },
  {
   "cell_type": "code",
   "execution_count": 22,
   "metadata": {},
   "outputs": [
    {
     "name": "stdout",
     "output_type": "stream",
     "text": [
      "함수가 시작됩니다\n",
      "python\n"
     ]
    }
   ],
   "source": [
    "# 데코레이터 제작\n",
    "# 예시 1\n",
    "def alert_start(func):\n",
    "    def new_func(*args, **kargs):\n",
    "        print(\"함수가 시작됩니다\")\n",
    "        return func(*args, **kargs)\n",
    "    return new_func\n",
    "\n",
    "alert_start(print)('python')"
   ]
  },
  {
   "cell_type": "code",
   "execution_count": 26,
   "metadata": {},
   "outputs": [],
   "source": [
    "#위 예시의 상세 과정:\n",
    "start_func = alert_start(print) \n",
    "#alert_start(print)가 return하는 (print함수를 return할 예정인)new_func을 start_func변수가 받는다"
   ]
  },
  {
   "cell_type": "code",
   "execution_count": 27,
   "metadata": {},
   "outputs": [
    {
     "name": "stdout",
     "output_type": "stream",
     "text": [
      "함수가 시작됩니다\n",
      "python\n"
     ]
    }
   ],
   "source": [
    "start_func('python')\n",
    "#start_func가 실행되면 담아두었던 new_func가 실행되면서 \"함수가 시작됩니다\"가 출력되고\n",
    "# start_func, 즉 new_func()의 인자값으로 들어간 'python'이 print함수로인해 출력된다"
   ]
  },
  {
   "cell_type": "code",
   "execution_count": 28,
   "metadata": {},
   "outputs": [
    {
     "name": "stdout",
     "output_type": "stream",
     "text": [
      "Java\n",
      "함수가 끝났습니다\n"
     ]
    }
   ],
   "source": [
    "# 예시 2\n",
    "def alert_end(func):\n",
    "    def new_func(*args, **kargs):\n",
    "        result = func(*args, **kargs)\n",
    "        print(\"함수가 끝났습니다\")\n",
    "        return result\n",
    "    return new_func\n",
    "\n",
    "alert_end(print)('Java')"
   ]
  },
  {
   "cell_type": "code",
   "execution_count": 29,
   "metadata": {},
   "outputs": [],
   "source": [
    "#위 예시의 상세 과정:\n",
    "end_func = alert_end(print)\n",
    "# alert_end(print)가 return하는 (new_func안에 정의된 내용을 구현할 예정인)new_func 함수를\n",
    "# end_func 변수가 받는다."
   ]
  },
  {
   "cell_type": "code",
   "execution_count": 30,
   "metadata": {},
   "outputs": [
    {
     "name": "stdout",
     "output_type": "stream",
     "text": [
      "Java\n",
      "함수가 끝났습니다\n"
     ]
    }
   ],
   "source": [
    "end_func('Java')\n",
    "#end_func가 실행되면, 담아두었던 new_func가 실행되면서 \n",
    "# 먼저 result=func('Java') 즉 result=print('Java')가 실행되고, 그 다음 줄\n",
    "# print(\"함수가 끝났습니다\") 실행된다."
   ]
  },
  {
   "cell_type": "code",
   "execution_count": 31,
   "metadata": {},
   "outputs": [
    {
     "name": "stdout",
     "output_type": "stream",
     "text": [
      "함수가 시작됩니다\n",
      "안녕하세요\n",
      "함수가 끝났습니다\n"
     ]
    }
   ],
   "source": [
    "# 데코레이터 사용 없이\n",
    "new_print = alert_start(alert_end(print))\n",
    "new_print('안녕하세요')"
   ]
  },
  {
   "cell_type": "code",
   "execution_count": 32,
   "metadata": {},
   "outputs": [
    {
     "name": "stdout",
     "output_type": "stream",
     "text": [
      "함수가 시작됩니다\n",
      "Hey Cmon\n",
      "함수가 끝났습니다\n"
     ]
    }
   ],
   "source": [
    "alert_start(alert_end(print))('Hey Cmon')"
   ]
  },
  {
   "cell_type": "code",
   "execution_count": 33,
   "metadata": {},
   "outputs": [
    {
     "name": "stdout",
     "output_type": "stream",
     "text": [
      "함수가 시작됩니다\n",
      "Hello\n",
      "함수가 끝났습니다\n"
     ]
    }
   ],
   "source": [
    "alert_end(alert_start(print))('Hello')"
   ]
  },
  {
   "cell_type": "code",
   "execution_count": 35,
   "metadata": {},
   "outputs": [
    {
     "data": {
      "text/plain": [
       "15"
      ]
     },
     "execution_count": 35,
     "metadata": {},
     "output_type": "execute_result"
    }
   ],
   "source": [
    "def sum_all(*args):\n",
    "    return sum(args)\n",
    "sum_all(1,2,3,4,5)"
   ]
  },
  {
   "cell_type": "code",
   "execution_count": 37,
   "metadata": {},
   "outputs": [
    {
     "name": "stdout",
     "output_type": "stream",
     "text": [
      "함수가 시작됩니다\n"
     ]
    },
    {
     "data": {
      "text/plain": [
       "15"
      ]
     },
     "execution_count": 37,
     "metadata": {},
     "output_type": "execute_result"
    }
   ],
   "source": [
    "alert_start(sum_all)(1,2,3,4,5)"
   ]
  },
  {
   "cell_type": "code",
   "execution_count": 38,
   "metadata": {},
   "outputs": [
    {
     "name": "stdout",
     "output_type": "stream",
     "text": [
      "함수가 시작됩니다\n"
     ]
    },
    {
     "data": {
      "text/plain": [
       "15"
      ]
     },
     "execution_count": 38,
     "metadata": {},
     "output_type": "execute_result"
    }
   ],
   "source": [
    "# 데코레이터 사용\n",
    "@alert_start\n",
    "def sum_all(*args):\n",
    "    return sum(args)\n",
    "sum_all(1,2,3,4,5)"
   ]
  },
  {
   "cell_type": "code",
   "execution_count": 39,
   "metadata": {},
   "outputs": [
    {
     "name": "stdout",
     "output_type": "stream",
     "text": [
      "함수가 시작됩니다\n",
      "함수가 끝났습니다\n"
     ]
    },
    {
     "data": {
      "text/plain": [
       "15"
      ]
     },
     "execution_count": 39,
     "metadata": {},
     "output_type": "execute_result"
    }
   ],
   "source": [
    "# 여러개의 데코레이터 사용\n",
    "@alert_end\n",
    "@alert_start\n",
    "def sum_all(*args):\n",
    "    return sum(args)\n",
    "sum_all(1,2,3,4,5)"
   ]
  },
  {
   "cell_type": "code",
   "execution_count": 42,
   "metadata": {},
   "outputs": [
    {
     "name": "stdout",
     "output_type": "stream",
     "text": [
      "함수가 시작됩니다\n",
      "함수가 끝났습니다\n"
     ]
    },
    {
     "data": {
      "text/plain": [
       "15"
      ]
     },
     "execution_count": 42,
     "metadata": {},
     "output_type": "execute_result"
    }
   ],
   "source": [
    "#위와 동일한 결과를 얻기위해 데코레이터 없이 작성하는 코드는 다음과같이 길어진다.\n",
    "def sum_all(*args) :\n",
    "    return sum(args)\n",
    " \n",
    "sum_all(1,2,3,4,5)\n",
    " \n",
    "alert_end(alert_start(sum_all))(1,2,3,4,5)"
   ]
  },
  {
   "cell_type": "code",
   "execution_count": null,
   "metadata": {},
   "outputs": [],
   "source": []
  }
 ],
 "metadata": {
  "kernelspec": {
   "display_name": "pydata",
   "language": "python",
   "name": "pydata"
  },
  "language_info": {
   "codemirror_mode": {
    "name": "ipython",
    "version": 3
   },
   "file_extension": ".py",
   "mimetype": "text/x-python",
   "name": "python",
   "nbconvert_exporter": "python",
   "pygments_lexer": "ipython3",
   "version": "3.7.10"
  }
 },
 "nbformat": 4,
 "nbformat_minor": 4
}

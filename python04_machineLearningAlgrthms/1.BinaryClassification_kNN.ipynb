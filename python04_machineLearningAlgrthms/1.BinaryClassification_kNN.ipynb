{
 "cells": [
  {
   "cell_type": "markdown",
   "id": "26e642cc",
   "metadata": {},
   "source": [
    "## 지도학습(Supervised) > 분류(Classification)\n",
    "\n",
    "### 1. kNN(k-최근접) 알고리즘을 사용한 이진분류 \n",
    "\n",
    "- 머신러닝에서 여러 개의 종류(class라고 부른다) 중 하나를 구별해 내는 문제를\n",
    "  분류(classification)라고 부른다.\n",
    "  - 특히 이번처럼 2개의 클래스 중 하나를 고르는 문제를 이진 분류(binary classification) 라고 한다.\n",
    "\n",
    "\n",
    "- 2진분류는 찾으려는 대상을 1로 놓고 그 외에는 0으로 놓는다.(e.g., 생선이 주어졌을때에 도미인지 찾으려면, 도미=1, 빙어(or another type)=0 )\n",
    "\n",
    "\n",
    "- 각 도미의 길이와 무게로 표현한 이특징을 특성(feature)이라고 부른다.\n",
    "- 특성은 데이터의 특징이다. \n",
    "\n",
    "\n",
    "- 가장 간단한 머신러닝 알고리즘 중 하나인 k-최근접 이웃을 사용하여 2개의 종류를 분류하는 머신러닝 모델을 훈련한다."
   ]
  },
  {
   "cell_type": "markdown",
   "id": "2fa3eeac",
   "metadata": {},
   "source": [
    "#### 생선분류 문제 \n",
    "생선들중 우선 도미와 빙어를 프로그램으로 분류한다. \n",
    "\n",
    "생선의 특징(데이터)으로 분류할 수 있다. --> 생선의 무게와 길이\n"
   ]
  },
  {
   "cell_type": "markdown",
   "id": "98938b98",
   "metadata": {},
   "source": [
    "### 1. 데이터 수집\n",
    "과거의 데이터를 준비한다."
   ]
  },
  {
   "cell_type": "code",
   "execution_count": 1,
   "id": "ece5d592",
   "metadata": {},
   "outputs": [],
   "source": [
    "#도미의 데이터\n",
    "bream_length = [25.4, 26.3, 26.5, 29.0, 29.0, 29.7, 29.7, 30.0, 30.0, 30.7, 31.0, 31.0, \n",
    "                31.5, 32.0, 32.0, 32.0, 33.0, 33.0, 33.5, 33.5, 34.0, 34.0, 34.5, 35.0, \n",
    "                35.0, 35.0, 35.0, 36.0, 36.0, 37.0, 38.5, 38.5, 39.5, 41.0, 41.0]\n",
    "bream_weight = [242.0, 290.0, 340.0, 363.0, 430.0, 450.0, 500.0, 390.0, 450.0, 500.0, 475.0, 500.0, \n",
    "                500.0, 340.0, 600.0, 600.0, 700.0, 700.0, 610.0, 650.0, 575.0, 685.0, 620.0, 680.0, \n",
    "                700.0, 725.0, 720.0, 714.0, 850.0, 1000.0, 920.0, 955.0, 925.0, 975.0, 950.0]"
   ]
  },
  {
   "cell_type": "code",
   "execution_count": 2,
   "id": "8a7e2544",
   "metadata": {},
   "outputs": [
    {
     "data": {
      "text/plain": [
       "<function matplotlib.pyplot.show(close=None, block=None)>"
      ]
     },
     "execution_count": 2,
     "metadata": {},
     "output_type": "execute_result"
    },
    {
     "data": {
      "image/png": "[encoded data removed]",
      "text/plain": [
       "<Figure size 432x288 with 1 Axes>"
      ]
     },
     "metadata": {
      "needs_background": "light"
     },
     "output_type": "display_data"
    }
   ],
   "source": [
    "import matplotlib.pyplot as plt\n",
    "\n",
    "plt.scatter(bream_length, bream_weight)\n",
    "plt.xlabel('length')\n",
    "plt.ylabel('weight')\n",
    "plt.show"
   ]
  },
  {
   "cell_type": "code",
   "execution_count": 3,
   "id": "eb01ea43",
   "metadata": {},
   "outputs": [],
   "source": [
    "#빙어의 데이터\n",
    "smelt_length = [9.8, 10.5, 10.6, 11.0, 11.2, 11.3, 11.8, 11.8, 12.0, 12.2, 12.4, 13.0, 14.3, 15.0]\n",
    "smelt_weight = [6.7, 7.5, 7.0, 9.7, 9.8, 8.7, 10.0, 9.9, 9.8, 12.2, 13.4, 12.2, 19.7, 19.9]"
   ]
  },
  {
   "cell_type": "code",
   "execution_count": 4,
   "id": "c111feec",
   "metadata": {},
   "outputs": [
    {
     "data": {
      "image/png": "[encoded data removed]",
      "text/plain": [
       "<Figure size 432x288 with 1 Axes>"
      ]
     },
     "metadata": {
      "needs_background": "light"
     },
     "output_type": "display_data"
    }
   ],
   "source": [
    "plt.scatter(bream_length, bream_weight)\n",
    "plt.scatter(smelt_length, smelt_weight)\n",
    "plt.xlabel('length')\n",
    "plt.xlabel('weight')\n",
    "plt.show()"
   ]
  },
  {
   "cell_type": "markdown",
   "id": "5879b177",
   "metadata": {},
   "source": [
    "#### k-Nearest Neighbors 알고리즘\n",
    "k-최근접 이웃(k-Nearest Neighbors) 알고리즘 사용해서 도미와 빙어 데이터를 구분한다"
   ]
  },
  {
   "cell_type": "code",
   "execution_count": 5,
   "id": "4f141112",
   "metadata": {},
   "outputs": [],
   "source": [
    "length = bream_length + smelt_length # 리스트 + 리스트 = 리스트. 도미먼저, 그다음 빙어\n",
    "weight = bream_weight + smelt_weight"
   ]
  },
  {
   "cell_type": "markdown",
   "id": "f9025237",
   "metadata": {},
   "source": [
    "### zip() 내포리스트 구문\n",
    "\n",
    "머신러닝 패키지로 사이킷런(scikit-learn)를 사용하기 위해서는 세로 방향의 2차원 리스트 (리스트 안에 리스트)를 사용해야한다.\n",
    "- scikit-learn은 각 특성의 리스트를 세로 방향으로 늘어뜨린 2차원 리스트를 만들어야 한다\n",
    "\n",
    "- zip() 함수와 리스트 내포(list comprehension) 구문을 사용한다.\n",
    "- zip() 함수는 나열된 리스트 각각에서 하나씩 원소를 꺼내 반환한다.\n",
    "  하나씩 꺼낸데이터에 동일한 작업을 계속 반복하는 일을 for 문으로 한다.\n",
    "- zip() 함수와 리스트 내포 구문을 사용해 length와 weight를 담은 리스트의 리스트(2차원 리스트)를 만든다."
   ]
  },
  {
   "cell_type": "code",
   "execution_count": 7,
   "id": "7f63c108",
   "metadata": {},
   "outputs": [
    {
     "name": "stdout",
     "output_type": "stream",
     "text": [
      "[[25.4, 242.0], [26.3, 290.0], [26.5, 340.0], [29.0, 363.0], [29.0, 430.0], [29.7, 450.0], [29.7, 500.0], [30.0, 390.0], [30.0, 450.0], [30.7, 500.0], [31.0, 475.0], [31.0, 500.0], [31.5, 500.0], [32.0, 340.0], [32.0, 600.0], [32.0, 600.0], [33.0, 700.0], [33.0, 700.0], [33.5, 610.0], [33.5, 650.0], [34.0, 575.0], [34.0, 685.0], [34.5, 620.0], [35.0, 680.0], [35.0, 700.0], [35.0, 725.0], [35.0, 720.0], [36.0, 714.0], [36.0, 850.0], [37.0, 1000.0], [38.5, 920.0], [38.5, 955.0], [39.5, 925.0], [41.0, 975.0], [41.0, 950.0], [9.8, 6.7], [10.5, 7.5], [10.6, 7.0], [11.0, 9.7], [11.2, 9.8], [11.3, 8.7], [11.8, 10.0], [11.8, 9.9], [12.0, 9.8], [12.2, 12.2], [12.4, 13.4], [13.0, 12.2], [14.3, 19.7], [15.0, 19.9]]\n"
     ]
    }
   ],
   "source": [
    "fish_data =[[l,w] for l,w in zip(length, weight)]\n",
    "print(fish_data) #49개의 (도미 35개 + 빙어 14개) 생선 데이터"
   ]
  },
  {
   "cell_type": "markdown",
   "id": "f76a593e",
   "metadata": {},
   "source": [
    "생선의 길이와 무게를 보고 도미와 빙어를 구분하는 규칙을 찾아야 한다.\n",
    "\n",
    "규칙을 찾기 위해서 어떤 특성을 가진 생선이 도미인지 빙어인지를 알려주기위해 정답 데이터를 준비한다.\n",
    "\n",
    "- 두개의 특성을 가진 첫 번째 생선은 도미고 , 두 번째 생선도 도미라는 식으로\n",
    "  각각 어떤 생선인지 답을 만들어야 한다.\n",
    "- 정답 데이터는 도미와 빙어를 대신해 간단히 숫자 1과 0으로 표현한다."
   ]
  },
  {
   "cell_type": "code",
   "execution_count": 8,
   "id": "6ea76033",
   "metadata": {},
   "outputs": [
    {
     "name": "stdout",
     "output_type": "stream",
     "text": [
      "[1, 1, 1, 1, 1, 1, 1, 1, 1, 1, 1, 1, 1, 1, 1, 1, 1, 1, 1, 1, 1, 1, 1, 1, 1, 1, 1, 1, 1, 1, 1, 1, 1, 1, 1, 0, 0, 0, 0, 0, 0, 0, 0, 0, 0, 0, 0, 0, 0]\n"
     ]
    }
   ],
   "source": [
    "# 1: 도미, 0: 빙어\n",
    "fish_target = [1]*35 + [0]*14\n",
    "print(fish_target)"
   ]
  },
  {
   "cell_type": "markdown",
   "id": "1ddc0bad",
   "metadata": {},
   "source": [
    "### 2. 모델 구조 만들기 \n",
    "\n",
    "#### scikitlearn 패키지 설치 및 KNeighborsClassifier객체 생성\n",
    "\n",
    "사이킷런 패키지 설치 후  k-최근접 이웃 알고리즘을 구현한 클래스인 KNeighborsClassifier를 인포트하여 객체를 만들어 사용한다."
   ]
  },
  {
   "cell_type": "code",
   "execution_count": 9,
   "id": "35c82e12",
   "metadata": {},
   "outputs": [
    {
     "name": "stdout",
     "output_type": "stream",
     "text": [
      "Collecting sklearn\n",
      "  Downloading sklearn-0.0.tar.gz (1.1 kB)\n",
      "Collecting scikit-learn\n",
      "  Downloading scikit_learn-0.24.1-cp37-cp37m-win_amd64.whl (6.8 MB)\n",
      "Collecting joblib>=0.11\n",
      "  Downloading joblib-1.0.1-py3-none-any.whl (303 kB)\n",
      "Requirement already satisfied: scipy>=0.19.1 in c:\\programdata\\anaconda3\\envs\\pydata\\lib\\site-packages (from scikit-learn->sklearn) (1.6.2)\n",
      "Requirement already satisfied: numpy>=1.13.3 in c:\\programdata\\anaconda3\\envs\\pydata\\lib\\site-packages (from scikit-learn->sklearn) (1.19.2)\n",
      "Collecting threadpoolctl>=2.0.0\n",
      "  Downloading threadpoolctl-2.1.0-py3-none-any.whl (12 kB)\n",
      "Building wheels for collected packages: sklearn\n",
      "  Building wheel for sklearn (setup.py): started\n",
      "  Building wheel for sklearn (setup.py): finished with status 'done'\n",
      "  Created wheel for sklearn: filename=sklearn-0.0-py2.py3-none-any.whl size=1316 sha256=75c616293bf7382374e1450976a412597c19cb65dcb0ca30a3a9d8d93de7261b\n",
      "  Stored in directory: c:\\users\\playdata\\appdata\\local\\pip\\cache\\wheels\\46\\ef\\c3\\157e41f5ee1372d1be90b09f74f82b10e391eaacca8f22d33e\n",
      "Successfully built sklearn\n",
      "Installing collected packages: threadpoolctl, joblib, scikit-learn, sklearn\n",
      "Successfully installed joblib-1.0.1 scikit-learn-0.24.1 sklearn-0.0 threadpoolctl-2.1.0\n"
     ]
    }
   ],
   "source": [
    "!pip install sklearn"
   ]
  },
  {
   "cell_type": "code",
   "execution_count": 10,
   "id": "cf945ac7",
   "metadata": {},
   "outputs": [],
   "source": [
    "from sklearn.neighbors import KNeighborsClassifier\n",
    "kn = KNeighborsClassifier()"
   ]
  },
  {
   "cell_type": "markdown",
   "id": "8a948c92",
   "metadata": {},
   "source": [
    "### 3. 훈련과정 (training / fit)\n",
    "\n",
    "KNeighborsClassifier 객체에 fish_data와 fish_target을 전달하여 도미를 찾기위한 기준을 학습시킨다.\n",
    "\n",
    "사이킷런에서 fit() 메소드가 주어진 데이터로 알고리즘을 훈련한다.\n",
    "\n",
    "데이터로 훈련시키는 것은 **모델**인데, 여기에선 이미 만들어져있는 KNeighborsClassifier객체(알고리즘)을 사용한다. \n",
    "\n",
    "**※ 머신러닝에서의 모델:** 머신러닝 알고리즘을 구현한 프로그램을 모델(model)이라고 부른다\n",
    "또는 프로그램이 아니더라도 알고리즘을(수식 등으로) 구체화 하여 표현한 것을 모델이라 부른다."
   ]
  },
  {
   "cell_type": "code",
   "execution_count": 11,
   "id": "31b88fa3",
   "metadata": {},
   "outputs": [
    {
     "data": {
      "text/plain": [
       "KNeighborsClassifier()"
      ]
     },
     "execution_count": 11,
     "metadata": {},
     "output_type": "execute_result"
    }
   ],
   "source": [
    "kn.fit(fish_data, fish_target)"
   ]
  },
  {
   "cell_type": "markdown",
   "id": "e654ff9a",
   "metadata": {},
   "source": [
    "### 4. 모델 이용/ 모델 평가\n",
    "\n",
    "- 훈련된 객체(또는 모델) kn이 얼마나 잘 훈련되었는지 평가한다.\n",
    "\n",
    "#### score() 메소드 활용\n",
    "- 사이킷런에는 모델을 평가하는 score() 메소드가 있다.\n",
    "- score() 메소드는 0과 1 사이의 값을 반환한다.1은 모든 데이터를 정확히 맞혔다는 것을 나타내고 0.5는 절반만 맞혔다는 의미이다."
   ]
  },
  {
   "cell_type": "code",
   "execution_count": 12,
   "id": "997fa54a",
   "metadata": {},
   "outputs": [
    {
     "data": {
      "text/plain": [
       "1.0"
      ]
     },
     "execution_count": 12,
     "metadata": {},
     "output_type": "execute_result"
    }
   ],
   "source": [
    "#score()에 넣은 훈련데이터와 정답 데이터는 훈련시 사용한 데이터 셋 그대로이기때문에\n",
    "# 결과가 1.0이다. 이 모델은 모든 데이터를 정확하게 맞칠 수 있다.\n",
    "kn.score(fish_data, fish_target)"
   ]
  },
  {
   "cell_type": "code",
   "execution_count": 13,
   "id": "e8c3c00a",
   "metadata": {},
   "outputs": [
    {
     "data": {
      "image/png": "[encoded data removed]",
      "text/plain": [
       "<Figure size 432x288 with 1 Axes>"
      ]
     },
     "metadata": {
      "needs_background": "light"
     },
     "output_type": "display_data"
    }
   ],
   "source": [
    "#unknown 생선이 도미인지 빙어인지 판단해보자.\n",
    "\n",
    "# scatter plot에 unknown 생선 표기(삼각형)\n",
    "plt.scatter(bream_length, bream_weight)\n",
    "plt.scatter(smelt_length, smelt_weight)\n",
    "plt.scatter(30, 600, marker='^') # 삼각형 \n",
    "plt.xlabel('length')\n",
    "plt.ylabel('weight')\n",
    "plt.show()"
   ]
  },
  {
   "cell_type": "markdown",
   "id": "096855d4",
   "metadata": {},
   "source": [
    "직관적으로 이 삼각형은 도미라고 판단할 것이다. 왜냐하면 삼각형 주변에\n",
    "  다른 도미 데이터가 많기 때문이다.\n",
    "  \n",
    "#### predict() 메소드 활용\n",
    "\n",
    "- k-최근접 이웃 알고리즘도 삼각형 주위에 도미 데이터가 많기 때문에 도미\n",
    "  라고 판단 할 것이다.\n",
    "- 확인을 위해 predict()를 사용하여 새로운 데이터의 정답을 예측할 수 있다.\n",
    "  반환되는 값은 클래스에 해당하는 1 또는 0이 된다.\n",
    "- 이 메소드도 fit()처럼 리스트의 리스트를 전달한다."
   ]
  },
  {
   "cell_type": "code",
   "execution_count": 14,
   "id": "356f4813",
   "metadata": {},
   "outputs": [
    {
     "data": {
      "text/plain": [
       "array([1])"
      ]
     },
     "execution_count": 14,
     "metadata": {},
     "output_type": "execute_result"
    }
   ],
   "source": [
    "#predict(unknown fish data) 결과가 1이라면, 생선은 도미로 분류된다. which is correct.\n",
    "kn.predict([[30,600]])"
   ]
  },
  {
   "cell_type": "markdown",
   "id": "aeba0350",
   "metadata": {},
   "source": [
    "- 새로운 데이터에 대해 예측할 때는 가장 가까운 직선거리에 어떤 데이터가 있는지를 살피면 된다.\n",
    "- KNeighborsClassfier클래스의 \n",
    "         _fit_X속성은  fish_data를 가지고 있다. \n",
    "         _y속성에는 fish_target 을 가지고 있다"
   ]
  },
  {
   "cell_type": "code",
   "execution_count": 17,
   "id": "e902518d",
   "metadata": {},
   "outputs": [
    {
     "name": "stdout",
     "output_type": "stream",
     "text": [
      "[[  25.4  242. ]\n",
      " [  26.3  290. ]\n",
      " [  26.5  340. ]\n",
      " [  29.   363. ]\n",
      " [  29.   430. ]\n",
      " [  29.7  450. ]\n",
      " [  29.7  500. ]\n",
      " [  30.   390. ]\n",
      " [  30.   450. ]\n",
      " [  30.7  500. ]\n",
      " [  31.   475. ]\n",
      " [  31.   500. ]\n",
      " [  31.5  500. ]\n",
      " [  32.   340. ]\n",
      " [  32.   600. ]\n",
      " [  32.   600. ]\n",
      " [  33.   700. ]\n",
      " [  33.   700. ]\n",
      " [  33.5  610. ]\n",
      " [  33.5  650. ]\n",
      " [  34.   575. ]\n",
      " [  34.   685. ]\n",
      " [  34.5  620. ]\n",
      " [  35.   680. ]\n",
      " [  35.   700. ]\n",
      " [  35.   725. ]\n",
      " [  35.   720. ]\n",
      " [  36.   714. ]\n",
      " [  36.   850. ]\n",
      " [  37.  1000. ]\n",
      " [  38.5  920. ]\n",
      " [  38.5  955. ]\n",
      " [  39.5  925. ]\n",
      " [  41.   975. ]\n",
      " [  41.   950. ]\n",
      " [   9.8    6.7]\n",
      " [  10.5    7.5]\n",
      " [  10.6    7. ]\n",
      " [  11.     9.7]\n",
      " [  11.2    9.8]\n",
      " [  11.3    8.7]\n",
      " [  11.8   10. ]\n",
      " [  11.8    9.9]\n",
      " [  12.     9.8]\n",
      " [  12.2   12.2]\n",
      " [  12.4   13.4]\n",
      " [  13.    12.2]\n",
      " [  14.3   19.7]\n",
      " [  15.    19.9]]\n",
      "[1 1 1 1 1 1 1 1 1 1 1 1 1 1 1 1 1 1 1 1 1 1 1 1 1 1 1 1 1 1 1 1 1 1 1 0 0\n",
      " 0 0 0 0 0 0 0 0 0 0 0 0]\n"
     ]
    }
   ],
   "source": [
    "print(kn._fit_X)\n",
    "print(kn._y)"
   ]
  },
  {
   "cell_type": "markdown",
   "id": "549e1e46",
   "metadata": {},
   "source": [
    "### kNN 알고리즘의 n_neighbors\n",
    "\n",
    "- 실제로 k-최근접 이웃 알고리즘은 무언가 훈련하는 것이 fit()메서드에 전달한 \n",
    "  데이터를 모두 저장하고 있다가 새로운 데이터가 등장하면 가장 가까운 데이터를\n",
    "  참고 하여 도미인지 빙어인지 구분한다.\n",
    "  \n",
    "  \n",
    "- 데이터를 참고할 때 기본 값이 5개이다. (n_neighbors = 5)\n",
    "- 이기준은 n_neighbors 매개변수로 바꿀수 있다.\n",
    "\n",
    "#### 만약 모델의 n_neighbors 값을 키운다면??\n",
    "\n",
    "- 만약 참고 데이터를 49개를 사용하는 모델(kn49)을 만들면 오히려 정확도가 떨어지는것을 볼수있다.\n",
    "- unknown fish의 가장 근접 5개 데이터가 아닌, 전체 49개 데이터를 모두 사용하여 predict하려고 하기때문에 정화도가 오히려 떨어지는것이다."
   ]
  },
  {
   "cell_type": "code",
   "execution_count": 19,
   "id": "3ee9c21f",
   "metadata": {},
   "outputs": [
    {
     "data": {
      "text/plain": [
       "0.7142857142857143"
      ]
     },
     "execution_count": 19,
     "metadata": {},
     "output_type": "execute_result"
    }
   ],
   "source": [
    "kn49 = KNeighborsClassifier(n_neighbors = 49) #근접데이터 49개를 사용하는 새로운 kNN 모델 생성\n",
    "kn49.fit(fish_data, fish_target) #모델 훈련\n",
    "kn49.score(fish_data, fish_target) #모델의 정확도 확인"
   ]
  },
  {
   "cell_type": "markdown",
   "id": "d6074d8f",
   "metadata": {},
   "source": [
    "## scikit-learn 정리\n",
    "\n",
    "**n_neighbors()**\n",
    "- KNeighborsClassfier는 k-최근접 이웃 분류 모델을 만드는 scikit-learn 패키지의 클래스이다.\n",
    "- n_neighbors 매개변수로 예측하려는 값의 이웃 데이터 개수를 지정한다. 기본값은 5이다.\n",
    "  \n",
    "  \n",
    "**fit()**  \n",
    "- scikit-learn 모델을 훈련할 때 사용하는 메서드이다. parameter로 특성(훈련용 과거 데이터)과 정답 데이터(과거 데이터를 토대로 이미 결과를 확인한 데이터)를 전달한다.\n",
    "\n",
    "\n",
    "**predict()**\n",
    "- scikit-learn 모델을 훈련 후 예측할 때 사용하는 메소드 이다. 특성 데이터 하나만 받는다.\n",
    "\n",
    "\n",
    "**score()**\n",
    "- 훈련된 scikit-learn 모델의 성능을 측정한다. 특성과 정답 데이터를 전달한다. \n",
    "- 먼저 predict()로 예측 수행 후 분류 모델일 경우 정답과 비교하여 올바르게 예측한 개수의 비율을 반환한다. "
   ]
  }
 ],
 "metadata": {
  "kernelspec": {
   "display_name": "pydata",
   "language": "python",
   "name": "pydata"
  },
  "language_info": {
   "codemirror_mode": {
    "name": "ipython",
    "version": 3
   },
   "file_extension": ".py",
   "mimetype": "text/x-python",
   "name": "python",
   "nbconvert_exporter": "python",
   "pygments_lexer": "ipython3",
   "version": "3.7.10"
  }
 },
 "nbformat": 4,
 "nbformat_minor": 5
}
